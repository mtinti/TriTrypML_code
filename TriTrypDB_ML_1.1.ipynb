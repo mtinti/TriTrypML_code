{
 "cells": [
  {
   "cell_type": "code",
   "execution_count": 1,
   "metadata": {},
   "outputs": [
    {
     "data": {
      "text/html": [
       "<style>\n",
       "div.abstract_text {text-align: justify;text-justify: inter-word;}\n",
       "div.text {text-align: justify; text-justify: inter-word;}\n",
       "</style>"
      ],
      "text/plain": [
       "<IPython.core.display.HTML object>"
      ]
     },
     "execution_count": 1,
     "metadata": {},
     "output_type": "execute_result"
    }
   ],
   "source": [
    "#some style formatting\n",
    "from IPython.display import HTML\n",
    "style = '''<style>\n",
    "div.abstract_text {text-align: justify;text-justify: inter-word;}\n",
    "div.text {text-align: justify; text-justify: inter-word;}\n",
    "</style>'''\n",
    "HTML(style)"
   ]
  },
  {
   "cell_type": "markdown",
   "metadata": {},
   "source": [
    "\n",
    "<img typeof=\"foaf:Image\" src=\"static/ANTI-INFECTIVES-RGB_200pc.png\" alt=\"Wellcome Centre for Anti-Infectives Research\" title=\"\">\n",
    "\n",
    "# ML Analysis for <i>T. brucei</i>\n",
    "\n",
    "Michele Tinti and Michael A.J. Ferguson\n",
    "\n",
    "Wellcome Centre for Anti-Infectives Research\n",
    "School of Life Sciences, University of Dundee\n",
    "   \n",
    "## Motivation\n",
    "<span>\n",
    "<div class=text>\n",
    "To provide a usage example for our ML dataset, we tried to identify descriptors able to discriminate between proteins with long or short half-lives. It is essential to remark that our main interest is not in creating a half-life predictor, as we know the ground truth of this variable for the majority of BSF and PCF proteome. Instead, we are interested in finding if any of the descriptors incorporated in the ML dataset can shed light into the stability of the T. brucei proteome, similarly as if we were to carry out a GO term enrichment analysis using the short/long halfe-life gene sets.  \n",
    "</div> "
   ]
  },
  {
   "cell_type": "code",
   "execution_count": 2,
   "metadata": {
    "hide_input": false
   },
   "outputs": [],
   "source": [
    "#set up code\n",
    "%load_ext autoreload\n",
    "%autoreload 2"
   ]
  },
  {
   "cell_type": "code",
   "execution_count": 3,
   "metadata": {
    "scrolled": true
   },
   "outputs": [
    {
     "name": "stderr",
     "output_type": "stream",
     "text": [
      "Using TensorFlow backend.\n"
     ]
    }
   ],
   "source": [
    "from mylib import scripts\n",
    "%run mylib/scripts.py\n",
    "np.random.seed =1976"
   ]
  },
  {
   "cell_type": "code",
   "execution_count": 4,
   "metadata": {},
   "outputs": [
    {
     "name": "stdout",
     "output_type": "stream",
     "text": [
      "(11832, 2)\n"
     ]
    },
    {
     "data": {
      "text/html": [
       "<div>\n",
       "<style scoped>\n",
       "    .dataframe tbody tr th:only-of-type {\n",
       "        vertical-align: middle;\n",
       "    }\n",
       "\n",
       "    .dataframe tbody tr th {\n",
       "        vertical-align: top;\n",
       "    }\n",
       "\n",
       "    .dataframe thead th {\n",
       "        text-align: right;\n",
       "    }\n",
       "</style>\n",
       "<table border=\"1\" class=\"dataframe\">\n",
       "  <thead>\n",
       "    <tr style=\"text-align: right;\">\n",
       "      <th></th>\n",
       "      <th>Gene ID</th>\n",
       "      <th>Product Description</th>\n",
       "    </tr>\n",
       "  </thead>\n",
       "  <tbody>\n",
       "    <tr>\n",
       "      <th>0</th>\n",
       "      <td>Tb04.24M18.150</td>\n",
       "      <td>hypothetical protein, conserved</td>\n",
       "    </tr>\n",
       "    <tr>\n",
       "      <th>1</th>\n",
       "      <td>Tb04.3I12.100</td>\n",
       "      <td>hypothetical protein</td>\n",
       "    </tr>\n",
       "    <tr>\n",
       "      <th>2</th>\n",
       "      <td>Tb05.30F7.410</td>\n",
       "      <td>hypothetical protein</td>\n",
       "    </tr>\n",
       "    <tr>\n",
       "      <th>3</th>\n",
       "      <td>Tb05.5K5.10</td>\n",
       "      <td>conserved hypothetical protein, conserved (fra...</td>\n",
       "    </tr>\n",
       "    <tr>\n",
       "      <th>4</th>\n",
       "      <td>Tb05.5K5.100</td>\n",
       "      <td>hypothetical protein, conserved</td>\n",
       "    </tr>\n",
       "  </tbody>\n",
       "</table>\n",
       "</div>"
      ],
      "text/plain": [
       "          Gene ID                                Product Description\n",
       "0  Tb04.24M18.150                    hypothetical protein, conserved\n",
       "1   Tb04.3I12.100                               hypothetical protein\n",
       "2   Tb05.30F7.410                               hypothetical protein\n",
       "3     Tb05.5K5.10  conserved hypothetical protein, conserved (fra...\n",
       "4    Tb05.5K5.100                    hypothetical protein, conserved"
      ]
     },
     "execution_count": 4,
     "metadata": {},
     "output_type": "execute_result"
    }
   ],
   "source": [
    "import pandas as pd\n",
    "#load the dataset\n",
    "#final_df = pd.read_csv('indata/GenesByTaxon_Summary_43.zip',sep='\\t')\n",
    "tryp_df = pd.read_csv(os.path.join('input','GenesByTaxon_Summary_45.zip'), sep='\\t')\n",
    "#just to store the gene description\n",
    "tryp_df = tryp_df[['Gene ID','Product Description']]\n",
    "print(tryp_df.shape)\n",
    "tryp_df.head()"
   ]
  },
  {
   "cell_type": "code",
   "execution_count": 5,
   "metadata": {},
   "outputs": [
    {
     "data": {
      "text/html": [
       "<div>\n",
       "<style scoped>\n",
       "    .dataframe tbody tr th:only-of-type {\n",
       "        vertical-align: middle;\n",
       "    }\n",
       "\n",
       "    .dataframe tbody tr th {\n",
       "        vertical-align: top;\n",
       "    }\n",
       "\n",
       "    .dataframe thead th {\n",
       "        text-align: right;\n",
       "    }\n",
       "</style>\n",
       "<table border=\"1\" class=\"dataframe\">\n",
       "  <thead>\n",
       "    <tr style=\"text-align: right;\">\n",
       "      <th></th>\n",
       "      <th>Gene ID</th>\n",
       "      <th>EF_merged_PCF_BSF</th>\n",
       "      <th>EF_LSvSS</th>\n",
       "      <th>EF_CellCycle_min_max</th>\n",
       "      <th>EF_CellCycle_max</th>\n",
       "      <th>EF_CellCycle_min</th>\n",
       "      <th>EF_Abundance_BSF</th>\n",
       "      <th>EF_Abundance_PCF</th>\n",
       "      <th>EF_MW_fc</th>\n",
       "      <th>EF_in_complex</th>\n",
       "      <th>...</th>\n",
       "      <th>PF_ofer_w8: D Entropy</th>\n",
       "      <th>PF_ofer_w8: F Entropy</th>\n",
       "      <th>PF_ofer_w8: G Entropy</th>\n",
       "      <th>PF_ofer_w8: K Entropy</th>\n",
       "      <th>PF_ofer_w8: M Entropy</th>\n",
       "      <th>PF_ofer_w8: N Entropy</th>\n",
       "      <th>PF_ofer_w8: Total Entropy</th>\n",
       "      <th>PF_polarizability aaScale - Window size:17 Average-Trimmed MAX</th>\n",
       "      <th>PF_polarizability aaScale - Window size:17 MAXIMUM</th>\n",
       "      <th>PF_polarizability aaScale - Window size:7 MAXIMUM</th>\n",
       "    </tr>\n",
       "  </thead>\n",
       "  <tbody>\n",
       "    <tr>\n",
       "      <th>0</th>\n",
       "      <td>Tb04.24M18.150</td>\n",
       "      <td>0.402848</td>\n",
       "      <td>NaN</td>\n",
       "      <td>0.000000</td>\n",
       "      <td>0.5</td>\n",
       "      <td>0.5</td>\n",
       "      <td>5.870638</td>\n",
       "      <td>7.631146</td>\n",
       "      <td>229.805300</td>\n",
       "      <td>-1.0</td>\n",
       "      <td>...</td>\n",
       "      <td>2.880418</td>\n",
       "      <td>2.385654</td>\n",
       "      <td>3.339850</td>\n",
       "      <td>2.754888</td>\n",
       "      <td>3.432959</td>\n",
       "      <td>3.252387</td>\n",
       "      <td>2.844283</td>\n",
       "      <td>0.143641</td>\n",
       "      <td>0.170043</td>\n",
       "      <td>0.184429</td>\n",
       "    </tr>\n",
       "    <tr>\n",
       "      <th>1</th>\n",
       "      <td>Tb04.3I12.100</td>\n",
       "      <td>NaN</td>\n",
       "      <td>NaN</td>\n",
       "      <td>NaN</td>\n",
       "      <td>NaN</td>\n",
       "      <td>NaN</td>\n",
       "      <td>NaN</td>\n",
       "      <td>NaN</td>\n",
       "      <td>0.000000</td>\n",
       "      <td>-1.0</td>\n",
       "      <td>...</td>\n",
       "      <td>4.653442</td>\n",
       "      <td>1.405515</td>\n",
       "      <td>2.990477</td>\n",
       "      <td>2.846087</td>\n",
       "      <td>3.916477</td>\n",
       "      <td>2.916477</td>\n",
       "      <td>2.618204</td>\n",
       "      <td>0.173773</td>\n",
       "      <td>0.199140</td>\n",
       "      <td>0.200857</td>\n",
       "    </tr>\n",
       "    <tr>\n",
       "      <th>2</th>\n",
       "      <td>Tb05.30F7.410</td>\n",
       "      <td>NaN</td>\n",
       "      <td>NaN</td>\n",
       "      <td>NaN</td>\n",
       "      <td>NaN</td>\n",
       "      <td>NaN</td>\n",
       "      <td>NaN</td>\n",
       "      <td>NaN</td>\n",
       "      <td>0.000000</td>\n",
       "      <td>-1.0</td>\n",
       "      <td>...</td>\n",
       "      <td>3.313417</td>\n",
       "      <td>3.152952</td>\n",
       "      <td>2.645992</td>\n",
       "      <td>2.493989</td>\n",
       "      <td>3.593525</td>\n",
       "      <td>3.152952</td>\n",
       "      <td>2.916539</td>\n",
       "      <td>0.141305</td>\n",
       "      <td>0.163202</td>\n",
       "      <td>0.169000</td>\n",
       "    </tr>\n",
       "    <tr>\n",
       "      <th>3</th>\n",
       "      <td>Tb05.5K5.10</td>\n",
       "      <td>NaN</td>\n",
       "      <td>NaN</td>\n",
       "      <td>NaN</td>\n",
       "      <td>NaN</td>\n",
       "      <td>NaN</td>\n",
       "      <td>7.606765</td>\n",
       "      <td>7.829130</td>\n",
       "      <td>0.000000</td>\n",
       "      <td>-1.0</td>\n",
       "      <td>...</td>\n",
       "      <td>NaN</td>\n",
       "      <td>NaN</td>\n",
       "      <td>NaN</td>\n",
       "      <td>NaN</td>\n",
       "      <td>NaN</td>\n",
       "      <td>NaN</td>\n",
       "      <td>NaN</td>\n",
       "      <td>NaN</td>\n",
       "      <td>NaN</td>\n",
       "      <td>NaN</td>\n",
       "    </tr>\n",
       "    <tr>\n",
       "      <th>4</th>\n",
       "      <td>Tb05.5K5.100</td>\n",
       "      <td>NaN</td>\n",
       "      <td>NaN</td>\n",
       "      <td>0.263034</td>\n",
       "      <td>11.0</td>\n",
       "      <td>10.0</td>\n",
       "      <td>6.758570</td>\n",
       "      <td>7.772564</td>\n",
       "      <td>20.888992</td>\n",
       "      <td>-1.0</td>\n",
       "      <td>...</td>\n",
       "      <td>3.008562</td>\n",
       "      <td>2.941448</td>\n",
       "      <td>3.493989</td>\n",
       "      <td>2.645992</td>\n",
       "      <td>3.008562</td>\n",
       "      <td>2.313417</td>\n",
       "      <td>2.864546</td>\n",
       "      <td>0.137756</td>\n",
       "      <td>0.165388</td>\n",
       "      <td>0.176571</td>\n",
       "    </tr>\n",
       "  </tbody>\n",
       "</table>\n",
       "<p>5 rows × 1403 columns</p>\n",
       "</div>"
      ],
      "text/plain": [
       "          Gene ID  EF_merged_PCF_BSF  EF_LSvSS  EF_CellCycle_min_max  \\\n",
       "0  Tb04.24M18.150           0.402848       NaN              0.000000   \n",
       "1   Tb04.3I12.100                NaN       NaN                   NaN   \n",
       "2   Tb05.30F7.410                NaN       NaN                   NaN   \n",
       "3     Tb05.5K5.10                NaN       NaN                   NaN   \n",
       "4    Tb05.5K5.100                NaN       NaN              0.263034   \n",
       "\n",
       "   EF_CellCycle_max  EF_CellCycle_min  EF_Abundance_BSF  EF_Abundance_PCF  \\\n",
       "0               0.5               0.5          5.870638          7.631146   \n",
       "1               NaN               NaN               NaN               NaN   \n",
       "2               NaN               NaN               NaN               NaN   \n",
       "3               NaN               NaN          7.606765          7.829130   \n",
       "4              11.0              10.0          6.758570          7.772564   \n",
       "\n",
       "     EF_MW_fc  EF_in_complex  \\\n",
       "0  229.805300           -1.0   \n",
       "1    0.000000           -1.0   \n",
       "2    0.000000           -1.0   \n",
       "3    0.000000           -1.0   \n",
       "4   20.888992           -1.0   \n",
       "\n",
       "                          ...                          PF_ofer_w8: D Entropy  \\\n",
       "0                         ...                                       2.880418   \n",
       "1                         ...                                       4.653442   \n",
       "2                         ...                                       3.313417   \n",
       "3                         ...                                            NaN   \n",
       "4                         ...                                       3.008562   \n",
       "\n",
       "   PF_ofer_w8: F Entropy  PF_ofer_w8: G Entropy  PF_ofer_w8: K Entropy  \\\n",
       "0               2.385654               3.339850               2.754888   \n",
       "1               1.405515               2.990477               2.846087   \n",
       "2               3.152952               2.645992               2.493989   \n",
       "3                    NaN                    NaN                    NaN   \n",
       "4               2.941448               3.493989               2.645992   \n",
       "\n",
       "   PF_ofer_w8: M Entropy  PF_ofer_w8: N Entropy  PF_ofer_w8: Total Entropy  \\\n",
       "0               3.432959               3.252387                   2.844283   \n",
       "1               3.916477               2.916477                   2.618204   \n",
       "2               3.593525               3.152952                   2.916539   \n",
       "3                    NaN                    NaN                        NaN   \n",
       "4               3.008562               2.313417                   2.864546   \n",
       "\n",
       "   PF_polarizability aaScale - Window size:17 Average-Trimmed MAX  \\\n",
       "0                                           0.143641                \n",
       "1                                           0.173773                \n",
       "2                                           0.141305                \n",
       "3                                                NaN                \n",
       "4                                           0.137756                \n",
       "\n",
       "   PF_polarizability aaScale - Window size:17 MAXIMUM   \\\n",
       "0                                           0.170043     \n",
       "1                                           0.199140     \n",
       "2                                           0.163202     \n",
       "3                                                NaN     \n",
       "4                                           0.165388     \n",
       "\n",
       "   PF_polarizability aaScale - Window size:7 MAXIMUM   \n",
       "0                                           0.184429   \n",
       "1                                           0.200857   \n",
       "2                                           0.169000   \n",
       "3                                                NaN   \n",
       "4                                           0.176571   \n",
       "\n",
       "[5 rows x 1403 columns]"
      ]
     },
     "execution_count": 5,
     "metadata": {},
     "output_type": "execute_result"
    }
   ],
   "source": [
    "ml_df=pd.read_csv(os.path.join('output', 'final_df.csv.gz'),index_col=[0])\n",
    "ml_df.head()"
   ]
  },
  {
   "cell_type": "markdown",
   "metadata": {},
   "source": [
    "## Modelling of protein half-life\n",
    "\n",
    "In our recent paper (Tinti, Guther et al. 2019) we used SILAC based mass spectrometry analysis to reveal the synthesis and degradation profiles for thousands of proteins in the bloodstream and procyclic forms of T. brucei. From this dataset we defined a group of stable(long hal-life) and unstable (short hal-life) proteins in the BSF life stage. In particular, We divided the BSF protein half-lives into decile bins, from the less stable to the more stable protein. We then selected 837 proteins (fast half-life) from the first two half-life bins (first and second decile) and 837 protein (long half-life) from the last two half-life bins (ninth and tenth) as the training set for ML analysis. "
   ]
  },
  {
   "cell_type": "code",
   "execution_count": 6,
   "metadata": {},
   "outputs": [
    {
     "name": "stdout",
     "output_type": "stream",
     "text": [
      "Fast: 837 Slow: 837\n"
     ]
    }
   ],
   "source": [
    "turnover_bsf = pd.read_csv(os.path.join('input','turnover','Table_S2.zip'), \n",
    "                           index_col=[0], dtype={'bins':str})\n",
    "turnover_bsf = turnover_bsf[turnover_bsf['used_for_analysis']==1]\n",
    "#print('bin','size')\n",
    "#print(turnover_bsf['bins'].value_counts())\n",
    "fast = list(turnover_bsf[(turnover_bsf['bins']=='1') | (turnover_bsf['bins']=='2')].index.values) #| (turnover_bsf['bins']=='2.0')].index.values\n",
    "slow = list(turnover_bsf[(turnover_bsf['bins']=='10') | (turnover_bsf['bins']=='9') ].index.values)# | (turnover_bsf['bins']=='10.0')].index.values\n",
    "print('Fast:',len(fast),'Slow:',len(slow))\n",
    "target_dict ={}\n",
    "for n in fast:\n",
    "    target_dict[n]=1\n",
    "for n in slow:\n",
    "    target_dict[n]=0"
   ]
  },
  {
   "cell_type": "code",
   "execution_count": 7,
   "metadata": {},
   "outputs": [],
   "source": [
    "ml_df['target']=[target_dict.get(n,np.nan) for n in ml_df['Gene ID']]"
   ]
  },
  {
   "cell_type": "code",
   "execution_count": 8,
   "metadata": {},
   "outputs": [],
   "source": [
    "#ml_df = ml_df[ml_df.isna().sum(axis=1)<8]\n",
    "#ml_df = pd.concat([ml_df.sort_values('target').tail(538),\n",
    "#                   ml_df.sort_values('target').head(538)])\n",
    "#ml_df['target'].value_counts()"
   ]
  },
  {
   "cell_type": "code",
   "execution_count": 9,
   "metadata": {},
   "outputs": [
    {
     "data": {
      "text/html": [
       "<div>\n",
       "<style scoped>\n",
       "    .dataframe tbody tr th:only-of-type {\n",
       "        vertical-align: middle;\n",
       "    }\n",
       "\n",
       "    .dataframe tbody tr th {\n",
       "        vertical-align: top;\n",
       "    }\n",
       "\n",
       "    .dataframe thead th {\n",
       "        text-align: right;\n",
       "    }\n",
       "</style>\n",
       "<table border=\"1\" class=\"dataframe\">\n",
       "  <thead>\n",
       "    <tr style=\"text-align: right;\">\n",
       "      <th></th>\n",
       "      <th>Gene ID</th>\n",
       "      <th>EF_merged_PCF_BSF</th>\n",
       "      <th>EF_LSvSS</th>\n",
       "      <th>EF_CellCycle_min_max</th>\n",
       "      <th>EF_CellCycle_max</th>\n",
       "      <th>EF_CellCycle_min</th>\n",
       "      <th>EF_Abundance_BSF</th>\n",
       "      <th>EF_Abundance_PCF</th>\n",
       "      <th>EF_MW_fc</th>\n",
       "      <th>EF_in_complex</th>\n",
       "      <th>...</th>\n",
       "      <th>PF_ofer_w8: F Entropy</th>\n",
       "      <th>PF_ofer_w8: G Entropy</th>\n",
       "      <th>PF_ofer_w8: K Entropy</th>\n",
       "      <th>PF_ofer_w8: M Entropy</th>\n",
       "      <th>PF_ofer_w8: N Entropy</th>\n",
       "      <th>PF_ofer_w8: Total Entropy</th>\n",
       "      <th>PF_polarizability aaScale - Window size:17 Average-Trimmed MAX</th>\n",
       "      <th>PF_polarizability aaScale - Window size:17 MAXIMUM</th>\n",
       "      <th>PF_polarizability aaScale - Window size:7 MAXIMUM</th>\n",
       "      <th>target</th>\n",
       "    </tr>\n",
       "  </thead>\n",
       "  <tbody>\n",
       "    <tr>\n",
       "      <th>16</th>\n",
       "      <td>Tb05.5K5.210</td>\n",
       "      <td>-1.994036</td>\n",
       "      <td>NaN</td>\n",
       "      <td>NaN</td>\n",
       "      <td>NaN</td>\n",
       "      <td>NaN</td>\n",
       "      <td>8.097232</td>\n",
       "      <td>NaN</td>\n",
       "      <td>0.000000</td>\n",
       "      <td>-1.0</td>\n",
       "      <td>...</td>\n",
       "      <td>2.757094</td>\n",
       "      <td>3.121368</td>\n",
       "      <td>3.300918</td>\n",
       "      <td>3.003532</td>\n",
       "      <td>2.698677</td>\n",
       "      <td>2.923863</td>\n",
       "      <td>0.135305</td>\n",
       "      <td>0.163401</td>\n",
       "      <td>0.173857</td>\n",
       "      <td>1.0</td>\n",
       "    </tr>\n",
       "    <tr>\n",
       "      <th>123</th>\n",
       "      <td>Tb09.v4.0015</td>\n",
       "      <td>NaN</td>\n",
       "      <td>NaN</td>\n",
       "      <td>0.263034</td>\n",
       "      <td>8.0</td>\n",
       "      <td>0.5</td>\n",
       "      <td>7.749779</td>\n",
       "      <td>6.103549</td>\n",
       "      <td>165.901100</td>\n",
       "      <td>-1.0</td>\n",
       "      <td>...</td>\n",
       "      <td>2.813587</td>\n",
       "      <td>2.728698</td>\n",
       "      <td>3.214125</td>\n",
       "      <td>3.050626</td>\n",
       "      <td>2.857981</td>\n",
       "      <td>2.799830</td>\n",
       "      <td>0.134870</td>\n",
       "      <td>0.164299</td>\n",
       "      <td>0.166429</td>\n",
       "      <td>1.0</td>\n",
       "    </tr>\n",
       "    <tr>\n",
       "      <th>627</th>\n",
       "      <td>Tb11.02.5070b</td>\n",
       "      <td>NaN</td>\n",
       "      <td>NaN</td>\n",
       "      <td>0.137504</td>\n",
       "      <td>3.0</td>\n",
       "      <td>0.5</td>\n",
       "      <td>7.300305</td>\n",
       "      <td>7.716082</td>\n",
       "      <td>129.376070</td>\n",
       "      <td>-1.0</td>\n",
       "      <td>...</td>\n",
       "      <td>2.758611</td>\n",
       "      <td>3.055592</td>\n",
       "      <td>2.936948</td>\n",
       "      <td>2.827323</td>\n",
       "      <td>2.975422</td>\n",
       "      <td>2.918737</td>\n",
       "      <td>0.141482</td>\n",
       "      <td>0.169737</td>\n",
       "      <td>0.173571</td>\n",
       "      <td>1.0</td>\n",
       "    </tr>\n",
       "    <tr>\n",
       "      <th>908</th>\n",
       "      <td>Tb11.v5.0154</td>\n",
       "      <td>NaN</td>\n",
       "      <td>NaN</td>\n",
       "      <td>0.000000</td>\n",
       "      <td>0.5</td>\n",
       "      <td>0.5</td>\n",
       "      <td>7.911051</td>\n",
       "      <td>7.178399</td>\n",
       "      <td>46.476665</td>\n",
       "      <td>-1.0</td>\n",
       "      <td>...</td>\n",
       "      <td>3.199156</td>\n",
       "      <td>3.257259</td>\n",
       "      <td>3.004140</td>\n",
       "      <td>2.803227</td>\n",
       "      <td>2.665724</td>\n",
       "      <td>2.941697</td>\n",
       "      <td>0.143002</td>\n",
       "      <td>0.164262</td>\n",
       "      <td>0.175571</td>\n",
       "      <td>0.0</td>\n",
       "    </tr>\n",
       "    <tr>\n",
       "      <th>945</th>\n",
       "      <td>Tb11.v5.0191</td>\n",
       "      <td>NaN</td>\n",
       "      <td>NaN</td>\n",
       "      <td>0.263034</td>\n",
       "      <td>0.5</td>\n",
       "      <td>3.0</td>\n",
       "      <td>6.970981</td>\n",
       "      <td>6.841282</td>\n",
       "      <td>90.802986</td>\n",
       "      <td>-1.0</td>\n",
       "      <td>...</td>\n",
       "      <td>2.376376</td>\n",
       "      <td>3.047068</td>\n",
       "      <td>2.961338</td>\n",
       "      <td>3.452325</td>\n",
       "      <td>2.574315</td>\n",
       "      <td>2.913004</td>\n",
       "      <td>0.148845</td>\n",
       "      <td>0.179181</td>\n",
       "      <td>0.187571</td>\n",
       "      <td>1.0</td>\n",
       "    </tr>\n",
       "  </tbody>\n",
       "</table>\n",
       "<p>5 rows × 1404 columns</p>\n",
       "</div>"
      ],
      "text/plain": [
       "           Gene ID  EF_merged_PCF_BSF  EF_LSvSS  EF_CellCycle_min_max  \\\n",
       "16    Tb05.5K5.210          -1.994036       NaN                   NaN   \n",
       "123   Tb09.v4.0015                NaN       NaN              0.263034   \n",
       "627  Tb11.02.5070b                NaN       NaN              0.137504   \n",
       "908   Tb11.v5.0154                NaN       NaN              0.000000   \n",
       "945   Tb11.v5.0191                NaN       NaN              0.263034   \n",
       "\n",
       "     EF_CellCycle_max  EF_CellCycle_min  EF_Abundance_BSF  EF_Abundance_PCF  \\\n",
       "16                NaN               NaN          8.097232               NaN   \n",
       "123               8.0               0.5          7.749779          6.103549   \n",
       "627               3.0               0.5          7.300305          7.716082   \n",
       "908               0.5               0.5          7.911051          7.178399   \n",
       "945               0.5               3.0          6.970981          6.841282   \n",
       "\n",
       "       EF_MW_fc  EF_in_complex   ...    PF_ofer_w8: F Entropy  \\\n",
       "16     0.000000           -1.0   ...                 2.757094   \n",
       "123  165.901100           -1.0   ...                 2.813587   \n",
       "627  129.376070           -1.0   ...                 2.758611   \n",
       "908   46.476665           -1.0   ...                 3.199156   \n",
       "945   90.802986           -1.0   ...                 2.376376   \n",
       "\n",
       "     PF_ofer_w8: G Entropy  PF_ofer_w8: K Entropy  PF_ofer_w8: M Entropy  \\\n",
       "16                3.121368               3.300918               3.003532   \n",
       "123               2.728698               3.214125               3.050626   \n",
       "627               3.055592               2.936948               2.827323   \n",
       "908               3.257259               3.004140               2.803227   \n",
       "945               3.047068               2.961338               3.452325   \n",
       "\n",
       "     PF_ofer_w8: N Entropy  PF_ofer_w8: Total Entropy  \\\n",
       "16                2.698677                   2.923863   \n",
       "123               2.857981                   2.799830   \n",
       "627               2.975422                   2.918737   \n",
       "908               2.665724                   2.941697   \n",
       "945               2.574315                   2.913004   \n",
       "\n",
       "     PF_polarizability aaScale - Window size:17 Average-Trimmed MAX  \\\n",
       "16                                            0.135305                \n",
       "123                                           0.134870                \n",
       "627                                           0.141482                \n",
       "908                                           0.143002                \n",
       "945                                           0.148845                \n",
       "\n",
       "     PF_polarizability aaScale - Window size:17 MAXIMUM   \\\n",
       "16                                            0.163401     \n",
       "123                                           0.164299     \n",
       "627                                           0.169737     \n",
       "908                                           0.164262     \n",
       "945                                           0.179181     \n",
       "\n",
       "     PF_polarizability aaScale - Window size:7 MAXIMUM   target  \n",
       "16                                            0.173857      1.0  \n",
       "123                                           0.166429      1.0  \n",
       "627                                           0.173571      1.0  \n",
       "908                                           0.175571      0.0  \n",
       "945                                           0.187571      1.0  \n",
       "\n",
       "[5 rows x 1404 columns]"
      ]
     },
     "execution_count": 9,
     "metadata": {},
     "output_type": "execute_result"
    }
   ],
   "source": [
    "X = ml_df.dropna(subset=['target'])\n",
    "X.head()"
   ]
  },
  {
   "cell_type": "code",
   "execution_count": 10,
   "metadata": {},
   "outputs": [],
   "source": [
    "X=X.dropna(axis=0, how='all')\n",
    "X=X.dropna(axis=1, how='all')"
   ]
  },
  {
   "cell_type": "markdown",
   "metadata": {},
   "source": [
    "### Creating the actual dataset"
   ]
  },
  {
   "cell_type": "code",
   "execution_count": 11,
   "metadata": {},
   "outputs": [
    {
     "name": "stdout",
     "output_type": "stream",
     "text": [
      "(1674, 1400) (1674,)\n"
     ]
    },
    {
     "data": {
      "text/plain": [
       "0.0    837\n",
       "1.0    837\n",
       "Name: target, dtype: int64"
      ]
     },
     "execution_count": 11,
     "metadata": {},
     "output_type": "execute_result"
    }
   ],
   "source": [
    "y=X['target']\n",
    "del X['target']\n",
    "del X['Gene ID']\n",
    "del  X['SF_Prot_Coding']\n",
    "print(X.shape,y.shape)\n",
    "y.value_counts()"
   ]
  },
  {
   "cell_type": "markdown",
   "metadata": {},
   "source": [
    "When the number of descriptors (columns of the dataset) is similar or exceed the number of training instances (rows in the dataset), ML algorithms are prone to overfitting, i.e. learning associations with the response variable (fast or long half-lives) originating just by chance [12]. Intending to reduce the number of descriptors, we eliminated 277 features that correlate to other features with a Pearson correlation coefficient of 0.75 or higher. We "
   ]
  },
  {
   "cell_type": "code",
   "execution_count": 12,
   "metadata": {},
   "outputs": [
    {
     "name": "stdout",
     "output_type": "stream",
     "text": [
      "Removing: 274 features\n"
     ]
    }
   ],
   "source": [
    "# very crude removal of high correlated features\n",
    "# Create correlation matrix\n",
    "corr_matrix = X.corr().abs()\n",
    "\n",
    "# Select upper triangle of correlation matrix\n",
    "upper = corr_matrix.where(np.triu(np.ones(corr_matrix.shape), k=1).astype(np.bool))\n",
    "\n",
    "# Find index of feature columns with correlation greater than 0.75\n",
    "to_drop = [column for column in upper.columns if any(upper[column] > 0.75)]\n",
    "print('Removing:',len(to_drop), 'features')"
   ]
  },
  {
   "cell_type": "code",
   "execution_count": 13,
   "metadata": {},
   "outputs": [
    {
     "name": "stdout",
     "output_type": "stream",
     "text": [
      "(1674, 1400)\n",
      "(1674, 1126)\n"
     ]
    }
   ],
   "source": [
    "print(X.shape)\n",
    "X=X.drop(to_drop, axis=1)\n",
    "print(X.shape)"
   ]
  },
  {
   "cell_type": "code",
   "execution_count": 14,
   "metadata": {},
   "outputs": [],
   "source": [
    "#[ n for n in X.columns if 'Abundance' in n]"
   ]
  },
  {
   "cell_type": "markdown",
   "metadata": {},
   "source": [
    "### Imput missing values"
   ]
  },
  {
   "cell_type": "markdown",
   "metadata": {},
   "source": [
    "We imputed missing values in the categorical variables with a fake -1 class. On the other hand, the missing values of continue variables where replaced by the variable means. "
   ]
  },
  {
   "cell_type": "code",
   "execution_count": 15,
   "metadata": {},
   "outputs": [
    {
     "data": {
      "application/vnd.jupyter.widget-view+json": {
       "model_id": "6542dd802d824dbc8cdfacaeec715d11",
       "version_major": 2,
       "version_minor": 0
      },
      "text/plain": [
       "HBox(children=(IntProgress(value=0, max=1126), HTML(value='')))"
      ]
     },
     "metadata": {},
     "output_type": "display_data"
    },
    {
     "name": "stdout",
     "output_type": "stream",
     "text": [
      "\n"
     ]
    }
   ],
   "source": [
    "#Strategy to input missing values / optional but usefull for \n",
    "#visualization of the feature importance\n",
    "X = scripts.input_missing_values(X, X.columns)"
   ]
  },
  {
   "cell_type": "markdown",
   "metadata": {},
   "source": [
    "### First Train"
   ]
  },
  {
   "cell_type": "markdown",
   "metadata": {},
   "source": [
    "We then trained a random forest algorithm implemented in LightGBM [33] to discriminate between proteins with fast or slow half-lives. Before training, we removed 35% of the training instances (blind) to evaluate the training progression on a subset of instances never seen by the predictor. The LightGBM algorithm was trained with a three-fold cross-validation (CV) strategy. With this strategy, the input data is divided into 3 subsets (also known as folds). Afterwards, The ML algorithm is trained on all but one of the subsets and evaluated on the subset that was not used for training. The process repeats 3 times, with a different subset reserved for evaluation (and excluded from training) each time. In this way, all the data is used once for both training and evaluation. The LightGBM algorithm starts the training with just one tree in the random forest and evaluates the prediction performance using the evaluation subset. With an iterative process, the algorithm adds one tree to the random forest and evaluates the prediction performance again. This process continues until the addition of a tree to the random forest model does not improve the prediction performance (early stopping). At each step, The LightGBM algorithm evaluates the prediction performance using the receiver operating characteristic curve (ROC) area under the curve (AUC) score (mean 0.75). "
   ]
  },
  {
   "cell_type": "code",
   "execution_count": 16,
   "metadata": {
    "scrolled": false
   },
   "outputs": [
    {
     "name": "stdout",
     "output_type": "stream",
     "text": [
      "DataSet size\n",
      "X_train: (1088, 1126) X_test: (586, 1126) y_train: (1088,) y_test (586,) \n",
      " 1.0    293\n",
      "0.0    293\n",
      "Name: target, dtype: int64\n"
     ]
    },
    {
     "data": {
      "application/vnd.jupyter.widget-view+json": {
       "model_id": "bc330ac48bfe45898b25c635e5917e27",
       "version_major": 2,
       "version_minor": 0
      },
      "text/plain": [
       "HBox(children=(IntProgress(value=0, max=5), HTML(value='')))"
      ]
     },
     "metadata": {},
     "output_type": "display_data"
    },
    {
     "name": "stdout",
     "output_type": "stream",
     "text": [
      "\n"
     ]
    },
    {
     "data": {
      "image/png": "[encoded data removed]",
      "text/plain": [
       "<Figure size 432x288 with 1 Axes>"
      ]
     },
     "metadata": {
      "needs_background": "light"
     },
     "output_type": "display_data"
    },
    {
     "name": "stdout",
     "output_type": "stream",
     "text": [
      "              precision    recall  f1-score   support\n",
      "\n",
      "         0.0       0.67      0.72      0.69       272\n",
      "         1.0       0.74      0.69      0.71       314\n",
      "\n",
      "    accuracy                           0.70       586\n",
      "   macro avg       0.70      0.71      0.70       586\n",
      "weighted avg       0.71      0.70      0.71       586\n",
      "\n",
      "1 dummy_roc_auc_score: 0.5034161925193545\n",
      "1 blind_roc_auc_score: 0.7058355189209442\n",
      "\n",
      "Confusion Matrix\n",
      "[[196  76]\n",
      " [ 97 217]]\n"
     ]
    },
    {
     "data": {
      "image/png": "[encoded data removed]",
      "text/plain": [
       "<Figure size 432x288 with 1 Axes>"
      ]
     },
     "metadata": {
      "needs_background": "light"
     },
     "output_type": "display_data"
    },
    {
     "data": {
      "text/plain": [
       "{'objective': 'binary',\n",
       " 'min_data_in_leaf': 5,\n",
       " 'n_jobs': 8,\n",
       " 'boosting_type': 'rf',\n",
       " 'bagging_fraction': 0.7,\n",
       " 'feature_fraction': 0.7,\n",
       " 'bagging_freq': 1,\n",
       " 'n_estimators': 14,\n",
       " 'max_depth': 5}"
      ]
     },
     "execution_count": 16,
     "metadata": {},
     "output_type": "execute_result"
    }
   ],
   "source": [
    "params = {\n",
    "            'objective': 'binary',\n",
    "            'min_data_in_leaf':5,\n",
    "            'n_jobs':8,\n",
    "            'boosting_type':\"rf\",\n",
    "            'bagging_fraction':0.7,\n",
    "            'feature_fraction':0.7,\n",
    "            'bagging_freq' : 1,\n",
    "            'n_estimators' : 100,\n",
    "            'max_depth' : 5\n",
    "            }\n",
    "\n",
    "fitted_model, params, blind_score = scripts.run_lgb(X, y, params)\n",
    "params"
   ]
  },
  {
   "cell_type": "markdown",
   "metadata": {},
   "source": [
    "At the end of the CV strategy, a new model is trained with all the data used for the CV step and evaluated on the blind dataset (AUC = 0.679). The blind ROC AUC score suggested that the algorithm is separating proteins with fast and long half-lives better than random.  The number of trees to evaluate the model on the blind dataset was chosen from the CV strategy. At each CV round, the algorithm records the number of trees used.  By inspecting the training history, we selected 14 trees equal to the maximum number of trees used in any of the three CV steps. This optimised model, respect to the number of tree in the forest, was used to shrink further the number of relevant features. "
   ]
  },
  {
   "cell_type": "markdown",
   "metadata": {},
   "source": [
    "### Feature Selection\n",
    "#### Boruta\n",
    "We first applied the Boruta methods [34] to identify all the features carrying information usable for prediction (82). Briefly, the Boruta algorithm randomises all descriptors in the dataset and evaluates the randomise features, looking if they are less or more important of the real features in separating fast and slow turnover protein. If the real features are better than the shuffled copies, they are marked as important."
   ]
  },
  {
   "cell_type": "code",
   "execution_count": 17,
   "metadata": {},
   "outputs": [
    {
     "name": "stdout",
     "output_type": "stream",
     "text": [
      "boruta will take some times to run\n"
     ]
    },
    {
     "data": {
      "application/vnd.jupyter.widget-view+json": {
       "model_id": "18e0439d1b4143f99bb854057f3280b5",
       "version_major": 2,
       "version_minor": 0
      },
      "text/plain": [
       "HBox(children=(IntProgress(value=0, description='boruta iter', style=ProgressStyle(description_width='initial'…"
      ]
     },
     "metadata": {},
     "output_type": "display_data"
    },
    {
     "name": "stdout",
     "output_type": "stream",
     "text": [
      "[ True False  True ... False  True  True]\n",
      "['EF_merged_PCF_BSF', 'EF_CellCycle_min_max', 'EF_CellCycle_max', 'EF_CellCycle_min', 'EF_Abundance_BSF', 'EF_Abundance_PCF', 'EF_MW_fc', 'EF_prot_BSF_to_PCF_1_min_max', 'EF_prot_BSF_to_PCF_1_max', 'EF_prot_BSF_to_PCF_1_min', 'EF_ma_BSF_to_PCF_1_min_max', 'EF_fc_glucose_1', 'EF_fc_glucose_2', 'EF_fc_glucose_3', 'EF_RNA_BSF_to_PCF_anti_min_max', 'EF_RNA_BSF_to_PCF_sen_min_max', 'EF_RNA_BSF_to_PCF_sen_max', 'EF_RNA_BSF_to_PCF_sen_min', 'EF_mRNA_BSF_vs_PCF', 'SF_SNPs1', 'ELM_LIG_SUMO_SIM_anti_2', 'PF_AA: K Frequency', 'PF_AA: L Frequency', 'PF_AA: V Frequency', 'PF_AA: Y Frequency', 'PF_Binary AutoCorrellation (K,R):  Lag:12', 'PF_Charge Distribution2001', 'PF_Disorder Propensity Composition:1', 'PF_Disorder Propensity Distribution2001', 'PF_Disorder Propensity Distribution2050', 'PF_Disorder Propensity Distribution2075', 'PF_Disorder Propensity Transitions:12', 'PF_Disorder_3:  Mirror K-mer : AAAAD', 'PF_Disorder_3:  Mirror K-mer : AAADA', 'PF_Disorder_3:  Mirror K-mer : AACAC', 'PF_Disorder_3:  Mirror K-mer : AACCC', 'PF_Disorder_3:  Mirror K-mer : ACCCA', 'PF_Disorder_3:  Mirror K-mer : CAACC', 'PF_Disorder_3:  Mirror K-mer : CCACC', 'PF_Mutability aaScale - Window size:17 Average-Trimmed MAX', 'PF_Potential N-Glycosylation Sites:Frequency', 'PF_Secondary Str Distribution3001', 'PF_Secondary Str Transitions:12', 'PF_Secondary Str Transitions:13', 'PF_SecondaryStr_3:  Mirror K-mer : AACCA', 'PF_SecondaryStr_3:  Mirror K-mer : ADDAD', 'PF_SecondaryStr_3:  Mirror K-mer : DADDD', 'PF_SecondaryStr_3:  Mirror K-mer : DDADD', 'PF_Solvent Accessibility Transitions:23', 'PF_SolventA_3:  Mirror K-mer : AAAAD', 'PF_SolventA_3:  Mirror K-mer : AAAAH', 'PF_SolventA_3:  Mirror K-mer : AAADA', 'PF_SolventA_3:  Mirror K-mer : AAAHD', 'PF_SolventA_3:  Mirror K-mer : AADAA', 'PF_SolventA_3:  Mirror K-mer : ADDDD', 'PF_SolventA_3:  Mirror K-mer : AHAAH', 'PF_SolventA_3:  Mirror K-mer : AHAHA', 'PF_SolventA_3:  Mirror K-mer : DAAAH', 'PF_SolventA_3:  Mirror K-mer : DADDD', 'PF_SolventA_3:  Mirror K-mer : DDADD', 'PF_SolventA_3:  Mirror K-mer : DDDDD', 'PF_SolventA_3:  Mirror K-mer : DDHDH', 'PF_SubSequence(segment-0)  aaScale:4TOP_IDP Average', 'PF_SubSequence(segment-0)  aaScale:4TOP_IDP Minimum', 'PF_SubSequence(segment-0)  aaScale:4hp Average', 'PF_gg_4 aaScale - Window size:17 Average-Trimmed MAX', 'PF_gg_5 aaScale - Window size:17 MAXIMUM ', 'PF_gg_7 aaScale - Window size:17 MAXIMUM ', 'PF_hp2: AAAAC', 'PF_hp2: AACCA', 'PF_hp2: AACCC', 'PF_hp2: ACCCA', 'PF_hp2: CAAAC', 'PF_hp2: CAACC', 'PF_hp2: CACCA', 'PF_hp2: CCAAA', 'PF_hp2: CCAAC', 'PF_hp2: CCACA', 'PF_ofer14:  Mirror K-mer : AI', 'PF_ofer14:  Mirror K-mer : DD', 'PF_ofer14:  Mirror K-mer : FI', 'PF_ofer14:  Mirror K-mer : IS', 'PF_ofer14:  Mirror K-mer : KS', 'PF_ofer_w8: AA: C Frequency', 'PF_ofer_w8: AA: N Frequency']\n"
     ]
    }
   ],
   "source": [
    "print('boruta will take some times to run')\n",
    "rf_params = {'class_weight':'balanced',\n",
    "             'max_depth':params['max_depth'],\n",
    "             'n_jobs':8, 'n_estimators':params['n_estimators'],\n",
    "             'min_samples_leaf':params['min_data_in_leaf']\n",
    "            }\n",
    "\n",
    "#X.fillna(X.mean()).replace(-np.inf,-999).replace(np.inf,999)\n",
    "score_df = scripts.boruta_select(\n",
    "    X, y, rf_params)\n",
    "selected_features = list(score_df[score_df['support']]['f'])\n",
    "print(selected_features)"
   ]
  },
  {
   "cell_type": "code",
   "execution_count": 18,
   "metadata": {},
   "outputs": [],
   "source": [
    "#from mylib import make_roc_cv"
   ]
  },
  {
   "cell_type": "code",
   "execution_count": 19,
   "metadata": {
    "scrolled": false
   },
   "outputs": [
    {
     "name": "stdout",
     "output_type": "stream",
     "text": [
      "second round\n",
      "DataSet size\n",
      "X_train: (1088, 85) X_test: (586, 85) y_train: (1088,) y_test (586,) \n",
      " 1.0    293\n",
      "0.0    293\n",
      "Name: target, dtype: int64\n"
     ]
    },
    {
     "data": {
      "application/vnd.jupyter.widget-view+json": {
       "model_id": "c41bf765789142bf923f86192fee9353",
       "version_major": 2,
       "version_minor": 0
      },
      "text/plain": [
       "HBox(children=(IntProgress(value=0, max=5), HTML(value='')))"
      ]
     },
     "metadata": {},
     "output_type": "display_data"
    },
    {
     "name": "stdout",
     "output_type": "stream",
     "text": [
      "\n"
     ]
    },
    {
     "data": {
      "image/png": "[encoded data removed]",
      "text/plain": [
       "<Figure size 432x288 with 1 Axes>"
      ]
     },
     "metadata": {
      "needs_background": "light"
     },
     "output_type": "display_data"
    },
    {
     "name": "stdout",
     "output_type": "stream",
     "text": [
      "              precision    recall  f1-score   support\n",
      "\n",
      "         0.0       0.65      0.73      0.69       259\n",
      "         1.0       0.76      0.69      0.72       327\n",
      "\n",
      "    accuracy                           0.71       586\n",
      "   macro avg       0.71      0.71      0.71       586\n",
      "weighted avg       0.71      0.71      0.71       586\n",
      "\n",
      "1 dummy_roc_auc_score: 0.4931644270250093\n",
      "1 blind_roc_auc_score: 0.7093030120553057\n",
      "\n",
      "Confusion Matrix\n",
      "[[190  69]\n",
      " [103 224]]\n"
     ]
    },
    {
     "data": {
      "image/png": "[encoded data removed]",
      "text/plain": [
       "<Figure size 432x288 with 1 Axes>"
      ]
     },
     "metadata": {
      "needs_background": "light"
     },
     "output_type": "display_data"
    }
   ],
   "source": [
    "#second round\n",
    "print('second round')\n",
    "fitted_model, params , blind_score= scripts.run_lgb(X[selected_features], y, params)"
   ]
  },
  {
   "cell_type": "markdown",
   "metadata": {},
   "source": [
    "#### ELI5\n",
    "In a further step feature selection, we applied a different permutation importance strategy implemented in the ELI5 python package [35]. In this case, only one feature at a time is randomised, and the performance of the model evaluated. If the performance of the model decreases after randomisation (lower AUC score), the feature is annotated as important. The randomization process was performed three times with a different random seed and the average feature score difference stored. As the ELI5 strategy is more computationally expensive than the Boruta algorithm, the former was executed before the latter. "
   ]
  },
  {
   "cell_type": "code",
   "execution_count": 20,
   "metadata": {},
   "outputs": [
    {
     "name": "stdout",
     "output_type": "stream",
     "text": [
      "ELI5 will take some times to run\n"
     ]
    },
    {
     "data": {
      "application/vnd.jupyter.widget-view+json": {
       "model_id": "b43da09c876f41b8a2e6fff6b34fd55b",
       "version_major": 2,
       "version_minor": 0
      },
      "text/plain": [
       "HBox(children=(IntProgress(value=0, description='n iter', max=10, style=ProgressStyle(description_width='initi…"
      ]
     },
     "metadata": {},
     "output_type": "display_data"
    },
    {
     "data": {
      "application/vnd.jupyter.widget-view+json": {
       "model_id": "a47f1ff5ddfb44a399049e32b8a6ff7b",
       "version_major": 2,
       "version_minor": 0
      },
      "text/plain": [
       "HBox(children=(IntProgress(value=0, description='iter column', max=85, style=ProgressStyle(description_width='…"
      ]
     },
     "metadata": {},
     "output_type": "display_data"
    },
    {
     "name": "stdout",
     "output_type": "stream",
     "text": [
      "\n"
     ]
    },
    {
     "data": {
      "application/vnd.jupyter.widget-view+json": {
       "model_id": "39fb6d357b2e4881b0793c8dc580f737",
       "version_major": 2,
       "version_minor": 0
      },
      "text/plain": [
       "HBox(children=(IntProgress(value=0, description='iter column', max=85, style=ProgressStyle(description_width='…"
      ]
     },
     "metadata": {},
     "output_type": "display_data"
    },
    {
     "name": "stdout",
     "output_type": "stream",
     "text": [
      "\n"
     ]
    },
    {
     "data": {
      "application/vnd.jupyter.widget-view+json": {
       "model_id": "e627437ea1264bcaa95aa64a2ec03d89",
       "version_major": 2,
       "version_minor": 0
      },
      "text/plain": [
       "HBox(children=(IntProgress(value=0, description='iter column', max=85, style=ProgressStyle(description_width='…"
      ]
     },
     "metadata": {},
     "output_type": "display_data"
    },
    {
     "name": "stdout",
     "output_type": "stream",
     "text": [
      "\n"
     ]
    },
    {
     "data": {
      "application/vnd.jupyter.widget-view+json": {
       "model_id": "191e4c6452564a368021651b98c15d22",
       "version_major": 2,
       "version_minor": 0
      },
      "text/plain": [
       "HBox(children=(IntProgress(value=0, description='iter column', max=85, style=ProgressStyle(description_width='…"
      ]
     },
     "metadata": {},
     "output_type": "display_data"
    },
    {
     "name": "stdout",
     "output_type": "stream",
     "text": [
      "\n"
     ]
    },
    {
     "data": {
      "application/vnd.jupyter.widget-view+json": {
       "model_id": "523f4faef6f04290802c8929534eab65",
       "version_major": 2,
       "version_minor": 0
      },
      "text/plain": [
       "HBox(children=(IntProgress(value=0, description='iter column', max=85, style=ProgressStyle(description_width='…"
      ]
     },
     "metadata": {},
     "output_type": "display_data"
    },
    {
     "name": "stdout",
     "output_type": "stream",
     "text": [
      "\n"
     ]
    },
    {
     "data": {
      "application/vnd.jupyter.widget-view+json": {
       "model_id": "727f3a9770f642ed852e7caa5e90acbe",
       "version_major": 2,
       "version_minor": 0
      },
      "text/plain": [
       "HBox(children=(IntProgress(value=0, description='iter column', max=85, style=ProgressStyle(description_width='…"
      ]
     },
     "metadata": {},
     "output_type": "display_data"
    },
    {
     "name": "stdout",
     "output_type": "stream",
     "text": [
      "\n"
     ]
    },
    {
     "data": {
      "application/vnd.jupyter.widget-view+json": {
       "model_id": "fb69f6600a6744bea3d8727cb372130f",
       "version_major": 2,
       "version_minor": 0
      },
      "text/plain": [
       "HBox(children=(IntProgress(value=0, description='iter column', max=85, style=ProgressStyle(description_width='…"
      ]
     },
     "metadata": {},
     "output_type": "display_data"
    },
    {
     "name": "stdout",
     "output_type": "stream",
     "text": [
      "\n"
     ]
    },
    {
     "data": {
      "application/vnd.jupyter.widget-view+json": {
       "model_id": "8cc48319f7e04137a9739a99ea10b96d",
       "version_major": 2,
       "version_minor": 0
      },
      "text/plain": [
       "HBox(children=(IntProgress(value=0, description='iter column', max=85, style=ProgressStyle(description_width='…"
      ]
     },
     "metadata": {},
     "output_type": "display_data"
    },
    {
     "name": "stdout",
     "output_type": "stream",
     "text": [
      "\n"
     ]
    },
    {
     "data": {
      "application/vnd.jupyter.widget-view+json": {
       "model_id": "c96363f6ab474fcbbea24461311d4f16",
       "version_major": 2,
       "version_minor": 0
      },
      "text/plain": [
       "HBox(children=(IntProgress(value=0, description='iter column', max=85, style=ProgressStyle(description_width='…"
      ]
     },
     "metadata": {},
     "output_type": "display_data"
    },
    {
     "name": "stdout",
     "output_type": "stream",
     "text": [
      "\n"
     ]
    },
    {
     "data": {
      "application/vnd.jupyter.widget-view+json": {
       "model_id": "5ff348469b3742858729e68eedde88ef",
       "version_major": 2,
       "version_minor": 0
      },
      "text/plain": [
       "HBox(children=(IntProgress(value=0, description='iter column', max=85, style=ProgressStyle(description_width='…"
      ]
     },
     "metadata": {},
     "output_type": "display_data"
    },
    {
     "name": "stdout",
     "output_type": "stream",
     "text": [
      "\n",
      "\n"
     ]
    }
   ],
   "source": [
    "#ELI5 f selection\n",
    "print('ELI5 will take some times to run')\n",
    "score_df = scripts.eli_select(X[selected_features], y, params)"
   ]
  },
  {
   "cell_type": "code",
   "execution_count": 21,
   "metadata": {},
   "outputs": [
    {
     "data": {
      "text/html": [
       "<div>\n",
       "<style scoped>\n",
       "    .dataframe tbody tr th:only-of-type {\n",
       "        vertical-align: middle;\n",
       "    }\n",
       "\n",
       "    .dataframe tbody tr th {\n",
       "        vertical-align: top;\n",
       "    }\n",
       "\n",
       "    .dataframe thead th {\n",
       "        text-align: right;\n",
       "    }\n",
       "</style>\n",
       "<table border=\"1\" class=\"dataframe\">\n",
       "  <thead>\n",
       "    <tr style=\"text-align: right;\">\n",
       "      <th></th>\n",
       "      <th>fimp</th>\n",
       "      <th>f</th>\n",
       "    </tr>\n",
       "  </thead>\n",
       "  <tbody>\n",
       "    <tr>\n",
       "      <th>4</th>\n",
       "      <td>0.074313</td>\n",
       "      <td>EF_Abundance_BSF</td>\n",
       "    </tr>\n",
       "    <tr>\n",
       "      <th>3</th>\n",
       "      <td>0.061529</td>\n",
       "      <td>EF_CellCycle_min</td>\n",
       "    </tr>\n",
       "    <tr>\n",
       "      <th>0</th>\n",
       "      <td>0.041398</td>\n",
       "      <td>EF_merged_PCF_BSF</td>\n",
       "    </tr>\n",
       "    <tr>\n",
       "      <th>1</th>\n",
       "      <td>0.018100</td>\n",
       "      <td>EF_CellCycle_min_max</td>\n",
       "    </tr>\n",
       "    <tr>\n",
       "      <th>12</th>\n",
       "      <td>0.013919</td>\n",
       "      <td>EF_fc_glucose_2</td>\n",
       "    </tr>\n",
       "    <tr>\n",
       "      <th>11</th>\n",
       "      <td>0.011290</td>\n",
       "      <td>EF_fc_glucose_1</td>\n",
       "    </tr>\n",
       "    <tr>\n",
       "      <th>21</th>\n",
       "      <td>0.010215</td>\n",
       "      <td>PF_AA: K Frequency</td>\n",
       "    </tr>\n",
       "    <tr>\n",
       "      <th>73</th>\n",
       "      <td>0.009379</td>\n",
       "      <td>PF_hp2: CAACC</td>\n",
       "    </tr>\n",
       "    <tr>\n",
       "      <th>17</th>\n",
       "      <td>0.008901</td>\n",
       "      <td>EF_RNA_BSF_to_PCF_sen_min</td>\n",
       "    </tr>\n",
       "    <tr>\n",
       "      <th>58</th>\n",
       "      <td>0.008065</td>\n",
       "      <td>PF_SolventA_3:  Mirror K-mer : DADDD</td>\n",
       "    </tr>\n",
       "    <tr>\n",
       "      <th>2</th>\n",
       "      <td>0.008005</td>\n",
       "      <td>EF_CellCycle_max</td>\n",
       "    </tr>\n",
       "    <tr>\n",
       "      <th>74</th>\n",
       "      <td>0.007407</td>\n",
       "      <td>PF_hp2: CACCA</td>\n",
       "    </tr>\n",
       "    <tr>\n",
       "      <th>6</th>\n",
       "      <td>0.006511</td>\n",
       "      <td>EF_MW_fc</td>\n",
       "    </tr>\n",
       "    <tr>\n",
       "      <th>27</th>\n",
       "      <td>0.006452</td>\n",
       "      <td>PF_Disorder Propensity Composition:1</td>\n",
       "    </tr>\n",
       "    <tr>\n",
       "      <th>50</th>\n",
       "      <td>0.005556</td>\n",
       "      <td>PF_SolventA_3:  Mirror K-mer : AAAAH</td>\n",
       "    </tr>\n",
       "  </tbody>\n",
       "</table>\n",
       "</div>"
      ],
      "text/plain": [
       "        fimp                                     f\n",
       "4   0.074313                      EF_Abundance_BSF\n",
       "3   0.061529                      EF_CellCycle_min\n",
       "0   0.041398                     EF_merged_PCF_BSF\n",
       "1   0.018100                  EF_CellCycle_min_max\n",
       "12  0.013919                       EF_fc_glucose_2\n",
       "11  0.011290                       EF_fc_glucose_1\n",
       "21  0.010215                    PF_AA: K Frequency\n",
       "73  0.009379                         PF_hp2: CAACC\n",
       "17  0.008901             EF_RNA_BSF_to_PCF_sen_min\n",
       "58  0.008065  PF_SolventA_3:  Mirror K-mer : DADDD\n",
       "2   0.008005                      EF_CellCycle_max\n",
       "74  0.007407                         PF_hp2: CACCA\n",
       "6   0.006511                              EF_MW_fc\n",
       "27  0.006452  PF_Disorder Propensity Composition:1\n",
       "50  0.005556  PF_SolventA_3:  Mirror K-mer : AAAAH"
      ]
     },
     "execution_count": 21,
     "metadata": {},
     "output_type": "execute_result"
    }
   ],
   "source": [
    "#ELI5 df\n",
    "score_df.sort_values('fimp',ascending=False).head(15)"
   ]
  },
  {
   "cell_type": "code",
   "execution_count": 22,
   "metadata": {},
   "outputs": [
    {
     "name": "stdout",
     "output_type": "stream",
     "text": [
      "final round\n",
      "DataSet size\n",
      "X_train: (1088, 5) X_test: (586, 5) y_train: (1088,) y_test (586,) \n",
      " 1.0    293\n",
      "0.0    293\n",
      "Name: target, dtype: int64\n"
     ]
    },
    {
     "data": {
      "application/vnd.jupyter.widget-view+json": {
       "model_id": "b9154e7508394381bf92993e65d997f8",
       "version_major": 2,
       "version_minor": 0
      },
      "text/plain": [
       "HBox(children=(IntProgress(value=0, max=5), HTML(value='')))"
      ]
     },
     "metadata": {},
     "output_type": "display_data"
    },
    {
     "name": "stdout",
     "output_type": "stream",
     "text": [
      "\n"
     ]
    },
    {
     "data": {
      "image/png": "[encoded data removed]",
      "text/plain": [
       "<Figure size 432x288 with 1 Axes>"
      ]
     },
     "metadata": {
      "needs_background": "light"
     },
     "output_type": "display_data"
    },
    {
     "name": "stdout",
     "output_type": "stream",
     "text": [
      "              precision    recall  f1-score   support\n",
      "\n",
      "         0.0       0.70      0.74      0.72       275\n",
      "         1.0       0.76      0.71      0.74       311\n",
      "\n",
      "    accuracy                           0.73       586\n",
      "   macro avg       0.73      0.73      0.73       586\n",
      "weighted avg       0.73      0.73      0.73       586\n",
      "\n",
      "1 dummy_roc_auc_score: 0.5153698198985837\n",
      "1 blind_roc_auc_score: 0.7278222741888337\n",
      "\n",
      "Confusion Matrix\n",
      "[[204  71]\n",
      " [ 89 222]]\n"
     ]
    },
    {
     "data": {
      "image/png": "[encoded data removed]",
      "text/plain": [
       "<Figure size 432x288 with 1 Axes>"
      ]
     },
     "metadata": {
      "needs_background": "light"
     },
     "output_type": "display_data"
    }
   ],
   "source": [
    "selected_features = list(score_df[score_df['fimp']>0.013]['f'])\n",
    "#final round\n",
    "print('final round')\n",
    "fitted_model, params, blind_score = scripts.run_lgb(X[selected_features],y, params)    "
   ]
  },
  {
   "cell_type": "markdown",
   "metadata": {},
   "source": [
    "From the ELI5 ranked list of feature, we selected an arbitrary threshold of 0.015 (increase in ROC AUC score ) to select the 5 descriptors, namely: 1) 'EF_Abundance_BSF', the relative protein abundance in the BSF life stage; 2) 'EF_CellCycle_min', the time point showing the minimum protein abundance during the PCF cell cycle; 3) 'EF_fc_glucose_1', the log 2 fold change in abundance between glucose fed and glucose starve SS BSF cells; 4) 'EF_merged_PCF_BSF, the log 2 fold change of the PCF versus the BSF protein abundance, 5) 'EF_CellCycle_min_max', the log2 fold change between the minimum and maximum protein abundance value during the PCF cell cycle. We than retrained the classifier with the identified features to evaluate the performance on the blind dataset with the ROC AUC value. "
   ]
  },
  {
   "cell_type": "code",
   "execution_count": 23,
   "metadata": {},
   "outputs": [
    {
     "data": {
      "text/plain": [
       "(5,\n",
       " ['EF_merged_PCF_BSF',\n",
       "  'EF_CellCycle_min_max',\n",
       "  'EF_CellCycle_min',\n",
       "  'EF_Abundance_BSF',\n",
       "  'EF_fc_glucose_2'])"
      ]
     },
     "execution_count": 23,
     "metadata": {},
     "output_type": "execute_result"
    }
   ],
   "source": [
    "len(selected_features),selected_features"
   ]
  },
  {
   "cell_type": "markdown",
   "metadata": {},
   "source": [
    "### Feature Importance\n",
    "\n",
    "The importance of these selected features was visualised with the SHAP (SHapley Additive exPlanations) values. The SHAP values aggregate five different rank feature methods into one, by using an algorithm first developed for game theory. This algorithm aims at explaining the prediction of an instance (protein) by computing the contribution of each feature to the prediction. In particular, this framework assigns to each protein a SHAP value (positive for fast half-lives, negative for long half-lives), and the absolute sum of the SHAP values adds to the feature importance. Consequently, the visualization of the feature importance can be visualised along with the feature effect.(https://github.com/slundberg/shap)."
   ]
  },
  {
   "cell_type": "code",
   "execution_count": 24,
   "metadata": {},
   "outputs": [],
   "source": [
    "#Now we use the SHAP scoring system to visualise \n",
    "#the most important features for the model\n",
    "explainer = shap.TreeExplainer(fitted_model)\n",
    "shap_values = explainer.shap_values(X[selected_features])\n",
    "#shap.summary_plot(shap_values, \n",
    "                  #train[train_features],\n",
    "                  #max_display=100)"
   ]
  },
  {
   "cell_type": "code",
   "execution_count": 25,
   "metadata": {},
   "outputs": [
    {
     "data": {
      "image/png": "[encoded data removed]",
      "text/plain": [
       "<Figure size 576x360 with 2 Axes>"
      ]
     },
     "metadata": {},
     "output_type": "display_data"
    }
   ],
   "source": [
    "plt.style.use('ggplot')\n",
    "shap.summary_plot(shap_values, \n",
    "                  X[selected_features], \n",
    "                  feature_names=troncate_name(list(X[selected_features].columns)),\n",
    "                  max_display=10,show=False)\n",
    "\n",
    "f = plt.gcf()\n",
    "f.set_size_inches(8,5)\n",
    "plt.title('Feature Importance',fontsize=16)\n",
    "plt.xticks(fontsize=16)\n",
    "plt.yticks(fontsize=16)\n",
    "plt.xlabel('SHAP value',fontsize=16)\n",
    "plt.tight_layout()\n",
    "plt.savefig(os.path.join('figures','example_1','Fig_1.png'))\n",
    "plt.savefig(os.path.join('figures','example_1','Fig_1.svg'))\n",
    "plt.savefig(os.path.join('figures','example_1','Fig_1.eps'), format='eps')\n",
    "plt.show()\n",
    "#print(r)"
   ]
  },
  {
   "cell_type": "markdown",
   "metadata": {},
   "source": [
    "In this figure the position of the feature on the y-axis of is determined by the feature importance, and the dots (protein/training instances) on the x-axis are arranged accordingly to the SHAP values. The dots are also jittered in the y-axis direction to assess the distribution. The colour code of the dots reflects the value of the feature from low (blue) to high (red). This visualization highlights the relationship between the value of a feature and the impact on the prediction. For example, training instances with low values of the protein abundance in the BSF life stage ('EF_Abundance_BSF') have the highest SHAP values, meaning that low protein abundance values are pushing the model towards a fast half-life prediction."
   ]
  },
  {
   "cell_type": "markdown",
   "metadata": {},
   "source": [
    "### Feature Analysis"
   ]
  },
  {
   "cell_type": "code",
   "execution_count": 26,
   "metadata": {
    "scrolled": false
   },
   "outputs": [
    {
     "data": {
      "image/png": "[encoded data removed]",
      "text/plain": [
       "<Figure size 864x1152 with 8 Axes>"
      ]
     },
     "metadata": {},
     "output_type": "display_data"
    }
   ],
   "source": [
    "fig,axes = plt.subplots(figsize=(12,16), nrows=4,ncols=2)\n",
    "labels = ['A','B','C','D','E','F','G']\n",
    "\n",
    "mapping_dict = {\n",
    "    0:[0,0],\n",
    "    1:[0,1],\n",
    "    2:[1,0],\n",
    "    3:[1,1],    \n",
    "    4:[2,0],\n",
    "    5:[2,1], \n",
    "    6:[3,0],\n",
    "               }\n",
    "\n",
    "for n, f in enumerate(selected_features):\n",
    "    a,b=mapping_dict[n][0],mapping_dict[n][1]\n",
    "    if f == 'EF_CellCycle_min':\n",
    "        shap.dependence_plot(n, shap_values, \n",
    "                    X[selected_features],\n",
    "                             interaction_index =None, \n",
    "                             x_jitter=0.2,\n",
    "                             show=False,ax=axes[a][b])\n",
    "    else:\n",
    "        shap.dependence_plot(n, shap_values, \n",
    "                    X[selected_features],\n",
    "                            interaction_index =None,\n",
    "                            show=False,\n",
    "                            ax=axes[a][b])\n",
    "    \n",
    "    axes[a][b].set_title(f, fontsize=12)\n",
    "    axes[a][b].set_ylabel('SHAP Values')\n",
    "    axes[a][b].set_xlabel('Feature Values')\n",
    "    axes[a][b].text(-0.1, 1.1, labels[n]+')', \n",
    "                               horizontalalignment='center',\n",
    "               verticalalignment='center',\n",
    "               transform=axes[a][b].transAxes,fontsize=12)\n",
    "\n",
    "    \n",
    "axes[3][1].set_axis_off()     \n",
    "plt.tight_layout()\n",
    "plt.savefig(os.path.join('figures','example_1','Fig_2.png'))\n",
    "plt.savefig(os.path.join('figures','example_1','Fig_2.svg'))\n",
    "plt.savefig(os.path.join('figures','example_1','Fig_2.eps'), format='eps')\n",
    "plt.show()\n"
   ]
  },
  {
   "cell_type": "code",
   "execution_count": 29,
   "metadata": {},
   "outputs": [
    {
     "name": "stderr",
     "output_type": "stream",
     "text": [
      "[NbConvertApp] Converting notebook TriTrypDB_ML_1.1.ipynb to html_toc\n",
      "[NbConvertApp] Support files will be in TriTrypDB_ML_1.1_files\\\n",
      "[NbConvertApp] Making directory TriTrypDB_ML_1.1_files\n",
      "[NbConvertApp] Making directory TriTrypDB_ML_1.1_files\n",
      "[NbConvertApp] Making directory TriTrypDB_ML_1.1_files\n",
      "[NbConvertApp] Making directory TriTrypDB_ML_1.1_files\n",
      "[NbConvertApp] Making directory TriTrypDB_ML_1.1_files\n",
      "[NbConvertApp] Making directory TriTrypDB_ML_1.1_files\n",
      "[NbConvertApp] Making directory TriTrypDB_ML_1.1_files\n",
      "[NbConvertApp] Making directory TriTrypDB_ML_1.1_files\n",
      "[NbConvertApp] Writing 337916 bytes to TriTrypDB_ML_1.1.html\n"
     ]
    }
   ],
   "source": [
    "!jupyter nbconvert --to html_toc TriTrypDB_ML_1.1.ipynb"
   ]
  },
  {
   "cell_type": "code",
   "execution_count": null,
   "metadata": {},
   "outputs": [],
   "source": []
  }
 ],
 "metadata": {
  "kernelspec": {
   "display_name": "Python 3",
   "language": "python",
   "name": "python3"
  },
  "language_info": {
   "codemirror_mode": {
    "name": "ipython",
    "version": 3
   },
   "file_extension": ".py",
   "mimetype": "text/x-python",
   "name": "python",
   "nbconvert_exporter": "python",
   "pygments_lexer": "ipython3",
   "version": "3.6.8"
  },
  "toc": {
   "base_numbering": 1,
   "nav_menu": {
    "height": "11.8333px",
    "width": "160px"
   },
   "number_sections": true,
   "sideBar": true,
   "skip_h1_title": false,
   "title_cell": "Table of Contents",
   "title_sidebar": "Contents",
   "toc_cell": false,
   "toc_position": {
    "height": "566.167px",
    "left": "82px",
    "top": "110.433px",
    "width": "304.333px"
   },
   "toc_section_display": true,
   "toc_window_display": true
  }
 },
 "nbformat": 4,
 "nbformat_minor": 2
}
