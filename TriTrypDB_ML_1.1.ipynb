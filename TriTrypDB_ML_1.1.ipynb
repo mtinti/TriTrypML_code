{
 "cells": [
  {
   "cell_type": "code",
   "execution_count": 1,
   "metadata": {},
   "outputs": [
    {
     "data": {
      "text/html": [
       "<style>\n",
       "div.abstract_text {text-align: justify;text-justify: inter-word;}\n",
       "div.text {text-align: justify; text-justify: inter-word;}\n",
       "</style>"
      ],
      "text/plain": [
       "<IPython.core.display.HTML object>"
      ]
     },
     "execution_count": 1,
     "metadata": {},
     "output_type": "execute_result"
    }
   ],
   "source": [
    "#some style formatting\n",
    "from IPython.display import HTML\n",
    "style = '''<style>\n",
    "div.abstract_text {text-align: justify;text-justify: inter-word;}\n",
    "div.text {text-align: justify; text-justify: inter-word;}\n",
    "</style>'''\n",
    "HTML(style)"
   ]
  },
  {
   "cell_type": "markdown",
   "metadata": {},
   "source": [
    "\n",
    "<img typeof=\"foaf:Image\" src=\"static/ANTI-INFECTIVES-RGB_200pc.png\" alt=\"Wellcome Centre for Anti-Infectives Research\" title=\"\">\n",
    "\n",
    "# ML Analysis for <i>T. brucei</i>\n",
    "\n",
    "Michele Tinti and Michael A.J. Ferguson\n",
    "\n",
    "Wellcome Centre for Anti-Infectives Research\n",
    "School of Life Sciences, University of Dundee\n",
    "   \n",
    "## Motivation\n",
    "<span>\n",
    "<div class=text>\n",
    "To provide a usage example for our ML dataset, we tried to identify descriptors able to discriminate between proteins with long or short half-lives. It is essential to remark that our main interest is not in creating a half-life predictor, as we know the ground truth of this variable for the majority of BSF and PCF proteome [13]. Instead, we are interested in finding if any of the descriptors incorporated in the ML dataset can shed light into the stability of the T. brucei proteome, similarly as if we were to carry out a GO term enrichment analysis using the short/long halfe-life gene sets.  \n",
    "</div> "
   ]
  },
  {
   "cell_type": "code",
   "execution_count": 2,
   "metadata": {
    "hide_input": false
   },
   "outputs": [],
   "source": [
    "#set up code\n",
    "%load_ext autoreload\n",
    "%autoreload 2"
   ]
  },
  {
   "cell_type": "code",
   "execution_count": 3,
   "metadata": {
    "scrolled": true
   },
   "outputs": [
    {
     "name": "stderr",
     "output_type": "stream",
     "text": [
      "Using TensorFlow backend.\n"
     ]
    }
   ],
   "source": [
    "from mylib import scripts\n",
    "%run mylib/scripts.py\n",
    "np.random.seed =1976"
   ]
  },
  {
   "cell_type": "code",
   "execution_count": 4,
   "metadata": {},
   "outputs": [
    {
     "name": "stdout",
     "output_type": "stream",
     "text": [
      "(11832, 2)\n"
     ]
    }
   ],
   "source": [
    "import pandas as pd\n",
    "#load the dataset\n",
    "#final_df = pd.read_csv('indata/GenesByTaxon_Summary_43.zip',sep='\\t')\n",
    "tryp_df = pd.read_csv(os.path.join('input','GenesByTaxon_Summary_44.zip'), sep='\\t')\n",
    "#just to store the gene description\n",
    "tryp_df = tryp_df[['Gene ID','Product Description']]\n",
    "tryp_df.head()\n",
    "print(tryp_df.shape)\n"
   ]
  },
  {
   "cell_type": "code",
   "execution_count": 6,
   "metadata": {},
   "outputs": [
    {
     "data": {
      "text/html": [
       "<div>\n",
       "<style scoped>\n",
       "    .dataframe tbody tr th:only-of-type {\n",
       "        vertical-align: middle;\n",
       "    }\n",
       "\n",
       "    .dataframe tbody tr th {\n",
       "        vertical-align: top;\n",
       "    }\n",
       "\n",
       "    .dataframe thead th {\n",
       "        text-align: right;\n",
       "    }\n",
       "</style>\n",
       "<table border=\"1\" class=\"dataframe\">\n",
       "  <thead>\n",
       "    <tr style=\"text-align: right;\">\n",
       "      <th></th>\n",
       "      <th>Unnamed: 0</th>\n",
       "      <th>Gene ID</th>\n",
       "      <th>EF_merged_PCF_BSF</th>\n",
       "      <th>EF_SS_QProt</th>\n",
       "      <th>EF_CellCycle_min_max</th>\n",
       "      <th>EF_CellCycle_max</th>\n",
       "      <th>EF_CellCycle_min</th>\n",
       "      <th>EF_Abundance_BSF</th>\n",
       "      <th>EF_Abundance_PCF</th>\n",
       "      <th>EF_MW_fc</th>\n",
       "      <th>...</th>\n",
       "      <th>ELM_TRG_NLS_MonoExtN_4</th>\n",
       "      <th>ELM_TRG_Pf-PMV_PEXEL_1</th>\n",
       "      <th>ELM_TRG_PTS1</th>\n",
       "      <th>ELM_TRG_PTS2</th>\n",
       "      <th>ELM_CLV</th>\n",
       "      <th>ELM_DEG</th>\n",
       "      <th>ELM_DOC</th>\n",
       "      <th>ELM_LIG</th>\n",
       "      <th>ELM_MOD</th>\n",
       "      <th>ELM_TRG</th>\n",
       "    </tr>\n",
       "  </thead>\n",
       "  <tbody>\n",
       "    <tr>\n",
       "      <th>0</th>\n",
       "      <td>0</td>\n",
       "      <td>Tb04.24M18.150</td>\n",
       "      <td>0.402848</td>\n",
       "      <td>NaN</td>\n",
       "      <td>0.000000</td>\n",
       "      <td>0.5</td>\n",
       "      <td>0.5</td>\n",
       "      <td>5.870638</td>\n",
       "      <td>7.631146</td>\n",
       "      <td>229.805300</td>\n",
       "      <td>...</td>\n",
       "      <td>1.0</td>\n",
       "      <td>3.0</td>\n",
       "      <td>0.0</td>\n",
       "      <td>0.0</td>\n",
       "      <td>7.0</td>\n",
       "      <td>1.0</td>\n",
       "      <td>2.0</td>\n",
       "      <td>16.0</td>\n",
       "      <td>14.0</td>\n",
       "      <td>5.0</td>\n",
       "    </tr>\n",
       "    <tr>\n",
       "      <th>1</th>\n",
       "      <td>1</td>\n",
       "      <td>Tb04.3I12.100</td>\n",
       "      <td>NaN</td>\n",
       "      <td>NaN</td>\n",
       "      <td>NaN</td>\n",
       "      <td>NaN</td>\n",
       "      <td>NaN</td>\n",
       "      <td>NaN</td>\n",
       "      <td>NaN</td>\n",
       "      <td>0.000000</td>\n",
       "      <td>...</td>\n",
       "      <td>0.0</td>\n",
       "      <td>0.0</td>\n",
       "      <td>0.0</td>\n",
       "      <td>0.0</td>\n",
       "      <td>8.0</td>\n",
       "      <td>1.0</td>\n",
       "      <td>10.0</td>\n",
       "      <td>31.0</td>\n",
       "      <td>13.0</td>\n",
       "      <td>4.0</td>\n",
       "    </tr>\n",
       "    <tr>\n",
       "      <th>2</th>\n",
       "      <td>2</td>\n",
       "      <td>Tb05.30F7.410</td>\n",
       "      <td>NaN</td>\n",
       "      <td>NaN</td>\n",
       "      <td>NaN</td>\n",
       "      <td>NaN</td>\n",
       "      <td>NaN</td>\n",
       "      <td>NaN</td>\n",
       "      <td>NaN</td>\n",
       "      <td>0.000000</td>\n",
       "      <td>...</td>\n",
       "      <td>1.0</td>\n",
       "      <td>0.0</td>\n",
       "      <td>0.0</td>\n",
       "      <td>0.0</td>\n",
       "      <td>14.0</td>\n",
       "      <td>1.0</td>\n",
       "      <td>9.0</td>\n",
       "      <td>19.0</td>\n",
       "      <td>18.0</td>\n",
       "      <td>3.0</td>\n",
       "    </tr>\n",
       "    <tr>\n",
       "      <th>3</th>\n",
       "      <td>3</td>\n",
       "      <td>Tb05.5K5.10</td>\n",
       "      <td>NaN</td>\n",
       "      <td>NaN</td>\n",
       "      <td>NaN</td>\n",
       "      <td>NaN</td>\n",
       "      <td>NaN</td>\n",
       "      <td>7.606765</td>\n",
       "      <td>7.829130</td>\n",
       "      <td>0.000000</td>\n",
       "      <td>...</td>\n",
       "      <td>0.0</td>\n",
       "      <td>0.0</td>\n",
       "      <td>0.0</td>\n",
       "      <td>0.0</td>\n",
       "      <td>1.0</td>\n",
       "      <td>1.0</td>\n",
       "      <td>2.0</td>\n",
       "      <td>1.0</td>\n",
       "      <td>1.0</td>\n",
       "      <td>0.0</td>\n",
       "    </tr>\n",
       "    <tr>\n",
       "      <th>4</th>\n",
       "      <td>4</td>\n",
       "      <td>Tb05.5K5.100</td>\n",
       "      <td>NaN</td>\n",
       "      <td>NaN</td>\n",
       "      <td>0.263034</td>\n",
       "      <td>11.0</td>\n",
       "      <td>10.0</td>\n",
       "      <td>6.758570</td>\n",
       "      <td>7.772564</td>\n",
       "      <td>20.888992</td>\n",
       "      <td>...</td>\n",
       "      <td>1.0</td>\n",
       "      <td>4.0</td>\n",
       "      <td>0.0</td>\n",
       "      <td>0.0</td>\n",
       "      <td>14.0</td>\n",
       "      <td>0.0</td>\n",
       "      <td>7.0</td>\n",
       "      <td>15.0</td>\n",
       "      <td>39.0</td>\n",
       "      <td>9.0</td>\n",
       "    </tr>\n",
       "  </tbody>\n",
       "</table>\n",
       "<p>5 rows × 1410 columns</p>\n",
       "</div>"
      ],
      "text/plain": [
       "   Unnamed: 0         Gene ID  EF_merged_PCF_BSF  EF_SS_QProt  \\\n",
       "0           0  Tb04.24M18.150           0.402848          NaN   \n",
       "1           1   Tb04.3I12.100                NaN          NaN   \n",
       "2           2   Tb05.30F7.410                NaN          NaN   \n",
       "3           3     Tb05.5K5.10                NaN          NaN   \n",
       "4           4    Tb05.5K5.100                NaN          NaN   \n",
       "\n",
       "   EF_CellCycle_min_max  EF_CellCycle_max  EF_CellCycle_min  EF_Abundance_BSF  \\\n",
       "0              0.000000               0.5               0.5          5.870638   \n",
       "1                   NaN               NaN               NaN               NaN   \n",
       "2                   NaN               NaN               NaN               NaN   \n",
       "3                   NaN               NaN               NaN          7.606765   \n",
       "4              0.263034              11.0              10.0          6.758570   \n",
       "\n",
       "   EF_Abundance_PCF    EF_MW_fc   ...     ELM_TRG_NLS_MonoExtN_4  \\\n",
       "0          7.631146  229.805300   ...                        1.0   \n",
       "1               NaN    0.000000   ...                        0.0   \n",
       "2               NaN    0.000000   ...                        1.0   \n",
       "3          7.829130    0.000000   ...                        0.0   \n",
       "4          7.772564   20.888992   ...                        1.0   \n",
       "\n",
       "   ELM_TRG_Pf-PMV_PEXEL_1  ELM_TRG_PTS1  ELM_TRG_PTS2  ELM_CLV  ELM_DEG  \\\n",
       "0                     3.0           0.0           0.0      7.0      1.0   \n",
       "1                     0.0           0.0           0.0      8.0      1.0   \n",
       "2                     0.0           0.0           0.0     14.0      1.0   \n",
       "3                     0.0           0.0           0.0      1.0      1.0   \n",
       "4                     4.0           0.0           0.0     14.0      0.0   \n",
       "\n",
       "   ELM_DOC  ELM_LIG  ELM_MOD  ELM_TRG  \n",
       "0      2.0     16.0     14.0      5.0  \n",
       "1     10.0     31.0     13.0      4.0  \n",
       "2      9.0     19.0     18.0      3.0  \n",
       "3      2.0      1.0      1.0      0.0  \n",
       "4      7.0     15.0     39.0      9.0  \n",
       "\n",
       "[5 rows x 1410 columns]"
      ]
     },
     "execution_count": 6,
     "metadata": {},
     "output_type": "execute_result"
    }
   ],
   "source": [
    "ml_df=pd.read_csv(os.path.join('output', 'final_df.gz'))\n",
    "ml_df.head()"
   ]
  },
  {
   "cell_type": "markdown",
   "metadata": {},
   "source": [
    "## Modelling of protein stability\n",
    "\n",
    "In our recent paper (Tinti, Guther et al. 2019) we used SILAC based mass spectrometry analysis to reveal the synthesis and degradation profiles for thousands of proteins in the bloodstream and procyclic forms of T. brucei. From this dataset we defined a group of stable (slow turnover) and unstable (fast turnover) proteins in the BSF life stage. In particular, We divided the BSF protein half-lives into decile bins, from the less stable to the more stable protein. We then selected 837 proteins (fast half-life) from the first two half-life bins (first and second decile) and 837 protein (slow half-life) from the last two half-life bins (ninth and tenth) as the training set for ML analysis. "
   ]
  },
  {
   "cell_type": "code",
   "execution_count": 7,
   "metadata": {},
   "outputs": [
    {
     "name": "stdout",
     "output_type": "stream",
     "text": [
      "Fast: 837 Slow: 837\n"
     ]
    }
   ],
   "source": [
    "turnover_bsf = pd.read_csv(os.path.join('input','turnover','Table_S2.zip'), \n",
    "                           index_col=[0], dtype={'bins':str})\n",
    "turnover_bsf = turnover_bsf[turnover_bsf['used_for_analysis']==1]\n",
    "#print('bin','size')\n",
    "#print(turnover_bsf['bins'].value_counts())\n",
    "fast = list(turnover_bsf[(turnover_bsf['bins']=='1') | (turnover_bsf['bins']=='2')].index.values) #| (turnover_bsf['bins']=='2.0')].index.values\n",
    "slow = list(turnover_bsf[(turnover_bsf['bins']=='10') | (turnover_bsf['bins']=='9') ].index.values)# | (turnover_bsf['bins']=='10.0')].index.values\n",
    "print('Fast:',len(fast),'Slow:',len(slow))\n",
    "target_dict ={}\n",
    "for n in fast:\n",
    "    target_dict[n]=1\n",
    "for n in slow:\n",
    "    target_dict[n]=0"
   ]
  },
  {
   "cell_type": "code",
   "execution_count": 8,
   "metadata": {},
   "outputs": [],
   "source": [
    "ml_df['target']=[target_dict.get(n,np.nan) for n in ml_df['Gene ID']]\n"
   ]
  },
  {
   "cell_type": "code",
   "execution_count": 9,
   "metadata": {},
   "outputs": [
    {
     "data": {
      "text/html": [
       "<div>\n",
       "<style scoped>\n",
       "    .dataframe tbody tr th:only-of-type {\n",
       "        vertical-align: middle;\n",
       "    }\n",
       "\n",
       "    .dataframe tbody tr th {\n",
       "        vertical-align: top;\n",
       "    }\n",
       "\n",
       "    .dataframe thead th {\n",
       "        text-align: right;\n",
       "    }\n",
       "</style>\n",
       "<table border=\"1\" class=\"dataframe\">\n",
       "  <thead>\n",
       "    <tr style=\"text-align: right;\">\n",
       "      <th></th>\n",
       "      <th>Unnamed: 0</th>\n",
       "      <th>Gene ID</th>\n",
       "      <th>EF_merged_PCF_BSF</th>\n",
       "      <th>EF_SS_QProt</th>\n",
       "      <th>EF_CellCycle_min_max</th>\n",
       "      <th>EF_CellCycle_max</th>\n",
       "      <th>EF_CellCycle_min</th>\n",
       "      <th>EF_Abundance_BSF</th>\n",
       "      <th>EF_Abundance_PCF</th>\n",
       "      <th>EF_MW_fc</th>\n",
       "      <th>...</th>\n",
       "      <th>ELM_TRG_Pf-PMV_PEXEL_1</th>\n",
       "      <th>ELM_TRG_PTS1</th>\n",
       "      <th>ELM_TRG_PTS2</th>\n",
       "      <th>ELM_CLV</th>\n",
       "      <th>ELM_DEG</th>\n",
       "      <th>ELM_DOC</th>\n",
       "      <th>ELM_LIG</th>\n",
       "      <th>ELM_MOD</th>\n",
       "      <th>ELM_TRG</th>\n",
       "      <th>target</th>\n",
       "    </tr>\n",
       "  </thead>\n",
       "  <tbody>\n",
       "    <tr>\n",
       "      <th>16</th>\n",
       "      <td>16</td>\n",
       "      <td>Tb05.5K5.210</td>\n",
       "      <td>-1.994036</td>\n",
       "      <td>NaN</td>\n",
       "      <td>NaN</td>\n",
       "      <td>NaN</td>\n",
       "      <td>NaN</td>\n",
       "      <td>8.097232</td>\n",
       "      <td>NaN</td>\n",
       "      <td>0.000000</td>\n",
       "      <td>...</td>\n",
       "      <td>4.0</td>\n",
       "      <td>0.0</td>\n",
       "      <td>0.0</td>\n",
       "      <td>25.0</td>\n",
       "      <td>3.0</td>\n",
       "      <td>24.0</td>\n",
       "      <td>101.0</td>\n",
       "      <td>129.0</td>\n",
       "      <td>17.0</td>\n",
       "      <td>1.0</td>\n",
       "    </tr>\n",
       "    <tr>\n",
       "      <th>123</th>\n",
       "      <td>123</td>\n",
       "      <td>Tb09.v4.0015</td>\n",
       "      <td>NaN</td>\n",
       "      <td>NaN</td>\n",
       "      <td>0.263034</td>\n",
       "      <td>8.0</td>\n",
       "      <td>0.5</td>\n",
       "      <td>7.749779</td>\n",
       "      <td>6.103549</td>\n",
       "      <td>165.901100</td>\n",
       "      <td>...</td>\n",
       "      <td>0.0</td>\n",
       "      <td>0.0</td>\n",
       "      <td>0.0</td>\n",
       "      <td>12.0</td>\n",
       "      <td>1.0</td>\n",
       "      <td>21.0</td>\n",
       "      <td>25.0</td>\n",
       "      <td>33.0</td>\n",
       "      <td>9.0</td>\n",
       "      <td>1.0</td>\n",
       "    </tr>\n",
       "    <tr>\n",
       "      <th>627</th>\n",
       "      <td>627</td>\n",
       "      <td>Tb11.02.5070b</td>\n",
       "      <td>NaN</td>\n",
       "      <td>NaN</td>\n",
       "      <td>0.137504</td>\n",
       "      <td>3.0</td>\n",
       "      <td>0.5</td>\n",
       "      <td>7.300305</td>\n",
       "      <td>7.716082</td>\n",
       "      <td>129.376070</td>\n",
       "      <td>...</td>\n",
       "      <td>1.0</td>\n",
       "      <td>0.0</td>\n",
       "      <td>0.0</td>\n",
       "      <td>15.0</td>\n",
       "      <td>2.0</td>\n",
       "      <td>12.0</td>\n",
       "      <td>35.0</td>\n",
       "      <td>31.0</td>\n",
       "      <td>2.0</td>\n",
       "      <td>1.0</td>\n",
       "    </tr>\n",
       "    <tr>\n",
       "      <th>908</th>\n",
       "      <td>908</td>\n",
       "      <td>Tb11.v5.0154</td>\n",
       "      <td>NaN</td>\n",
       "      <td>NaN</td>\n",
       "      <td>0.000000</td>\n",
       "      <td>0.5</td>\n",
       "      <td>0.5</td>\n",
       "      <td>7.911051</td>\n",
       "      <td>7.178399</td>\n",
       "      <td>46.476665</td>\n",
       "      <td>...</td>\n",
       "      <td>0.0</td>\n",
       "      <td>0.0</td>\n",
       "      <td>0.0</td>\n",
       "      <td>19.0</td>\n",
       "      <td>3.0</td>\n",
       "      <td>21.0</td>\n",
       "      <td>70.0</td>\n",
       "      <td>80.0</td>\n",
       "      <td>5.0</td>\n",
       "      <td>0.0</td>\n",
       "    </tr>\n",
       "    <tr>\n",
       "      <th>945</th>\n",
       "      <td>945</td>\n",
       "      <td>Tb11.v5.0191</td>\n",
       "      <td>NaN</td>\n",
       "      <td>NaN</td>\n",
       "      <td>0.263034</td>\n",
       "      <td>0.5</td>\n",
       "      <td>3.0</td>\n",
       "      <td>6.970981</td>\n",
       "      <td>6.841282</td>\n",
       "      <td>90.802986</td>\n",
       "      <td>...</td>\n",
       "      <td>1.0</td>\n",
       "      <td>0.0</td>\n",
       "      <td>0.0</td>\n",
       "      <td>26.0</td>\n",
       "      <td>4.0</td>\n",
       "      <td>18.0</td>\n",
       "      <td>56.0</td>\n",
       "      <td>57.0</td>\n",
       "      <td>10.0</td>\n",
       "      <td>1.0</td>\n",
       "    </tr>\n",
       "  </tbody>\n",
       "</table>\n",
       "<p>5 rows × 1411 columns</p>\n",
       "</div>"
      ],
      "text/plain": [
       "     Unnamed: 0        Gene ID  EF_merged_PCF_BSF  EF_SS_QProt  \\\n",
       "16           16   Tb05.5K5.210          -1.994036          NaN   \n",
       "123         123   Tb09.v4.0015                NaN          NaN   \n",
       "627         627  Tb11.02.5070b                NaN          NaN   \n",
       "908         908   Tb11.v5.0154                NaN          NaN   \n",
       "945         945   Tb11.v5.0191                NaN          NaN   \n",
       "\n",
       "     EF_CellCycle_min_max  EF_CellCycle_max  EF_CellCycle_min  \\\n",
       "16                    NaN               NaN               NaN   \n",
       "123              0.263034               8.0               0.5   \n",
       "627              0.137504               3.0               0.5   \n",
       "908              0.000000               0.5               0.5   \n",
       "945              0.263034               0.5               3.0   \n",
       "\n",
       "     EF_Abundance_BSF  EF_Abundance_PCF    EF_MW_fc   ...    \\\n",
       "16           8.097232               NaN    0.000000   ...     \n",
       "123          7.749779          6.103549  165.901100   ...     \n",
       "627          7.300305          7.716082  129.376070   ...     \n",
       "908          7.911051          7.178399   46.476665   ...     \n",
       "945          6.970981          6.841282   90.802986   ...     \n",
       "\n",
       "     ELM_TRG_Pf-PMV_PEXEL_1  ELM_TRG_PTS1  ELM_TRG_PTS2  ELM_CLV  ELM_DEG  \\\n",
       "16                      4.0           0.0           0.0     25.0      3.0   \n",
       "123                     0.0           0.0           0.0     12.0      1.0   \n",
       "627                     1.0           0.0           0.0     15.0      2.0   \n",
       "908                     0.0           0.0           0.0     19.0      3.0   \n",
       "945                     1.0           0.0           0.0     26.0      4.0   \n",
       "\n",
       "     ELM_DOC  ELM_LIG  ELM_MOD  ELM_TRG  target  \n",
       "16      24.0    101.0    129.0     17.0     1.0  \n",
       "123     21.0     25.0     33.0      9.0     1.0  \n",
       "627     12.0     35.0     31.0      2.0     1.0  \n",
       "908     21.0     70.0     80.0      5.0     0.0  \n",
       "945     18.0     56.0     57.0     10.0     1.0  \n",
       "\n",
       "[5 rows x 1411 columns]"
      ]
     },
     "execution_count": 9,
     "metadata": {},
     "output_type": "execute_result"
    }
   ],
   "source": [
    "X = ml_df.dropna(subset=['target'])\n",
    "X.head()"
   ]
  },
  {
   "cell_type": "code",
   "execution_count": 10,
   "metadata": {},
   "outputs": [],
   "source": [
    "X=X.dropna(axis=0, how='all')\n",
    "X=X.dropna(axis=1, how='all')"
   ]
  },
  {
   "cell_type": "markdown",
   "metadata": {},
   "source": [
    "### Creating the actual dataset"
   ]
  },
  {
   "cell_type": "code",
   "execution_count": 11,
   "metadata": {},
   "outputs": [
    {
     "name": "stdout",
     "output_type": "stream",
     "text": [
      "(1674, 1407) (1674,)\n"
     ]
    },
    {
     "data": {
      "text/plain": [
       "0.0    837\n",
       "1.0    837\n",
       "Name: target, dtype: int64"
      ]
     },
     "execution_count": 11,
     "metadata": {},
     "output_type": "execute_result"
    }
   ],
   "source": [
    "y=X['target']\n",
    "del X['target']\n",
    "del X['Gene ID']\n",
    "del  X['prot_coding']\n",
    "print(X.shape,y.shape)\n",
    "y.value_counts()"
   ]
  },
  {
   "cell_type": "markdown",
   "metadata": {},
   "source": [
    "When the number of descriptors (columns of the dataset) is similar or exceed the number of training instances (rows in the dataset), ML algorithms are prone to overfitting, i.e. learning associations with the response variable (fast or long half-lives) originating just by chance [12]. Intending to reduce the number of descriptors, we eliminated 277 features that correlate to other features with a Pearson correlation coefficient of 0.75 or higher. We "
   ]
  },
  {
   "cell_type": "code",
   "execution_count": 12,
   "metadata": {},
   "outputs": [
    {
     "name": "stdout",
     "output_type": "stream",
     "text": [
      "Removing: 277 features\n"
     ]
    }
   ],
   "source": [
    "# very crude removal of high correlated features\n",
    "# Create correlation matrix\n",
    "corr_matrix = X.corr().abs()\n",
    "\n",
    "# Select upper triangle of correlation matrix\n",
    "upper = corr_matrix.where(np.triu(np.ones(corr_matrix.shape), k=1).astype(np.bool))\n",
    "\n",
    "# Find index of feature columns with correlation greater than 0.75\n",
    "to_drop = [column for column in upper.columns if any(upper[column] > 0.75)]\n",
    "print('Removing:',len(to_drop), 'features')"
   ]
  },
  {
   "cell_type": "code",
   "execution_count": 13,
   "metadata": {},
   "outputs": [
    {
     "name": "stdout",
     "output_type": "stream",
     "text": [
      "(1674, 1407)\n",
      "(1674, 1130)\n"
     ]
    }
   ],
   "source": [
    "print(X.shape)\n",
    "X=X.drop(to_drop, axis=1)\n",
    "print(X.shape)"
   ]
  },
  {
   "cell_type": "code",
   "execution_count": 14,
   "metadata": {},
   "outputs": [],
   "source": [
    "#[ n for n in X.columns if 'Abundance' in n]"
   ]
  },
  {
   "cell_type": "markdown",
   "metadata": {},
   "source": [
    "### Imput missing values"
   ]
  },
  {
   "cell_type": "markdown",
   "metadata": {},
   "source": [
    "We imputed missing values in the categorical variables with a fake -1 class. On the other hand, the missing values of continue variables where replaced by the variable means. "
   ]
  },
  {
   "cell_type": "code",
   "execution_count": 15,
   "metadata": {},
   "outputs": [
    {
     "data": {
      "application/vnd.jupyter.widget-view+json": {
       "model_id": "060af5725a824cdeba3da0075e7fc2de",
       "version_major": 2,
       "version_minor": 0
      },
      "text/plain": [
       "HBox(children=(IntProgress(value=0, max=1130), HTML(value='')))"
      ]
     },
     "metadata": {},
     "output_type": "display_data"
    },
    {
     "name": "stdout",
     "output_type": "stream",
     "text": [
      "\n"
     ]
    }
   ],
   "source": [
    "#Strategy to input missing values / optional but usefull for \n",
    "#visualization of the feature importance\n",
    "X = scripts.input_missing_values(X, X.columns)"
   ]
  },
  {
   "cell_type": "markdown",
   "metadata": {},
   "source": [
    "### First Train"
   ]
  },
  {
   "cell_type": "markdown",
   "metadata": {},
   "source": [
    "We then trained a random forest algorithm implemented in LightGBM [33] to discriminate between proteins with fast or slow half-lives. Before training, we removed 35% of the training instances (blind) to evaluate the training progression on a subset of instances never seen by the predictor. The LightGBM algorithm was trained with a three-fold cross-validation (CV) strategy. With this strategy, the input data is divided into 3 subsets (also known as folds). Afterwards, The ML algorithm is trained on all but one of the subsets and evaluated on the subset that was not used for training. The process repeats 3 times, with a different subset reserved for evaluation (and excluded from training) each time. In this way, all the data is used once for both training and evaluation. The LightGBM algorithm starts the training with just one tree in the random forest and evaluates the prediction performance using the evaluation subset. With an iterative process, the algorithm adds one tree to the random forest and evaluates the prediction performance again. This process continues until the addition of a tree to the random forest model does not improve the prediction performance (early stopping). At each step, The LightGBM algorithm evaluates the prediction performance using the receiver operating characteristic curve (ROC) area under the curve (AUC) score (mean 0.75). "
   ]
  },
  {
   "cell_type": "code",
   "execution_count": 17,
   "metadata": {
    "scrolled": false
   },
   "outputs": [
    {
     "name": "stdout",
     "output_type": "stream",
     "text": [
      "DataSet size\n",
      "X_train: (1088, 1130) X_test: (586, 1130) y_train: (1088,) y_test (586,)\n"
     ]
    },
    {
     "data": {
      "application/vnd.jupyter.widget-view+json": {
       "model_id": "a5b895f8ca2c4875942658cdb312be94",
       "version_major": 2,
       "version_minor": 0
      },
      "text/plain": [
       "HBox(children=(IntProgress(value=0, max=5), HTML(value='')))"
      ]
     },
     "metadata": {},
     "output_type": "display_data"
    },
    {
     "name": "stdout",
     "output_type": "stream",
     "text": [
      "\n"
     ]
    },
    {
     "data": {
      "image/png": "[encoded data removed]",
      "text/plain": [
       "<Figure size 432x288 with 1 Axes>"
      ]
     },
     "metadata": {
      "needs_background": "light"
     },
     "output_type": "display_data"
    },
    {
     "name": "stdout",
     "output_type": "stream",
     "text": [
      "              precision    recall  f1-score   support\n",
      "\n",
      "         0.0       0.64      0.70      0.67       270\n",
      "         1.0       0.72      0.66      0.69       316\n",
      "\n",
      "    accuracy                           0.68       586\n",
      "   macro avg       0.68      0.68      0.68       586\n",
      "weighted avg       0.68      0.68      0.68       586\n",
      "\n",
      "1 dummy_roc_auc_score: 0.49367088607594933\n",
      "1 blind_roc_auc_score: 0.6791139240506329\n",
      "\n",
      "Confusion Matrix\n",
      "[[189  81]\n",
      " [108 208]]\n"
     ]
    },
    {
     "data": {
      "text/plain": [
       "{'objective': 'binary',\n",
       " 'min_data_in_leaf': 5,\n",
       " 'n_jobs': 8,\n",
       " 'boosting_type': 'rf',\n",
       " 'bagging_fraction': 0.7,\n",
       " 'feature_fraction': 0.7,\n",
       " 'bagging_freq': 1,\n",
       " 'n_estimators': 7,\n",
       " 'max_depth': 5}"
      ]
     },
     "execution_count": 17,
     "metadata": {},
     "output_type": "execute_result"
    }
   ],
   "source": [
    "params = {\n",
    "            'objective': 'binary',\n",
    "            'min_data_in_leaf':5,\n",
    "            'n_jobs':8,\n",
    "            'boosting_type':\"rf\",\n",
    "            'bagging_fraction':0.7,\n",
    "            'feature_fraction':0.7,\n",
    "            'bagging_freq' : 1,\n",
    "            'n_estimators' : 100,\n",
    "            'max_depth' : 5\n",
    "            }\n",
    "\n",
    "fitted_model, params, blind_score = scripts.run_lgb(X, y, params)\n",
    "params"
   ]
  },
  {
   "cell_type": "markdown",
   "metadata": {},
   "source": [
    "At the end of the CV strategy, a new model is trained with all the data used for the CV step and evaluated on the blind dataset (AUC = 0.679). The blind ROC AUC score suggested that the algorithm is separating proteins with fast and long half-lives better than random.  The number of trees to evaluate the model on the blind dataset was chosen from the CV strategy. At each CV round, the algorithm records the number of trees used.  By inspecting the training history, we selected 14 trees equal to the maximum number of trees used in any of the three CV steps. This optimised model, respect to the number of tree in the forest, was used to shrink further the number of relevant features. "
   ]
  },
  {
   "cell_type": "markdown",
   "metadata": {},
   "source": [
    "### Feature Selection\n",
    "#### Boruta\n",
    "We first applied the Boruta methods [34] to identify all the features carrying information usable for prediction (82). Briefly, the Boruta algorithm randomises all descriptors in the dataset and evaluates the randomise features, looking if they are less or more important of the real features in separating fast and slow turnover protein. If the real features are better than the shuffled copies, they are marked as important."
   ]
  },
  {
   "cell_type": "code",
   "execution_count": 18,
   "metadata": {},
   "outputs": [
    {
     "name": "stdout",
     "output_type": "stream",
     "text": [
      "boruta will take some times to run\n"
     ]
    },
    {
     "data": {
      "application/vnd.jupyter.widget-view+json": {
       "model_id": "2287034849d040e8b34f8cdcbf220b4e",
       "version_major": 2,
       "version_minor": 0
      },
      "text/plain": [
       "HBox(children=(IntProgress(value=0, description='boruta iter', style=ProgressStyle(description_width='initial'…"
      ]
     },
     "metadata": {},
     "output_type": "display_data"
    },
    {
     "name": "stdout",
     "output_type": "stream",
     "text": [
      "[False  True False ... False False False]\n",
      "['EF_merged_PCF_BSF', 'EF_CellCycle_min_max', 'EF_CellCycle_max', 'EF_CellCycle_min', 'EF_Abundance_BSF', 'EF_Abundance_PCF', 'EF_MW_fc', 'EF_prot_BSF_to_PCF_1_min_max', 'EF_prot_BSF_to_PCF_1_max', 'EF_ma_BSF_to_PCF_1_min_max', 'EF_fc_glucose_1', 'EF_fc_glucose_2', 'EF_fc_glucose_3', 'EF_RNA_BSF_to_PCF_anti_min_max', 'EF_RNA_BSF_to_PCF_sen_min_max', 'EF_RNA_BSF_to_PCF_sen_max', 'EF_RNA_BSF_to_PCF_sen_min', 'EF_mRNA_BSF_vs_PCF', 'Non-Coding SNPs All Strains', 'AF_AA: K Frequency', 'AF_AA: L Frequency', 'AF_AA: S Frequency', 'AF_AA: V Frequency', 'AF_AA: Y Frequency', 'AF_Binary AutoCorrellation (K,R):  Lag:12', 'AF_Charge Distribution2001', 'AF_Disorder Propensity Composition:1', 'AF_Disorder Propensity Distribution2001', 'AF_Disorder Propensity Distribution2050', 'AF_Disorder Propensity Distribution2075', 'AF_Disorder Propensity Transitions:12', 'AF_Disorder_3:  Mirror K-mer : AAAAD', 'AF_Disorder_3:  Mirror K-mer : AAADA', 'AF_Disorder_3:  Mirror K-mer : AACAC', 'AF_Disorder_3:  Mirror K-mer : AACCC', 'AF_Disorder_3:  Mirror K-mer : ACCCA', 'AF_Disorder_3:  Mirror K-mer : CAACC', 'AF_Disorder_3:  Mirror K-mer : CCACC', 'AF_Mutability aaScale - Window size:17 Average-Trimmed MAX', 'AF_Potential N-Glycosylation Sites:Frequency', 'AF_Secondary Str Distribution3001', 'AF_Secondary Str Transitions:12', 'AF_Secondary Str Transitions:13', 'AF_SecondaryStr_3:  Mirror K-mer : AACCA', 'AF_SecondaryStr_3:  Mirror K-mer : ADDAD', 'AF_SecondaryStr_3:  Mirror K-mer : DADDD', 'AF_SecondaryStr_3:  Mirror K-mer : DDADD', 'AF_SecondaryStr_3:  Mirror K-mer : DDDDD', 'AF_Solvent Accessibility Transitions:23', 'AF_SolventA_3:  Mirror K-mer : AAAAD', 'AF_SolventA_3:  Mirror K-mer : AAAAH', 'AF_SolventA_3:  Mirror K-mer : AAADA', 'AF_SolventA_3:  Mirror K-mer : AAAHD', 'AF_SolventA_3:  Mirror K-mer : AADAA', 'AF_SolventA_3:  Mirror K-mer : ADDDD', 'AF_SolventA_3:  Mirror K-mer : AHAAH', 'AF_SolventA_3:  Mirror K-mer : AHAHA', 'AF_SolventA_3:  Mirror K-mer : DAAAH', 'AF_SolventA_3:  Mirror K-mer : DADDD', 'AF_SolventA_3:  Mirror K-mer : DDADD', 'AF_SolventA_3:  Mirror K-mer : DDHDH', 'AF_SubSequence(segment-0)  aaScale:4Atch_4 Maximum', 'AF_SubSequence(segment-0)  aaScale:4TOP_IDP Average', 'AF_SubSequence(segment-0)  aaScale:4TOP_IDP Minimum', 'AF_SubSequence(segment-0)  aaScale:4hp Average', 'AF_SubSequence(segment-0)  aaScale:4hp Maximum', 'AF_gg_4 aaScale - Window size:17 Average-Trimmed MAX', 'AF_gg_5 aaScale - Window size:17 MAXIMUM ', 'AF_gg_7 aaScale - Window size:17 MAXIMUM ', 'AF_hp2: AAAAC', 'AF_hp2: AACCA', 'AF_hp2: AACCC', 'AF_hp2: ACCCA', 'AF_hp2: CAAAC', 'AF_hp2: CAACC', 'AF_hp2: CACCA', 'AF_hp2: CCAAA', 'AF_hp2: CCAAC', 'AF_ofer14:  Mirror K-mer : AI', 'AF_ofer14:  Mirror K-mer : DD', 'AF_ofer14:  Mirror K-mer : FI', 'AF_ofer14:  Mirror K-mer : IS', 'AF_ofer14:  Mirror K-mer : KS', 'AF_ofer_w8: AA: C Frequency', 'AF_ofer_w8: AA: N Frequency', 'ELM_LIG_SUMO_SIM_anti_2']\n"
     ]
    }
   ],
   "source": [
    "print('boruta will take some times to run')\n",
    "rf_params = {'class_weight':'balanced',\n",
    "             'max_depth':params['max_depth'],\n",
    "             'n_jobs':8, 'n_estimators':params['n_estimators'],\n",
    "             'min_samples_leaf':params['min_data_in_leaf']\n",
    "            }\n",
    "\n",
    "#X.fillna(X.mean()).replace(-np.inf,-999).replace(np.inf,999)\n",
    "score_df = scripts.boruta_select(\n",
    "    X, y, rf_params)\n",
    "selected_features = list(score_df[score_df['support']]['f'])\n",
    "print(selected_features)"
   ]
  },
  {
   "cell_type": "code",
   "execution_count": 19,
   "metadata": {},
   "outputs": [
    {
     "name": "stdout",
     "output_type": "stream",
     "text": [
      "second round\n",
      "DataSet size\n",
      "X_train: (1088, 86) X_test: (586, 86) y_train: (1088,) y_test (586,)\n"
     ]
    },
    {
     "data": {
      "application/vnd.jupyter.widget-view+json": {
       "model_id": "f9f0f4101cef4f93b44e6938d553e4b4",
       "version_major": 2,
       "version_minor": 0
      },
      "text/plain": [
       "HBox(children=(IntProgress(value=0, max=5), HTML(value='')))"
      ]
     },
     "metadata": {},
     "output_type": "display_data"
    },
    {
     "data": {
      "image/png": "[encoded data removed]",
      "text/plain": [
       "<Figure size 432x288 with 1 Axes>"
      ]
     },
     "metadata": {
      "needs_background": "light"
     },
     "output_type": "display_data"
    },
    {
     "name": "stdout",
     "output_type": "stream",
     "text": [
      "              precision    recall  f1-score   support\n",
      "\n",
      "         0.0       0.63      0.69      0.66       272\n",
      "         1.0       0.71      0.65      0.68       314\n",
      "\n",
      "    accuracy                           0.67       586\n",
      "   macro avg       0.67      0.67      0.67       586\n",
      "weighted avg       0.67      0.67      0.67       586\n",
      "\n",
      "1 dummy_roc_auc_score: 0.486662617957582\n",
      "1 blind_roc_auc_score: 0.6685907643312101\n",
      "\n",
      "Confusion Matrix\n",
      "[[187  85]\n",
      " [110 204]]\n"
     ]
    }
   ],
   "source": [
    "#second round\n",
    "print('second round')\n",
    "fitted_model, params , blind_score= scripts.run_lgb(X[selected_features],y, params)"
   ]
  },
  {
   "cell_type": "markdown",
   "metadata": {},
   "source": [
    "#### ELI5\n",
    "In a further step feature selection, we applied a different permutation importance strategy implemented in the ELI5 python package [35]. In this case, only one feature at a time is randomised, and the performance of the model evaluated. If the performance of the model decreases after randomisation (lower AUC score), the feature is annotated as important. The randomization process was performed three times with a different random seed and the average feature score difference stored. As the ELI5 strategy is more computationally expensive than the Boruta algorithm, the former was executed before the latter. "
   ]
  },
  {
   "cell_type": "code",
   "execution_count": 20,
   "metadata": {},
   "outputs": [
    {
     "name": "stdout",
     "output_type": "stream",
     "text": [
      "ELI5 will take some times to run\n"
     ]
    },
    {
     "data": {
      "application/vnd.jupyter.widget-view+json": {
       "model_id": "8be982580dc54f458ab67de2f2cf4eba",
       "version_major": 2,
       "version_minor": 0
      },
      "text/plain": [
       "HBox(children=(IntProgress(value=0, description='n iter', max=10, style=ProgressStyle(description_width='initi…"
      ]
     },
     "metadata": {},
     "output_type": "display_data"
    },
    {
     "data": {
      "application/vnd.jupyter.widget-view+json": {
       "model_id": "dda51d3a22c9472b8a2a323cd9d577bb",
       "version_major": 2,
       "version_minor": 0
      },
      "text/plain": [
       "HBox(children=(IntProgress(value=0, description='iter column', max=86, style=ProgressStyle(description_width='…"
      ]
     },
     "metadata": {},
     "output_type": "display_data"
    },
    {
     "data": {
      "application/vnd.jupyter.widget-view+json": {
       "model_id": "5dfe84572d8543df842d2e8e11c5a8d4",
       "version_major": 2,
       "version_minor": 0
      },
      "text/plain": [
       "HBox(children=(IntProgress(value=0, description='iter column', max=86, style=ProgressStyle(description_width='…"
      ]
     },
     "metadata": {},
     "output_type": "display_data"
    },
    {
     "data": {
      "application/vnd.jupyter.widget-view+json": {
       "model_id": "d683f0882f194b36977909de0182aac1",
       "version_major": 2,
       "version_minor": 0
      },
      "text/plain": [
       "HBox(children=(IntProgress(value=0, description='iter column', max=86, style=ProgressStyle(description_width='…"
      ]
     },
     "metadata": {},
     "output_type": "display_data"
    },
    {
     "data": {
      "application/vnd.jupyter.widget-view+json": {
       "model_id": "22d171e61ffd40fa94d4354028d12a54",
       "version_major": 2,
       "version_minor": 0
      },
      "text/plain": [
       "HBox(children=(IntProgress(value=0, description='iter column', max=86, style=ProgressStyle(description_width='…"
      ]
     },
     "metadata": {},
     "output_type": "display_data"
    },
    {
     "data": {
      "application/vnd.jupyter.widget-view+json": {
       "model_id": "9a685e9163824f6688f38acec016a845",
       "version_major": 2,
       "version_minor": 0
      },
      "text/plain": [
       "HBox(children=(IntProgress(value=0, description='iter column', max=86, style=ProgressStyle(description_width='…"
      ]
     },
     "metadata": {},
     "output_type": "display_data"
    },
    {
     "data": {
      "application/vnd.jupyter.widget-view+json": {
       "model_id": "632aa0a509af438595024738d5b289ca",
       "version_major": 2,
       "version_minor": 0
      },
      "text/plain": [
       "HBox(children=(IntProgress(value=0, description='iter column', max=86, style=ProgressStyle(description_width='…"
      ]
     },
     "metadata": {},
     "output_type": "display_data"
    },
    {
     "data": {
      "application/vnd.jupyter.widget-view+json": {
       "model_id": "ae13deecb47b4efbbbe6583f042d3bff",
       "version_major": 2,
       "version_minor": 0
      },
      "text/plain": [
       "HBox(children=(IntProgress(value=0, description='iter column', max=86, style=ProgressStyle(description_width='…"
      ]
     },
     "metadata": {},
     "output_type": "display_data"
    },
    {
     "data": {
      "application/vnd.jupyter.widget-view+json": {
       "model_id": "d523a5f8faee457e9f86e0b646033c5d",
       "version_major": 2,
       "version_minor": 0
      },
      "text/plain": [
       "HBox(children=(IntProgress(value=0, description='iter column', max=86, style=ProgressStyle(description_width='…"
      ]
     },
     "metadata": {},
     "output_type": "display_data"
    },
    {
     "data": {
      "application/vnd.jupyter.widget-view+json": {
       "model_id": "b7290a1a767a4b1a87fed77bdc902b26",
       "version_major": 2,
       "version_minor": 0
      },
      "text/plain": [
       "HBox(children=(IntProgress(value=0, description='iter column', max=86, style=ProgressStyle(description_width='…"
      ]
     },
     "metadata": {},
     "output_type": "display_data"
    },
    {
     "data": {
      "application/vnd.jupyter.widget-view+json": {
       "model_id": "b40e348678874c08925cbddbd0894eeb",
       "version_major": 2,
       "version_minor": 0
      },
      "text/plain": [
       "HBox(children=(IntProgress(value=0, description='iter column', max=86, style=ProgressStyle(description_width='…"
      ]
     },
     "metadata": {},
     "output_type": "display_data"
    }
   ],
   "source": [
    "#ELI5 f selection\n",
    "print('ELI5 will take some times to run')\n",
    "score_df = scripts.eli_select(X[selected_features], y, params)"
   ]
  },
  {
   "cell_type": "code",
   "execution_count": 21,
   "metadata": {},
   "outputs": [
    {
     "data": {
      "text/html": [
       "<div>\n",
       "<style scoped>\n",
       "    .dataframe tbody tr th:only-of-type {\n",
       "        vertical-align: middle;\n",
       "    }\n",
       "\n",
       "    .dataframe tbody tr th {\n",
       "        vertical-align: top;\n",
       "    }\n",
       "\n",
       "    .dataframe thead th {\n",
       "        text-align: right;\n",
       "    }\n",
       "</style>\n",
       "<table border=\"1\" class=\"dataframe\">\n",
       "  <thead>\n",
       "    <tr style=\"text-align: right;\">\n",
       "      <th></th>\n",
       "      <th>fimp</th>\n",
       "      <th>f</th>\n",
       "    </tr>\n",
       "  </thead>\n",
       "  <tbody>\n",
       "    <tr>\n",
       "      <th>3</th>\n",
       "      <td>0.081063</td>\n",
       "      <td>EF_CellCycle_min</td>\n",
       "    </tr>\n",
       "    <tr>\n",
       "      <th>4</th>\n",
       "      <td>0.072282</td>\n",
       "      <td>EF_Abundance_BSF</td>\n",
       "    </tr>\n",
       "    <tr>\n",
       "      <th>0</th>\n",
       "      <td>0.049642</td>\n",
       "      <td>EF_merged_PCF_BSF</td>\n",
       "    </tr>\n",
       "    <tr>\n",
       "      <th>1</th>\n",
       "      <td>0.035544</td>\n",
       "      <td>EF_CellCycle_min_max</td>\n",
       "    </tr>\n",
       "    <tr>\n",
       "      <th>10</th>\n",
       "      <td>0.032378</td>\n",
       "      <td>EF_fc_glucose_1</td>\n",
       "    </tr>\n",
       "    <tr>\n",
       "      <th>53</th>\n",
       "      <td>0.010394</td>\n",
       "      <td>AF_SolventA_3:  Mirror K-mer : AADAA</td>\n",
       "    </tr>\n",
       "    <tr>\n",
       "      <th>45</th>\n",
       "      <td>0.010215</td>\n",
       "      <td>AF_SecondaryStr_3:  Mirror K-mer : DADDD</td>\n",
       "    </tr>\n",
       "    <tr>\n",
       "      <th>38</th>\n",
       "      <td>0.007646</td>\n",
       "      <td>AF_Mutability aaScale - Window size:17 Average...</td>\n",
       "    </tr>\n",
       "    <tr>\n",
       "      <th>11</th>\n",
       "      <td>0.007407</td>\n",
       "      <td>EF_fc_glucose_2</td>\n",
       "    </tr>\n",
       "    <tr>\n",
       "      <th>5</th>\n",
       "      <td>0.007228</td>\n",
       "      <td>EF_Abundance_PCF</td>\n",
       "    </tr>\n",
       "    <tr>\n",
       "      <th>54</th>\n",
       "      <td>0.007049</td>\n",
       "      <td>AF_SolventA_3:  Mirror K-mer : ADDDD</td>\n",
       "    </tr>\n",
       "    <tr>\n",
       "      <th>50</th>\n",
       "      <td>0.006930</td>\n",
       "      <td>AF_SolventA_3:  Mirror K-mer : AAAAH</td>\n",
       "    </tr>\n",
       "    <tr>\n",
       "      <th>31</th>\n",
       "      <td>0.006452</td>\n",
       "      <td>AF_Disorder_3:  Mirror K-mer : AAAAD</td>\n",
       "    </tr>\n",
       "    <tr>\n",
       "      <th>78</th>\n",
       "      <td>0.006153</td>\n",
       "      <td>AF_ofer14:  Mirror K-mer : AI</td>\n",
       "    </tr>\n",
       "    <tr>\n",
       "      <th>58</th>\n",
       "      <td>0.005914</td>\n",
       "      <td>AF_SolventA_3:  Mirror K-mer : DADDD</td>\n",
       "    </tr>\n",
       "  </tbody>\n",
       "</table>\n",
       "</div>"
      ],
      "text/plain": [
       "        fimp                                                  f\n",
       "3   0.081063                                   EF_CellCycle_min\n",
       "4   0.072282                                   EF_Abundance_BSF\n",
       "0   0.049642                                  EF_merged_PCF_BSF\n",
       "1   0.035544                               EF_CellCycle_min_max\n",
       "10  0.032378                                    EF_fc_glucose_1\n",
       "53  0.010394               AF_SolventA_3:  Mirror K-mer : AADAA\n",
       "45  0.010215           AF_SecondaryStr_3:  Mirror K-mer : DADDD\n",
       "38  0.007646  AF_Mutability aaScale - Window size:17 Average...\n",
       "11  0.007407                                    EF_fc_glucose_2\n",
       "5   0.007228                                   EF_Abundance_PCF\n",
       "54  0.007049               AF_SolventA_3:  Mirror K-mer : ADDDD\n",
       "50  0.006930               AF_SolventA_3:  Mirror K-mer : AAAAH\n",
       "31  0.006452               AF_Disorder_3:  Mirror K-mer : AAAAD\n",
       "78  0.006153                      AF_ofer14:  Mirror K-mer : AI\n",
       "58  0.005914               AF_SolventA_3:  Mirror K-mer : DADDD"
      ]
     },
     "execution_count": 21,
     "metadata": {},
     "output_type": "execute_result"
    }
   ],
   "source": [
    "#ELI5 df\n",
    "score_df.sort_values('fimp',ascending=False).head(15)"
   ]
  },
  {
   "cell_type": "code",
   "execution_count": 23,
   "metadata": {},
   "outputs": [
    {
     "name": "stdout",
     "output_type": "stream",
     "text": [
      "final round\n",
      "DataSet size\n",
      "X_train: (1088, 5) X_test: (586, 5) y_train: (1088,) y_test (586,)\n"
     ]
    },
    {
     "data": {
      "application/vnd.jupyter.widget-view+json": {
       "model_id": "ec8cdedac875473c94ac64b2a6e5ea82",
       "version_major": 2,
       "version_minor": 0
      },
      "text/plain": [
       "HBox(children=(IntProgress(value=0, max=5), HTML(value='')))"
      ]
     },
     "metadata": {},
     "output_type": "display_data"
    },
    {
     "data": {
      "image/png": "[encoded data removed]",
      "text/plain": [
       "<Figure size 432x288 with 1 Axes>"
      ]
     },
     "metadata": {
      "needs_background": "light"
     },
     "output_type": "display_data"
    },
    {
     "name": "stdout",
     "output_type": "stream",
     "text": [
      "              precision    recall  f1-score   support\n",
      "\n",
      "         0.0       0.65      0.70      0.67       274\n",
      "         1.0       0.72      0.66      0.69       312\n",
      "\n",
      "    accuracy                           0.68       586\n",
      "   macro avg       0.68      0.68      0.68       586\n",
      "weighted avg       0.68      0.68      0.68       586\n",
      "\n",
      "1 dummy_roc_auc_score: 0.4728803283275814\n",
      "1 blind_roc_auc_score: 0.6820957327344188\n",
      "\n",
      "Confusion Matrix\n",
      "[[192  82]\n",
      " [105 207]]\n"
     ]
    }
   ],
   "source": [
    "selected_features = list(score_df[score_df['fimp']>0.015]['f'])\n",
    "#final round\n",
    "print('final round')\n",
    "fitted_model, params, blind_score = scripts.run_lgb(X[selected_features],y, params)    "
   ]
  },
  {
   "cell_type": "markdown",
   "metadata": {},
   "source": [
    "From the ELI5 ranked list of feature, we selected an arbitrary threshold of 0.015 (increase in ROC AUC score ) to select the 5 descriptors, namely: 1) 'EF_Abundance_BSF', the relative protein abundance in the BSF life stage; 2) 'EF_CellCycle_min', the time point showing the minimum protein abundance during the PCF cell cycle; 3) 'EF_fc_glucose_1', the log 2 fold change in abundance between glucose fed and glucose starve SS BSF cells; 4) 'EF_merged_PCF_BSF, the log 2 fold change of the PCF versus the BSF protein abundance, 5) 'EF_CellCycle_min_max', the log2 fold change between the minimum and maximum protein abundance value during the PCF cell cycle. We than retrained the classifier with the identified features to evaluate the performance on the blind dataset with the ROC AUC value. "
   ]
  },
  {
   "cell_type": "code",
   "execution_count": 39,
   "metadata": {},
   "outputs": [
    {
     "data": {
      "text/plain": [
       "(5,\n",
       " ['EF_merged_PCF_BSF',\n",
       "  'EF_CellCycle_min_max',\n",
       "  'EF_CellCycle_min',\n",
       "  'EF_Abundance_BSF',\n",
       "  'EF_fc_glucose_1'])"
      ]
     },
     "execution_count": 39,
     "metadata": {},
     "output_type": "execute_result"
    }
   ],
   "source": [
    "len(selected_features),selected_features"
   ]
  },
  {
   "cell_type": "markdown",
   "metadata": {},
   "source": [
    "### Feature Importance\n",
    "\n",
    "The importance of these selected features was visualised with the SHAP (SHapley Additive exPlanations) values. The SHAP values aggregate five different rank feature methods into one, by using an algorithm first developed for game theory. This algorithm aims at explaining the prediction of an instance (protein) by computing the contribution of each feature to the prediction [36-38]. In particular, this framework assigns to each protein a SHAP value (positive for fast half-lives, negative for long half-lives), and the absolute sum of the SHAP values adds to the feature importance. Consequently, the visualization of the feature importance can be visualised along with the feature effect.(https://github.com/slundberg/shap)."
   ]
  },
  {
   "cell_type": "code",
   "execution_count": 28,
   "metadata": {},
   "outputs": [],
   "source": [
    "#Now we use the SHAP scoring system to visualise \n",
    "#the most important features for the model\n",
    "explainer = shap.TreeExplainer(fitted_model)\n",
    "shap_values = explainer.shap_values(X[selected_features])\n",
    "#shap.summary_plot(shap_values, \n",
    "                  #train[train_features],\n",
    "                  #max_display=100)"
   ]
  },
  {
   "cell_type": "code",
   "execution_count": 36,
   "metadata": {},
   "outputs": [
    {
     "data": {
      "image/png": "[encoded data removed]",
      "text/plain": [
       "<Figure size 720x576 with 2 Axes>"
      ]
     },
     "metadata": {},
     "output_type": "display_data"
    }
   ],
   "source": [
    "plt.style.use('ggplot')\n",
    "shap.summary_plot(shap_values, \n",
    "                  X[selected_features], \n",
    "                  feature_names=troncate_name(list(X[selected_features].columns)),\n",
    "                  max_display=10,show=False)\n",
    "\n",
    "f = plt.gcf()\n",
    "f.set_size_inches(10, 8)\n",
    "plt.title('Feature Importance',fontsize=16)\n",
    "plt.xticks(fontsize=16)\n",
    "plt.yticks(fontsize=16)\n",
    "plt.xlabel('SHAP value',fontsize=16)\n",
    "plt.tight_layout()\n",
    "plt.savefig(os.path.join('figures','example_1','Fig_1.png'))\n",
    "plt.savefig(os.path.join('figures','example_1','Fig_1.svg'))\n",
    "plt.show()\n",
    "#print(r)"
   ]
  },
  {
   "cell_type": "markdown",
   "metadata": {},
   "source": [
    "In this figure the position of the feature on the y-axis of is determined by the feature importance, and the dots (protein/training instances) on the x-axis are arranged accordingly to the SHAP values. The dots are also jittered in the y-axis direction to assess the distribution. The colour code of the dots reflects the value of the feature from low (blue) to high (red). This visualization highlights the relationship between the value of a feature and the impact on the prediction. For example, training instances with low values of the protein abundance in the BSF life stage ('EF_Abundance_BSF') have the highest SHAP values, meaning that low protein abundance values are pushing the model towards a fast half-life prediction."
   ]
  },
  {
   "cell_type": "markdown",
   "metadata": {},
   "source": [
    "### Feature Analysis"
   ]
  },
  {
   "cell_type": "code",
   "execution_count": 51,
   "metadata": {},
   "outputs": [
    {
     "data": {
      "text/plain": [
       "<matplotlib.axes._subplots.AxesSubplot at 0x18733048>"
      ]
     },
     "execution_count": 51,
     "metadata": {},
     "output_type": "execute_result"
    }
   ],
   "source": [
    "\n",
    "axes[0][1]"
   ]
  },
  {
   "cell_type": "code",
   "execution_count": 54,
   "metadata": {
    "scrolled": false
   },
   "outputs": [
    {
     "data": {
      "image/png": "[encoded data removed]",
      "text/plain": [
       "<Figure size 864x864 with 6 Axes>"
      ]
     },
     "metadata": {},
     "output_type": "display_data"
    }
   ],
   "source": [
    "fig,axes = plt.subplots(figsize=(12,12), nrows=3,ncols=2)\n",
    "labels = ['A','B','C','D','E']\n",
    "\n",
    "mapping_dict = {\n",
    "    0:[0,0],\n",
    "    1:[0,1],\n",
    "    2:[1,0],\n",
    "    3:[1,1],    \n",
    "    4:[2,0],\n",
    "    5:[2,1],     \n",
    "               }\n",
    "\n",
    "for n, f in enumerate(selected_features):\n",
    "    a,b=mapping_dict[n][0],mapping_dict[n][1]\n",
    "    if f == 'EF_CellCycle_min':\n",
    "        shap.dependence_plot(n, shap_values, \n",
    "                    X[selected_features],\n",
    "                             interaction_index =None, \n",
    "                             x_jitter=0.2,\n",
    "                             show=False,ax=axes[a][b])\n",
    "    else:\n",
    "        shap.dependence_plot(n, shap_values, \n",
    "                    X[selected_features],\n",
    "                            interaction_index =None,\n",
    "                            show=False,\n",
    "                            ax=axes[a][b])\n",
    "    \n",
    "    axes[a][b].set_title(f, fontsize=12)\n",
    "    axes[a][b].set_ylabel('SHAP Values')\n",
    "    axes[a][b].set_xlabel('Feature Values')\n",
    "    axes[a][b].text(-0.1, 1.1, labels[n]+')', \n",
    "                               horizontalalignment='center',\n",
    "               verticalalignment='center',\n",
    "               transform=axes[a][b].transAxes,fontsize=12)\n",
    "\n",
    "    \n",
    "axes[2][1].set_axis_off()     \n",
    "plt.tight_layout()\n",
    "plt.savefig(os.path.join('figures','example_1','Fig_2.png'))\n",
    "plt.savefig(os.path.join('figures','example_1','Fig_2.svg'))\n",
    "plt.show()\n"
   ]
  }
 ],
 "metadata": {
  "kernelspec": {
   "display_name": "Python 3",
   "language": "python",
   "name": "python3"
  },
  "language_info": {
   "codemirror_mode": {
    "name": "ipython",
    "version": 3
   },
   "file_extension": ".py",
   "mimetype": "text/x-python",
   "name": "python",
   "nbconvert_exporter": "python",
   "pygments_lexer": "ipython3",
   "version": "3.6.8"
  },
  "toc": {
   "base_numbering": 1,
   "nav_menu": {
    "height": "11.8333px",
    "width": "160px"
   },
   "number_sections": true,
   "sideBar": true,
   "skip_h1_title": false,
   "title_cell": "Table of Contents",
   "title_sidebar": "Contents",
   "toc_cell": false,
   "toc_position": {
    "height": "566.167px",
    "left": "82px",
    "top": "110.433px",
    "width": "304.333px"
   },
   "toc_section_display": true,
   "toc_window_display": true
  }
 },
 "nbformat": 4,
 "nbformat_minor": 2
}
