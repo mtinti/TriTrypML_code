{
 "cells": [
  {
   "cell_type": "code",
   "execution_count": 1,
   "metadata": {},
   "outputs": [
    {
     "data": {
      "text/html": [
       "<style>\n",
       "div.abstract_text {text-align: justify;text-justify: inter-word;}\n",
       "div.text {text-align: justify; text-justify: inter-word;}\n",
       "</style>"
      ],
      "text/plain": [
       "<IPython.core.display.HTML object>"
      ]
     },
     "execution_count": 1,
     "metadata": {},
     "output_type": "execute_result"
    }
   ],
   "source": [
    "#some style formatting\n",
    "from IPython.display import HTML\n",
    "style = '''<style>\n",
    "div.abstract_text {text-align: justify;text-justify: inter-word;}\n",
    "div.text {text-align: justify; text-justify: inter-word;}\n",
    "</style>'''\n",
    "HTML(style)"
   ]
  },
  {
   "cell_type": "markdown",
   "metadata": {},
   "source": [
    "\n",
    "<img typeof=\"foaf:Image\" src=\"static/ANTI-INFECTIVES-RGB_200pc.png\" alt=\"Wellcome Centre for Anti-Infectives Research\" title=\"\">\n",
    "\n",
    "# ML Analysis for <i>T. brucei</i>\n",
    "\n",
    "Michele Tinti and Michael A.J. Ferguson\n",
    "\n",
    "Wellcome Centre for Anti-Infectives Research\n",
    "School of Life Sciences, University of Dundee\n",
    "   \n",
    "## Motivation\n",
    "<span>\n",
    "<div class=text>\n",
    "A clever experiment in 2011 used high-throughput phenotyping approach (RIT-seq) to map the fitness-costs associated with RNAi. An RNAi plasmid library, containing randomly sheared genomics fragments was used to create an inducible library. After transfection, the library was grown under non-inducing and inducing conditions in T. brucei. By comparing the read counts of the library before and after induction, is possible to identify essential genes, ie genes with more reads in the un-induced sample respect to the induced sample. \n",
    "</div> "
   ]
  },
  {
   "cell_type": "code",
   "execution_count": 2,
   "metadata": {
    "hide_input": false
   },
   "outputs": [],
   "source": [
    "#set up code\n",
    "%load_ext autoreload\n",
    "%autoreload 2"
   ]
  },
  {
   "cell_type": "code",
   "execution_count": 3,
   "metadata": {
    "scrolled": true
   },
   "outputs": [
    {
     "name": "stderr",
     "output_type": "stream",
     "text": [
      "Using TensorFlow backend.\n"
     ]
    }
   ],
   "source": [
    "from mylib import scripts\n",
    "%run mylib/scripts.py\n",
    "np.random.seed =1976"
   ]
  },
  {
   "cell_type": "code",
   "execution_count": 4,
   "metadata": {},
   "outputs": [
    {
     "name": "stdout",
     "output_type": "stream",
     "text": [
      "(11832, 3)\n"
     ]
    },
    {
     "data": {
      "text/html": [
       "<div>\n",
       "<style scoped>\n",
       "    .dataframe tbody tr th:only-of-type {\n",
       "        vertical-align: middle;\n",
       "    }\n",
       "\n",
       "    .dataframe tbody tr th {\n",
       "        vertical-align: top;\n",
       "    }\n",
       "\n",
       "    .dataframe thead th {\n",
       "        text-align: right;\n",
       "    }\n",
       "</style>\n",
       "<table border=\"1\" class=\"dataframe\">\n",
       "  <thead>\n",
       "    <tr style=\"text-align: right;\">\n",
       "      <th></th>\n",
       "      <th>Gene ID</th>\n",
       "      <th>Product Description</th>\n",
       "      <th>Ortholog Group</th>\n",
       "    </tr>\n",
       "  </thead>\n",
       "  <tbody>\n",
       "    <tr>\n",
       "      <th>0</th>\n",
       "      <td>Tb04.24M18.150</td>\n",
       "      <td>hypothetical protein, conserved</td>\n",
       "      <td>OG5_143945</td>\n",
       "    </tr>\n",
       "    <tr>\n",
       "      <th>1</th>\n",
       "      <td>Tb04.3I12.100</td>\n",
       "      <td>hypothetical protein</td>\n",
       "      <td>OG5_tbru|Tb04.3I12.100</td>\n",
       "    </tr>\n",
       "    <tr>\n",
       "      <th>2</th>\n",
       "      <td>Tb05.30F7.410</td>\n",
       "      <td>hypothetical protein</td>\n",
       "      <td>OG5_tbru|Tb05.30F7.410</td>\n",
       "    </tr>\n",
       "    <tr>\n",
       "      <th>3</th>\n",
       "      <td>Tb05.5K5.10</td>\n",
       "      <td>conserved hypothetical protein, conserved (fra...</td>\n",
       "      <td>OG5_143091</td>\n",
       "    </tr>\n",
       "    <tr>\n",
       "      <th>4</th>\n",
       "      <td>Tb05.5K5.100</td>\n",
       "      <td>hypothetical protein, conserved</td>\n",
       "      <td>OG5_167743</td>\n",
       "    </tr>\n",
       "  </tbody>\n",
       "</table>\n",
       "</div>"
      ],
      "text/plain": [
       "          Gene ID                                Product Description  \\\n",
       "0  Tb04.24M18.150                    hypothetical protein, conserved   \n",
       "1   Tb04.3I12.100                               hypothetical protein   \n",
       "2   Tb05.30F7.410                               hypothetical protein   \n",
       "3     Tb05.5K5.10  conserved hypothetical protein, conserved (fra...   \n",
       "4    Tb05.5K5.100                    hypothetical protein, conserved   \n",
       "\n",
       "           Ortholog Group  \n",
       "0              OG5_143945  \n",
       "1  OG5_tbru|Tb04.3I12.100  \n",
       "2  OG5_tbru|Tb05.30F7.410  \n",
       "3              OG5_143091  \n",
       "4              OG5_167743  "
      ]
     },
     "execution_count": 4,
     "metadata": {},
     "output_type": "execute_result"
    }
   ],
   "source": [
    "import pandas as pd\n",
    "#load the dataset\n",
    "#final_df = pd.read_csv('indata/GenesByTaxon_Summary_43.zip',sep='\\t')\n",
    "tryp_df = pd.read_csv(os.path.join('input','GenesByTaxon_Summary_45.zip'), sep='\\t')\n",
    "#just to store the gene description\n",
    "tryp_df = tryp_df[['Gene ID','Product Description','Ortholog Group']]\n",
    "print(tryp_df.shape)\n",
    "tryp_df.head()"
   ]
  },
  {
   "cell_type": "code",
   "execution_count": 5,
   "metadata": {},
   "outputs": [],
   "source": [
    "#we take only one gene x ortholog group\n",
    "selection = tryp_df.drop_duplicates('Ortholog Group')"
   ]
  },
  {
   "cell_type": "markdown",
   "metadata": {},
   "source": [
    "#### RNA-Seq phenotyping\n",
    "Alsford S, 2011<p>\n",
    "High-throughput phenotyping using parallel sequencing of RNA interference targets in the African trypanosome\n",
    "PMID:<a href=\"https://www.ncbi.nlm.nih.gov/pubmed/21363968\">21363968</a> and\n",
    "<a href=\"https://tritrypdb.org/tritrypdb/app/record/dataset/dataset/DS_3f5188c7a8\">TryTripDB</a>\n",
    "    \n",
    "The dataset deposited in TriTrypDB contain a mixture of numbers and numbers followed by an asterisks.we Don't know why but can't use it for now.   "
   ]
  },
  {
   "cell_type": "code",
   "execution_count": 6,
   "metadata": {},
   "outputs": [
    {
     "data": {
      "text/html": [
       "['BFd3/Tet- (CDS only)', 'BFd6/Tet-', 'PF/Tet-', 'difn/Tet-BFd3/Tet- (CDS only)', 'BFd6/Tet- (CDS only)', 'PF/Tet- (CDS only)', 'difn/Tet- (CDS only)']"
      ],
      "text/plain": [
       "['BFd3/Tet- (CDS only)',\n",
       " 'BFd6/Tet-',\n",
       " 'PF/Tet-',\n",
       " 'difn/Tet-BFd3/Tet- (CDS only)',\n",
       " 'BFd6/Tet- (CDS only)',\n",
       " 'PF/Tet- (CDS only)',\n",
       " 'difn/Tet- (CDS only)']"
      ]
     },
     "execution_count": 6,
     "metadata": {},
     "output_type": "execute_result"
    }
   ],
   "source": [
    "#experiment columns\n",
    "['BFd3/Tet- (CDS only)', 'BFd6/Tet-',  'PF/Tet-', 'difn/Tet-' \n",
    "'BFd3/Tet- (CDS only)', 'BFd6/Tet- (CDS only)',\n",
    "'PF/Tet- (CDS only)', 'difn/Tet- (CDS only)']"
   ]
  },
  {
   "cell_type": "markdown",
   "metadata": {},
   "source": [
    "## Modelling of protein essentiality\n",
    "\n"
   ]
  },
  {
   "cell_type": "code",
   "execution_count": 7,
   "metadata": {},
   "outputs": [],
   "source": [
    "#we use only protein coding genes\n",
    "ml_dfs=pd.read_csv(os.path.join('output', 'final_df.csv.gz'),index_col=[0])\n",
    "ml_dfs = ml_dfs[ml_dfs['SF_Prot_Coding']==1]\n",
    "del ml_dfs['SF_Prot_Coding']"
   ]
  },
  {
   "cell_type": "code",
   "execution_count": 8,
   "metadata": {},
   "outputs": [],
   "source": [
    "#we use TryTripDB to map the genes reported in Sup File 1 of Alsford S et, 2011\n",
    "mapping = pd.read_csv(os.path.join('input','essential','mapping.txt'),sep='\\t')\n",
    "#we extract the z-score computed with the DEGseq package in Alsford S et, 2011\n",
    "gene_classes = pd.read_csv(os.path.join('input','essential','gene_score.txt'),sep='\\t')\n",
    "mapping = mapping.merge(gene_classes,left_on='Input ID',right_on='Gene_id')\n",
    "mapping = mapping.drop_duplicates('Ortholog Group')\n",
    "#mapping['target'].value_counts()"
   ]
  },
  {
   "cell_type": "code",
   "execution_count": 9,
   "metadata": {},
   "outputs": [
    {
     "data": {
      "text/html": [
       "<div>\n",
       "<style scoped>\n",
       "    .dataframe tbody tr th:only-of-type {\n",
       "        vertical-align: middle;\n",
       "    }\n",
       "\n",
       "    .dataframe tbody tr th {\n",
       "        vertical-align: top;\n",
       "    }\n",
       "\n",
       "    .dataframe thead th {\n",
       "        text-align: right;\n",
       "    }\n",
       "</style>\n",
       "<table border=\"1\" class=\"dataframe\">\n",
       "  <thead>\n",
       "    <tr style=\"text-align: right;\">\n",
       "      <th></th>\n",
       "      <th>Gene ID</th>\n",
       "      <th>Z_score</th>\n",
       "    </tr>\n",
       "  </thead>\n",
       "  <tbody>\n",
       "    <tr>\n",
       "      <th>0</th>\n",
       "      <td>Tb04.24M18.150</td>\n",
       "      <td>0.59</td>\n",
       "    </tr>\n",
       "    <tr>\n",
       "      <th>1</th>\n",
       "      <td>Tb04.3I12.100</td>\n",
       "      <td>-1.18</td>\n",
       "    </tr>\n",
       "    <tr>\n",
       "      <th>2</th>\n",
       "      <td>Tb05.30F7.410</td>\n",
       "      <td>-4.18</td>\n",
       "    </tr>\n",
       "    <tr>\n",
       "      <th>3</th>\n",
       "      <td>Tb06.3A7.270</td>\n",
       "      <td>-4.77</td>\n",
       "    </tr>\n",
       "    <tr>\n",
       "      <th>4</th>\n",
       "      <td>Tb06.3A7.960</td>\n",
       "      <td>1.81</td>\n",
       "    </tr>\n",
       "  </tbody>\n",
       "</table>\n",
       "</div>"
      ],
      "text/plain": [
       "          Gene ID  Z_score\n",
       "0  Tb04.24M18.150     0.59\n",
       "1   Tb04.3I12.100    -1.18\n",
       "2   Tb05.30F7.410    -4.18\n",
       "3    Tb06.3A7.270    -4.77\n",
       "4    Tb06.3A7.960     1.81"
      ]
     },
     "execution_count": 9,
     "metadata": {},
     "output_type": "execute_result"
    }
   ],
   "source": [
    "mapping = mapping[['Gene ID','Z_score']]\n",
    "mapping.head()"
   ]
  },
  {
   "cell_type": "code",
   "execution_count": 10,
   "metadata": {},
   "outputs": [],
   "source": [
    "ml_dfs = ml_dfs.merge(mapping,left_on='Gene ID',right_on='Gene ID',how='inner')"
   ]
  },
  {
   "cell_type": "code",
   "execution_count": 11,
   "metadata": {},
   "outputs": [],
   "source": [
    "#ml_dfs.isna().sum(axis=1).value_counts()"
   ]
  },
  {
   "cell_type": "code",
   "execution_count": 12,
   "metadata": {},
   "outputs": [],
   "source": [
    "#we use only genes with a low counts of missing values\n",
    "#ml_dfs = ml_dfs[ml_dfs.isna().sum(axis=1)<5]"
   ]
  },
  {
   "cell_type": "code",
   "execution_count": 13,
   "metadata": {},
   "outputs": [
    {
     "data": {
      "text/html": [
       "<div>\n",
       "<style scoped>\n",
       "    .dataframe tbody tr th:only-of-type {\n",
       "        vertical-align: middle;\n",
       "    }\n",
       "\n",
       "    .dataframe tbody tr th {\n",
       "        vertical-align: top;\n",
       "    }\n",
       "\n",
       "    .dataframe thead th {\n",
       "        text-align: right;\n",
       "    }\n",
       "</style>\n",
       "<table border=\"1\" class=\"dataframe\">\n",
       "  <thead>\n",
       "    <tr style=\"text-align: right;\">\n",
       "      <th></th>\n",
       "      <th>Gene ID</th>\n",
       "      <th>EF_merged_PCF_BSF</th>\n",
       "      <th>EF_LSvSS</th>\n",
       "      <th>EF_CellCycle_min_max</th>\n",
       "      <th>EF_CellCycle_max</th>\n",
       "      <th>EF_CellCycle_min</th>\n",
       "      <th>EF_Abundance_BSF</th>\n",
       "      <th>EF_Abundance_PCF</th>\n",
       "      <th>EF_MW_fc</th>\n",
       "      <th>EF_in_complex</th>\n",
       "      <th>...</th>\n",
       "      <th>PF_ofer_w8: F Entropy</th>\n",
       "      <th>PF_ofer_w8: G Entropy</th>\n",
       "      <th>PF_ofer_w8: K Entropy</th>\n",
       "      <th>PF_ofer_w8: M Entropy</th>\n",
       "      <th>PF_ofer_w8: N Entropy</th>\n",
       "      <th>PF_ofer_w8: Total Entropy</th>\n",
       "      <th>PF_polarizability aaScale - Window size:17 Average-Trimmed MAX</th>\n",
       "      <th>PF_polarizability aaScale - Window size:17 MAXIMUM</th>\n",
       "      <th>PF_polarizability aaScale - Window size:7 MAXIMUM</th>\n",
       "      <th>Z_score</th>\n",
       "    </tr>\n",
       "  </thead>\n",
       "  <tbody>\n",
       "    <tr>\n",
       "      <th>0</th>\n",
       "      <td>Tb04.24M18.150</td>\n",
       "      <td>0.402848</td>\n",
       "      <td>NaN</td>\n",
       "      <td>0.000000</td>\n",
       "      <td>0.5</td>\n",
       "      <td>0.5</td>\n",
       "      <td>5.870638</td>\n",
       "      <td>7.631146</td>\n",
       "      <td>229.80530</td>\n",
       "      <td>-1.0</td>\n",
       "      <td>...</td>\n",
       "      <td>2.385654</td>\n",
       "      <td>3.339850</td>\n",
       "      <td>2.754888</td>\n",
       "      <td>3.432959</td>\n",
       "      <td>3.252387</td>\n",
       "      <td>2.844283</td>\n",
       "      <td>0.143641</td>\n",
       "      <td>0.170043</td>\n",
       "      <td>0.184429</td>\n",
       "      <td>0.59</td>\n",
       "    </tr>\n",
       "    <tr>\n",
       "      <th>1</th>\n",
       "      <td>Tb04.3I12.100</td>\n",
       "      <td>NaN</td>\n",
       "      <td>NaN</td>\n",
       "      <td>NaN</td>\n",
       "      <td>NaN</td>\n",
       "      <td>NaN</td>\n",
       "      <td>NaN</td>\n",
       "      <td>NaN</td>\n",
       "      <td>0.00000</td>\n",
       "      <td>-1.0</td>\n",
       "      <td>...</td>\n",
       "      <td>1.405515</td>\n",
       "      <td>2.990477</td>\n",
       "      <td>2.846087</td>\n",
       "      <td>3.916477</td>\n",
       "      <td>2.916477</td>\n",
       "      <td>2.618204</td>\n",
       "      <td>0.173773</td>\n",
       "      <td>0.199140</td>\n",
       "      <td>0.200857</td>\n",
       "      <td>-1.18</td>\n",
       "    </tr>\n",
       "    <tr>\n",
       "      <th>2</th>\n",
       "      <td>Tb05.30F7.410</td>\n",
       "      <td>NaN</td>\n",
       "      <td>NaN</td>\n",
       "      <td>NaN</td>\n",
       "      <td>NaN</td>\n",
       "      <td>NaN</td>\n",
       "      <td>NaN</td>\n",
       "      <td>NaN</td>\n",
       "      <td>0.00000</td>\n",
       "      <td>-1.0</td>\n",
       "      <td>...</td>\n",
       "      <td>3.152952</td>\n",
       "      <td>2.645992</td>\n",
       "      <td>2.493989</td>\n",
       "      <td>3.593525</td>\n",
       "      <td>3.152952</td>\n",
       "      <td>2.916539</td>\n",
       "      <td>0.141305</td>\n",
       "      <td>0.163202</td>\n",
       "      <td>0.169000</td>\n",
       "      <td>-4.18</td>\n",
       "    </tr>\n",
       "    <tr>\n",
       "      <th>3</th>\n",
       "      <td>Tb06.3A7.270</td>\n",
       "      <td>NaN</td>\n",
       "      <td>NaN</td>\n",
       "      <td>0.263034</td>\n",
       "      <td>0.5</td>\n",
       "      <td>9.0</td>\n",
       "      <td>NaN</td>\n",
       "      <td>7.002362</td>\n",
       "      <td>33.51486</td>\n",
       "      <td>-1.0</td>\n",
       "      <td>...</td>\n",
       "      <td>2.656624</td>\n",
       "      <td>3.019194</td>\n",
       "      <td>3.229613</td>\n",
       "      <td>3.217739</td>\n",
       "      <td>2.593888</td>\n",
       "      <td>2.912492</td>\n",
       "      <td>0.137135</td>\n",
       "      <td>0.168229</td>\n",
       "      <td>0.177429</td>\n",
       "      <td>-4.77</td>\n",
       "    </tr>\n",
       "    <tr>\n",
       "      <th>4</th>\n",
       "      <td>Tb06.3A7.960</td>\n",
       "      <td>-1.430681</td>\n",
       "      <td>NaN</td>\n",
       "      <td>0.263034</td>\n",
       "      <td>8.0</td>\n",
       "      <td>3.0</td>\n",
       "      <td>7.355485</td>\n",
       "      <td>7.543305</td>\n",
       "      <td>91.99412</td>\n",
       "      <td>-1.0</td>\n",
       "      <td>...</td>\n",
       "      <td>2.603699</td>\n",
       "      <td>4.106199</td>\n",
       "      <td>3.066671</td>\n",
       "      <td>3.231730</td>\n",
       "      <td>2.816693</td>\n",
       "      <td>2.860678</td>\n",
       "      <td>0.140238</td>\n",
       "      <td>0.166865</td>\n",
       "      <td>0.176143</td>\n",
       "      <td>1.81</td>\n",
       "    </tr>\n",
       "  </tbody>\n",
       "</table>\n",
       "<p>5 rows × 1403 columns</p>\n",
       "</div>"
      ],
      "text/plain": [
       "          Gene ID  EF_merged_PCF_BSF  EF_LSvSS  EF_CellCycle_min_max  \\\n",
       "0  Tb04.24M18.150           0.402848       NaN              0.000000   \n",
       "1   Tb04.3I12.100                NaN       NaN                   NaN   \n",
       "2   Tb05.30F7.410                NaN       NaN                   NaN   \n",
       "3    Tb06.3A7.270                NaN       NaN              0.263034   \n",
       "4    Tb06.3A7.960          -1.430681       NaN              0.263034   \n",
       "\n",
       "   EF_CellCycle_max  EF_CellCycle_min  EF_Abundance_BSF  EF_Abundance_PCF  \\\n",
       "0               0.5               0.5          5.870638          7.631146   \n",
       "1               NaN               NaN               NaN               NaN   \n",
       "2               NaN               NaN               NaN               NaN   \n",
       "3               0.5               9.0               NaN          7.002362   \n",
       "4               8.0               3.0          7.355485          7.543305   \n",
       "\n",
       "    EF_MW_fc  EF_in_complex   ...     PF_ofer_w8: F Entropy  \\\n",
       "0  229.80530           -1.0   ...                  2.385654   \n",
       "1    0.00000           -1.0   ...                  1.405515   \n",
       "2    0.00000           -1.0   ...                  3.152952   \n",
       "3   33.51486           -1.0   ...                  2.656624   \n",
       "4   91.99412           -1.0   ...                  2.603699   \n",
       "\n",
       "   PF_ofer_w8: G Entropy  PF_ofer_w8: K Entropy  PF_ofer_w8: M Entropy  \\\n",
       "0               3.339850               2.754888               3.432959   \n",
       "1               2.990477               2.846087               3.916477   \n",
       "2               2.645992               2.493989               3.593525   \n",
       "3               3.019194               3.229613               3.217739   \n",
       "4               4.106199               3.066671               3.231730   \n",
       "\n",
       "   PF_ofer_w8: N Entropy  PF_ofer_w8: Total Entropy  \\\n",
       "0               3.252387                   2.844283   \n",
       "1               2.916477                   2.618204   \n",
       "2               3.152952                   2.916539   \n",
       "3               2.593888                   2.912492   \n",
       "4               2.816693                   2.860678   \n",
       "\n",
       "   PF_polarizability aaScale - Window size:17 Average-Trimmed MAX  \\\n",
       "0                                           0.143641                \n",
       "1                                           0.173773                \n",
       "2                                           0.141305                \n",
       "3                                           0.137135                \n",
       "4                                           0.140238                \n",
       "\n",
       "   PF_polarizability aaScale - Window size:17 MAXIMUM   \\\n",
       "0                                           0.170043     \n",
       "1                                           0.199140     \n",
       "2                                           0.163202     \n",
       "3                                           0.168229     \n",
       "4                                           0.166865     \n",
       "\n",
       "   PF_polarizability aaScale - Window size:7 MAXIMUM   Z_score  \n",
       "0                                           0.184429      0.59  \n",
       "1                                           0.200857     -1.18  \n",
       "2                                           0.169000     -4.18  \n",
       "3                                           0.177429     -4.77  \n",
       "4                                           0.176143      1.81  \n",
       "\n",
       "[5 rows x 1403 columns]"
      ]
     },
     "execution_count": 13,
     "metadata": {},
     "output_type": "execute_result"
    }
   ],
   "source": [
    "ml_dfs.head()"
   ]
  },
  {
   "cell_type": "code",
   "execution_count": 14,
   "metadata": {},
   "outputs": [
    {
     "data": {
      "text/plain": [
       "<matplotlib.axes._subplots.AxesSubplot at 0x13584ac8>"
      ]
     },
     "execution_count": 14,
     "metadata": {},
     "output_type": "execute_result"
    },
    {
     "data": {
      "image/png": "[encoded data removed]",
      "text/plain": [
       "<Figure size 432x288 with 1 Axes>"
      ]
     },
     "metadata": {
      "needs_background": "light"
     },
     "output_type": "display_data"
    }
   ],
   "source": [
    "ml_dfs['Z_score'].plot(kind='hist')"
   ]
  },
  {
   "cell_type": "code",
   "execution_count": 15,
   "metadata": {},
   "outputs": [
    {
     "data": {
      "text/html": [
       "<div>\n",
       "<style scoped>\n",
       "    .dataframe tbody tr th:only-of-type {\n",
       "        vertical-align: middle;\n",
       "    }\n",
       "\n",
       "    .dataframe tbody tr th {\n",
       "        vertical-align: top;\n",
       "    }\n",
       "\n",
       "    .dataframe thead th {\n",
       "        text-align: right;\n",
       "    }\n",
       "</style>\n",
       "<table border=\"1\" class=\"dataframe\">\n",
       "  <thead>\n",
       "    <tr style=\"text-align: right;\">\n",
       "      <th></th>\n",
       "      <th>Gene ID</th>\n",
       "      <th>EF_merged_PCF_BSF</th>\n",
       "      <th>EF_LSvSS</th>\n",
       "      <th>EF_CellCycle_min_max</th>\n",
       "      <th>EF_CellCycle_max</th>\n",
       "      <th>EF_CellCycle_min</th>\n",
       "      <th>EF_Abundance_BSF</th>\n",
       "      <th>EF_Abundance_PCF</th>\n",
       "      <th>EF_MW_fc</th>\n",
       "      <th>EF_in_complex</th>\n",
       "      <th>...</th>\n",
       "      <th>PF_ofer_w8: F Entropy</th>\n",
       "      <th>PF_ofer_w8: G Entropy</th>\n",
       "      <th>PF_ofer_w8: K Entropy</th>\n",
       "      <th>PF_ofer_w8: M Entropy</th>\n",
       "      <th>PF_ofer_w8: N Entropy</th>\n",
       "      <th>PF_ofer_w8: Total Entropy</th>\n",
       "      <th>PF_polarizability aaScale - Window size:17 Average-Trimmed MAX</th>\n",
       "      <th>PF_polarizability aaScale - Window size:17 MAXIMUM</th>\n",
       "      <th>PF_polarizability aaScale - Window size:7 MAXIMUM</th>\n",
       "      <th>Z_score</th>\n",
       "    </tr>\n",
       "  </thead>\n",
       "  <tbody>\n",
       "    <tr>\n",
       "      <th>35</th>\n",
       "      <td>Tb927.1.1230</td>\n",
       "      <td>NaN</td>\n",
       "      <td>NaN</td>\n",
       "      <td>0.378512</td>\n",
       "      <td>10.0</td>\n",
       "      <td>0.5</td>\n",
       "      <td>NaN</td>\n",
       "      <td>NaN</td>\n",
       "      <td>0.000000</td>\n",
       "      <td>-1.0</td>\n",
       "      <td>...</td>\n",
       "      <td>2.658963</td>\n",
       "      <td>2.717066</td>\n",
       "      <td>3.048910</td>\n",
       "      <td>3.352302</td>\n",
       "      <td>2.640104</td>\n",
       "      <td>2.921105</td>\n",
       "      <td>0.136699</td>\n",
       "      <td>0.167115</td>\n",
       "      <td>0.176429</td>\n",
       "      <td>-11.43</td>\n",
       "    </tr>\n",
       "    <tr>\n",
       "      <th>5250</th>\n",
       "      <td>Tb927.7.340</td>\n",
       "      <td>NaN</td>\n",
       "      <td>NaN</td>\n",
       "      <td>0.125531</td>\n",
       "      <td>11.0</td>\n",
       "      <td>0.5</td>\n",
       "      <td>5.705368</td>\n",
       "      <td>NaN</td>\n",
       "      <td>0.000000</td>\n",
       "      <td>-1.0</td>\n",
       "      <td>...</td>\n",
       "      <td>2.375867</td>\n",
       "      <td>3.067744</td>\n",
       "      <td>3.067744</td>\n",
       "      <td>3.183222</td>\n",
       "      <td>2.926882</td>\n",
       "      <td>2.873144</td>\n",
       "      <td>0.147260</td>\n",
       "      <td>0.170979</td>\n",
       "      <td>0.183857</td>\n",
       "      <td>-10.86</td>\n",
       "    </tr>\n",
       "    <tr>\n",
       "      <th>4052</th>\n",
       "      <td>Tb927.4.3360</td>\n",
       "      <td>NaN</td>\n",
       "      <td>NaN</td>\n",
       "      <td>0.125531</td>\n",
       "      <td>9.0</td>\n",
       "      <td>0.5</td>\n",
       "      <td>6.775503</td>\n",
       "      <td>7.074704</td>\n",
       "      <td>84.052520</td>\n",
       "      <td>-1.0</td>\n",
       "      <td>...</td>\n",
       "      <td>2.840219</td>\n",
       "      <td>3.239827</td>\n",
       "      <td>2.936435</td>\n",
       "      <td>2.987061</td>\n",
       "      <td>2.706953</td>\n",
       "      <td>2.919227</td>\n",
       "      <td>0.140345</td>\n",
       "      <td>0.172692</td>\n",
       "      <td>0.182286</td>\n",
       "      <td>-10.47</td>\n",
       "    </tr>\n",
       "    <tr>\n",
       "      <th>249</th>\n",
       "      <td>Tb927.10.10090</td>\n",
       "      <td>-0.204270</td>\n",
       "      <td>NaN</td>\n",
       "      <td>0.263034</td>\n",
       "      <td>5.0</td>\n",
       "      <td>0.5</td>\n",
       "      <td>6.991785</td>\n",
       "      <td>7.289354</td>\n",
       "      <td>25.857680</td>\n",
       "      <td>-1.0</td>\n",
       "      <td>...</td>\n",
       "      <td>2.553427</td>\n",
       "      <td>3.177918</td>\n",
       "      <td>3.062441</td>\n",
       "      <td>3.107528</td>\n",
       "      <td>2.633597</td>\n",
       "      <td>2.909657</td>\n",
       "      <td>0.145437</td>\n",
       "      <td>0.174176</td>\n",
       "      <td>0.184429</td>\n",
       "      <td>-9.44</td>\n",
       "    </tr>\n",
       "    <tr>\n",
       "      <th>6696</th>\n",
       "      <td>Tb927.9.4080</td>\n",
       "      <td>-0.014103</td>\n",
       "      <td>0.3</td>\n",
       "      <td>0.125531</td>\n",
       "      <td>3.0</td>\n",
       "      <td>0.5</td>\n",
       "      <td>7.973543</td>\n",
       "      <td>8.096907</td>\n",
       "      <td>0.048094</td>\n",
       "      <td>-1.0</td>\n",
       "      <td>...</td>\n",
       "      <td>2.967432</td>\n",
       "      <td>2.591565</td>\n",
       "      <td>3.102362</td>\n",
       "      <td>3.371065</td>\n",
       "      <td>2.598198</td>\n",
       "      <td>2.909299</td>\n",
       "      <td>0.133051</td>\n",
       "      <td>0.169883</td>\n",
       "      <td>0.176857</td>\n",
       "      <td>-9.38</td>\n",
       "    </tr>\n",
       "  </tbody>\n",
       "</table>\n",
       "<p>5 rows × 1403 columns</p>\n",
       "</div>"
      ],
      "text/plain": [
       "             Gene ID  EF_merged_PCF_BSF  EF_LSvSS  EF_CellCycle_min_max  \\\n",
       "35      Tb927.1.1230                NaN       NaN              0.378512   \n",
       "5250     Tb927.7.340                NaN       NaN              0.125531   \n",
       "4052    Tb927.4.3360                NaN       NaN              0.125531   \n",
       "249   Tb927.10.10090          -0.204270       NaN              0.263034   \n",
       "6696    Tb927.9.4080          -0.014103       0.3              0.125531   \n",
       "\n",
       "      EF_CellCycle_max  EF_CellCycle_min  EF_Abundance_BSF  EF_Abundance_PCF  \\\n",
       "35                10.0               0.5               NaN               NaN   \n",
       "5250              11.0               0.5          5.705368               NaN   \n",
       "4052               9.0               0.5          6.775503          7.074704   \n",
       "249                5.0               0.5          6.991785          7.289354   \n",
       "6696               3.0               0.5          7.973543          8.096907   \n",
       "\n",
       "       EF_MW_fc  EF_in_complex   ...     PF_ofer_w8: F Entropy  \\\n",
       "35     0.000000           -1.0   ...                  2.658963   \n",
       "5250   0.000000           -1.0   ...                  2.375867   \n",
       "4052  84.052520           -1.0   ...                  2.840219   \n",
       "249   25.857680           -1.0   ...                  2.553427   \n",
       "6696   0.048094           -1.0   ...                  2.967432   \n",
       "\n",
       "      PF_ofer_w8: G Entropy  PF_ofer_w8: K Entropy  PF_ofer_w8: M Entropy  \\\n",
       "35                 2.717066               3.048910               3.352302   \n",
       "5250               3.067744               3.067744               3.183222   \n",
       "4052               3.239827               2.936435               2.987061   \n",
       "249                3.177918               3.062441               3.107528   \n",
       "6696               2.591565               3.102362               3.371065   \n",
       "\n",
       "      PF_ofer_w8: N Entropy  PF_ofer_w8: Total Entropy  \\\n",
       "35                 2.640104                   2.921105   \n",
       "5250               2.926882                   2.873144   \n",
       "4052               2.706953                   2.919227   \n",
       "249                2.633597                   2.909657   \n",
       "6696               2.598198                   2.909299   \n",
       "\n",
       "      PF_polarizability aaScale - Window size:17 Average-Trimmed MAX  \\\n",
       "35                                             0.136699                \n",
       "5250                                           0.147260                \n",
       "4052                                           0.140345                \n",
       "249                                            0.145437                \n",
       "6696                                           0.133051                \n",
       "\n",
       "      PF_polarizability aaScale - Window size:17 MAXIMUM   \\\n",
       "35                                             0.167115     \n",
       "5250                                           0.170979     \n",
       "4052                                           0.172692     \n",
       "249                                            0.174176     \n",
       "6696                                           0.169883     \n",
       "\n",
       "      PF_polarizability aaScale - Window size:7 MAXIMUM   Z_score  \n",
       "35                                             0.176429    -11.43  \n",
       "5250                                           0.183857    -10.86  \n",
       "4052                                           0.182286    -10.47  \n",
       "249                                            0.184429     -9.44  \n",
       "6696                                           0.176857     -9.38  \n",
       "\n",
       "[5 rows x 1403 columns]"
      ]
     },
     "execution_count": 15,
     "metadata": {},
     "output_type": "execute_result"
    }
   ],
   "source": [
    "ml_dfs.sort_values('Z_score').head()"
   ]
  },
  {
   "cell_type": "code",
   "execution_count": 16,
   "metadata": {},
   "outputs": [],
   "source": [
    "#ml_dfs.sort_values('Z_score').head(500)['Z_score'].describe()"
   ]
  },
  {
   "cell_type": "code",
   "execution_count": 54,
   "metadata": {},
   "outputs": [],
   "source": [
    "to_sample=400\n",
    "ml_df = pd.concat([ml_dfs.sort_values('Z_score').tail(to_sample),\n",
    "                   ml_dfs.sort_values('Z_score').head(to_sample)])"
   ]
  },
  {
   "cell_type": "code",
   "execution_count": 55,
   "metadata": {},
   "outputs": [],
   "source": [
    "ml_df['target'] = [1 for n in range(to_sample)]+[0 for n in range(to_sample)]"
   ]
  },
  {
   "cell_type": "code",
   "execution_count": 56,
   "metadata": {},
   "outputs": [
    {
     "data": {
      "text/plain": [
       "1    400\n",
       "0    400\n",
       "Name: target, dtype: int64"
      ]
     },
     "execution_count": 56,
     "metadata": {},
     "output_type": "execute_result"
    }
   ],
   "source": [
    "ml_df['target'].value_counts()"
   ]
  },
  {
   "cell_type": "code",
   "execution_count": 57,
   "metadata": {},
   "outputs": [],
   "source": [
    "#ml_df = ml_df[[n for n in ml_df.columns if n.startswith('PF_') ]+['target']]"
   ]
  },
  {
   "cell_type": "code",
   "execution_count": 58,
   "metadata": {},
   "outputs": [
    {
     "data": {
      "text/html": [
       "<div>\n",
       "<style scoped>\n",
       "    .dataframe tbody tr th:only-of-type {\n",
       "        vertical-align: middle;\n",
       "    }\n",
       "\n",
       "    .dataframe tbody tr th {\n",
       "        vertical-align: top;\n",
       "    }\n",
       "\n",
       "    .dataframe thead th {\n",
       "        text-align: right;\n",
       "    }\n",
       "</style>\n",
       "<table border=\"1\" class=\"dataframe\">\n",
       "  <thead>\n",
       "    <tr style=\"text-align: right;\">\n",
       "      <th></th>\n",
       "      <th>Gene ID</th>\n",
       "      <th>EF_merged_PCF_BSF</th>\n",
       "      <th>EF_LSvSS</th>\n",
       "      <th>EF_CellCycle_min_max</th>\n",
       "      <th>EF_CellCycle_max</th>\n",
       "      <th>EF_CellCycle_min</th>\n",
       "      <th>EF_Abundance_BSF</th>\n",
       "      <th>EF_Abundance_PCF</th>\n",
       "      <th>EF_MW_fc</th>\n",
       "      <th>EF_in_complex</th>\n",
       "      <th>...</th>\n",
       "      <th>PF_ofer_w8: G Entropy</th>\n",
       "      <th>PF_ofer_w8: K Entropy</th>\n",
       "      <th>PF_ofer_w8: M Entropy</th>\n",
       "      <th>PF_ofer_w8: N Entropy</th>\n",
       "      <th>PF_ofer_w8: Total Entropy</th>\n",
       "      <th>PF_polarizability aaScale - Window size:17 Average-Trimmed MAX</th>\n",
       "      <th>PF_polarizability aaScale - Window size:17 MAXIMUM</th>\n",
       "      <th>PF_polarizability aaScale - Window size:7 MAXIMUM</th>\n",
       "      <th>Z_score</th>\n",
       "      <th>target</th>\n",
       "    </tr>\n",
       "  </thead>\n",
       "  <tbody>\n",
       "    <tr>\n",
       "      <th>5085</th>\n",
       "      <td>Tb927.7.1460</td>\n",
       "      <td>0.085868</td>\n",
       "      <td>-0.64</td>\n",
       "      <td>0.263034</td>\n",
       "      <td>0.5</td>\n",
       "      <td>10.0</td>\n",
       "      <td>7.082324</td>\n",
       "      <td>7.203450</td>\n",
       "      <td>0.908191</td>\n",
       "      <td>-1.0</td>\n",
       "      <td>...</td>\n",
       "      <td>3.333901</td>\n",
       "      <td>3.769116</td>\n",
       "      <td>2.852774</td>\n",
       "      <td>2.930179</td>\n",
       "      <td>2.868887</td>\n",
       "      <td>0.143665</td>\n",
       "      <td>0.166181</td>\n",
       "      <td>0.176143</td>\n",
       "      <td>6.62</td>\n",
       "      <td>1</td>\n",
       "    </tr>\n",
       "    <tr>\n",
       "      <th>1958</th>\n",
       "      <td>Tb927.11.13240</td>\n",
       "      <td>NaN</td>\n",
       "      <td>NaN</td>\n",
       "      <td>NaN</td>\n",
       "      <td>NaN</td>\n",
       "      <td>NaN</td>\n",
       "      <td>6.502785</td>\n",
       "      <td>6.757865</td>\n",
       "      <td>152.491500</td>\n",
       "      <td>-1.0</td>\n",
       "      <td>...</td>\n",
       "      <td>2.700440</td>\n",
       "      <td>3.424805</td>\n",
       "      <td>2.590815</td>\n",
       "      <td>3.041477</td>\n",
       "      <td>2.926139</td>\n",
       "      <td>0.140119</td>\n",
       "      <td>0.169133</td>\n",
       "      <td>0.182714</td>\n",
       "      <td>6.62</td>\n",
       "      <td>1</td>\n",
       "    </tr>\n",
       "    <tr>\n",
       "      <th>5927</th>\n",
       "      <td>Tb927.8.4210</td>\n",
       "      <td>-0.263934</td>\n",
       "      <td>NaN</td>\n",
       "      <td>0.137504</td>\n",
       "      <td>0.5</td>\n",
       "      <td>3.0</td>\n",
       "      <td>8.456597</td>\n",
       "      <td>8.838866</td>\n",
       "      <td>0.788485</td>\n",
       "      <td>-1.0</td>\n",
       "      <td>...</td>\n",
       "      <td>3.353254</td>\n",
       "      <td>3.666412</td>\n",
       "      <td>3.388878</td>\n",
       "      <td>2.501353</td>\n",
       "      <td>2.889866</td>\n",
       "      <td>0.139668</td>\n",
       "      <td>0.158617</td>\n",
       "      <td>0.169143</td>\n",
       "      <td>6.63</td>\n",
       "      <td>1</td>\n",
       "    </tr>\n",
       "    <tr>\n",
       "      <th>5942</th>\n",
       "      <td>Tb927.8.4370</td>\n",
       "      <td>-1.048078</td>\n",
       "      <td>NaN</td>\n",
       "      <td>0.263034</td>\n",
       "      <td>3.0</td>\n",
       "      <td>0.5</td>\n",
       "      <td>8.302902</td>\n",
       "      <td>7.274277</td>\n",
       "      <td>41.415264</td>\n",
       "      <td>-1.0</td>\n",
       "      <td>...</td>\n",
       "      <td>2.863938</td>\n",
       "      <td>3.143222</td>\n",
       "      <td>3.420332</td>\n",
       "      <td>2.649814</td>\n",
       "      <td>2.919698</td>\n",
       "      <td>0.137855</td>\n",
       "      <td>0.174937</td>\n",
       "      <td>0.180571</td>\n",
       "      <td>6.63</td>\n",
       "      <td>1</td>\n",
       "    </tr>\n",
       "    <tr>\n",
       "      <th>2312</th>\n",
       "      <td>Tb927.11.16720</td>\n",
       "      <td>NaN</td>\n",
       "      <td>NaN</td>\n",
       "      <td>2.502500</td>\n",
       "      <td>8.0</td>\n",
       "      <td>0.5</td>\n",
       "      <td>6.717671</td>\n",
       "      <td>6.858151</td>\n",
       "      <td>0.160470</td>\n",
       "      <td>-1.0</td>\n",
       "      <td>...</td>\n",
       "      <td>3.690316</td>\n",
       "      <td>3.062284</td>\n",
       "      <td>3.242856</td>\n",
       "      <td>2.149747</td>\n",
       "      <td>2.901382</td>\n",
       "      <td>0.155265</td>\n",
       "      <td>0.180143</td>\n",
       "      <td>0.186429</td>\n",
       "      <td>6.64</td>\n",
       "      <td>1</td>\n",
       "    </tr>\n",
       "  </tbody>\n",
       "</table>\n",
       "<p>5 rows × 1404 columns</p>\n",
       "</div>"
      ],
      "text/plain": [
       "             Gene ID  EF_merged_PCF_BSF  EF_LSvSS  EF_CellCycle_min_max  \\\n",
       "5085    Tb927.7.1460           0.085868     -0.64              0.263034   \n",
       "1958  Tb927.11.13240                NaN       NaN                   NaN   \n",
       "5927    Tb927.8.4210          -0.263934       NaN              0.137504   \n",
       "5942    Tb927.8.4370          -1.048078       NaN              0.263034   \n",
       "2312  Tb927.11.16720                NaN       NaN              2.502500   \n",
       "\n",
       "      EF_CellCycle_max  EF_CellCycle_min  EF_Abundance_BSF  EF_Abundance_PCF  \\\n",
       "5085               0.5              10.0          7.082324          7.203450   \n",
       "1958               NaN               NaN          6.502785          6.757865   \n",
       "5927               0.5               3.0          8.456597          8.838866   \n",
       "5942               3.0               0.5          8.302902          7.274277   \n",
       "2312               8.0               0.5          6.717671          6.858151   \n",
       "\n",
       "        EF_MW_fc  EF_in_complex   ...    PF_ofer_w8: G Entropy  \\\n",
       "5085    0.908191           -1.0   ...                 3.333901   \n",
       "1958  152.491500           -1.0   ...                 2.700440   \n",
       "5927    0.788485           -1.0   ...                 3.353254   \n",
       "5942   41.415264           -1.0   ...                 2.863938   \n",
       "2312    0.160470           -1.0   ...                 3.690316   \n",
       "\n",
       "      PF_ofer_w8: K Entropy  PF_ofer_w8: M Entropy  PF_ofer_w8: N Entropy  \\\n",
       "5085               3.769116               2.852774               2.930179   \n",
       "1958               3.424805               2.590815               3.041477   \n",
       "5927               3.666412               3.388878               2.501353   \n",
       "5942               3.143222               3.420332               2.649814   \n",
       "2312               3.062284               3.242856               2.149747   \n",
       "\n",
       "      PF_ofer_w8: Total Entropy  \\\n",
       "5085                   2.868887   \n",
       "1958                   2.926139   \n",
       "5927                   2.889866   \n",
       "5942                   2.919698   \n",
       "2312                   2.901382   \n",
       "\n",
       "      PF_polarizability aaScale - Window size:17 Average-Trimmed MAX  \\\n",
       "5085                                           0.143665                \n",
       "1958                                           0.140119                \n",
       "5927                                           0.139668                \n",
       "5942                                           0.137855                \n",
       "2312                                           0.155265                \n",
       "\n",
       "      PF_polarizability aaScale - Window size:17 MAXIMUM   \\\n",
       "5085                                           0.166181     \n",
       "1958                                           0.169133     \n",
       "5927                                           0.158617     \n",
       "5942                                           0.174937     \n",
       "2312                                           0.180143     \n",
       "\n",
       "      PF_polarizability aaScale - Window size:7 MAXIMUM   Z_score  target  \n",
       "5085                                           0.176143      6.62       1  \n",
       "1958                                           0.182714      6.62       1  \n",
       "5927                                           0.169143      6.63       1  \n",
       "5942                                           0.180571      6.63       1  \n",
       "2312                                           0.186429      6.64       1  \n",
       "\n",
       "[5 rows x 1404 columns]"
      ]
     },
     "execution_count": 58,
     "metadata": {},
     "output_type": "execute_result"
    }
   ],
   "source": [
    "X = ml_df.dropna(subset=['target'])\n",
    "X.head()"
   ]
  },
  {
   "cell_type": "code",
   "execution_count": 59,
   "metadata": {},
   "outputs": [],
   "source": [
    "X=X.dropna(axis=0, how='all')\n",
    "X=X.dropna(axis=1, how='all')\n"
   ]
  },
  {
   "cell_type": "markdown",
   "metadata": {},
   "source": [
    "### Creating the actual dataset"
   ]
  },
  {
   "cell_type": "code",
   "execution_count": 60,
   "metadata": {},
   "outputs": [
    {
     "name": "stdout",
     "output_type": "stream",
     "text": [
      "(800, 1400) (800,)\n"
     ]
    },
    {
     "data": {
      "text/plain": [
       "1    400\n",
       "0    400\n",
       "Name: target, dtype: int64"
      ]
     },
     "execution_count": 60,
     "metadata": {},
     "output_type": "execute_result"
    }
   ],
   "source": [
    "y=X['target']\n",
    "del X['target']\n",
    "del X['Gene ID']\n",
    "del X['Z_score']\n",
    "#X=X[[n for n in X.columns if n.startswith('PF_')]]\n",
    "print(X.shape,y.shape)\n",
    "y.value_counts()"
   ]
  },
  {
   "cell_type": "markdown",
   "metadata": {},
   "source": [
    "When the number of descriptors (columns of the dataset) is similar or exceed the number of training instances (rows in the dataset), ML algorithms are prone to overfitting, i.e. learning associations with the response variable (fast or long half-lives) originating just by chance [12]. Intending to reduce the number of descriptors, we eliminated 277 features that correlate to other features with a Pearson correlation coefficient of 0.75 or higher. We "
   ]
  },
  {
   "cell_type": "code",
   "execution_count": 61,
   "metadata": {},
   "outputs": [
    {
     "name": "stdout",
     "output_type": "stream",
     "text": [
      "Removing: 286 features\n"
     ]
    }
   ],
   "source": [
    "# very crude removal of high correlated features\n",
    "# Create correlation matrix\n",
    "corr_matrix = X.corr().abs()\n",
    "\n",
    "# Select upper triangle of correlation matrix\n",
    "upper = corr_matrix.where(np.triu(np.ones(corr_matrix.shape), k=1).astype(np.bool))\n",
    "\n",
    "# Find index of feature columns with correlation greater than 0.75\n",
    "to_drop = [column for column in upper.columns if any(upper[column] > 0.75)]\n",
    "print('Removing:',len(to_drop), 'features')"
   ]
  },
  {
   "cell_type": "code",
   "execution_count": null,
   "metadata": {},
   "outputs": [],
   "source": []
  },
  {
   "cell_type": "code",
   "execution_count": 62,
   "metadata": {},
   "outputs": [
    {
     "name": "stdout",
     "output_type": "stream",
     "text": [
      "(800, 1400)\n",
      "(800, 1114)\n"
     ]
    }
   ],
   "source": [
    "print(X.shape)\n",
    "X=X.drop(to_drop, axis=1)\n",
    "print(X.shape)\n",
    "#X = X[[n for n in X.columns if 'Mutability' not in n ]]"
   ]
  },
  {
   "cell_type": "markdown",
   "metadata": {},
   "source": [
    "### Imput missing values"
   ]
  },
  {
   "cell_type": "markdown",
   "metadata": {},
   "source": [
    "We imputed missing values in the categorical variables with -1. On the other hand, the missing values of continue variables where replaced by the variable means. "
   ]
  },
  {
   "cell_type": "code",
   "execution_count": 63,
   "metadata": {},
   "outputs": [
    {
     "data": {
      "application/vnd.jupyter.widget-view+json": {
       "model_id": "ef720f1605c64740b0e8d492ab9d39b3",
       "version_major": 2,
       "version_minor": 0
      },
      "text/plain": [
       "HBox(children=(IntProgress(value=0, max=1114), HTML(value='')))"
      ]
     },
     "metadata": {},
     "output_type": "display_data"
    },
    {
     "name": "stdout",
     "output_type": "stream",
     "text": [
      "\n"
     ]
    }
   ],
   "source": [
    "#Strategy to input missing values / optional but usefull for \n",
    "#visualization of the feature importance\n",
    "X = scripts.input_missing_values(X, X.columns)"
   ]
  },
  {
   "cell_type": "markdown",
   "metadata": {},
   "source": [
    "### First Train"
   ]
  },
  {
   "cell_type": "markdown",
   "metadata": {},
   "source": [
    "We then trained a random forest algorithm implemented in LightGBM [33] to discriminate between proteins with fast or slow half-lives. Before training, we removed 35% of the training instances (blind) to evaluate the training progression on a subset of instances never seen by the predictor. The LightGBM algorithm was trained with a three-fold cross-validation (CV) strategy. With this strategy, the input data is divided into 3 subsets (also known as folds). Afterwards, The ML algorithm is trained on all but one of the subsets and evaluated on the subset that was not used for training. The process repeats 3 times, with a different subset reserved for evaluation (and excluded from training) each time. In this way, all the data is used once for both training and evaluation. The LightGBM algorithm starts the training with just one tree in the random forest and evaluates the prediction performance using the evaluation subset. With an iterative process, the algorithm adds one tree to the random forest and evaluates the prediction performance again. This process continues until the addition of a tree to the random forest model does not improve the prediction performance (early stopping). At each step, The LightGBM algorithm evaluates the prediction performance using the receiver operating characteristic curve (ROC) area under the curve (AUC) score (mean 0.75). "
   ]
  },
  {
   "cell_type": "code",
   "execution_count": 64,
   "metadata": {},
   "outputs": [],
   "source": [
    "#??scripts.run_lgb"
   ]
  },
  {
   "cell_type": "code",
   "execution_count": 65,
   "metadata": {
    "scrolled": false
   },
   "outputs": [
    {
     "name": "stdout",
     "output_type": "stream",
     "text": [
      "DataSet size\n",
      "X_train: (520, 1114) X_test: (280, 1114) y_train: (520,) y_test (280,) \n",
      " 1    140\n",
      "0    140\n",
      "Name: target, dtype: int64\n"
     ]
    },
    {
     "data": {
      "application/vnd.jupyter.widget-view+json": {
       "model_id": "cb3435709bf94b8d875af89a0bf84004",
       "version_major": 2,
       "version_minor": 0
      },
      "text/plain": [
       "HBox(children=(IntProgress(value=0, max=5), HTML(value='')))"
      ]
     },
     "metadata": {},
     "output_type": "display_data"
    },
    {
     "name": "stdout",
     "output_type": "stream",
     "text": [
      "\n"
     ]
    },
    {
     "data": {
      "image/png": "[encoded data removed]",
      "text/plain": [
       "<Figure size 432x288 with 1 Axes>"
      ]
     },
     "metadata": {},
     "output_type": "display_data"
    },
    {
     "name": "stdout",
     "output_type": "stream",
     "text": [
      "              precision    recall  f1-score   support\n",
      "\n",
      "           0       0.84      0.80      0.82       147\n",
      "           1       0.79      0.83      0.81       133\n",
      "\n",
      "    accuracy                           0.81       280\n",
      "   macro avg       0.81      0.81      0.81       280\n",
      "weighted avg       0.81      0.81      0.81       280\n",
      "\n",
      "1 dummy_roc_auc_score: 0.5214987714987716\n",
      "1 blind_roc_auc_score: 0.8114930182599355\n",
      "\n",
      "Confusion Matrix\n",
      "[[117  30]\n",
      " [ 23 110]]\n"
     ]
    },
    {
     "data": {
      "image/png": "[encoded data removed]",
      "text/plain": [
       "<Figure size 432x288 with 1 Axes>"
      ]
     },
     "metadata": {},
     "output_type": "display_data"
    },
    {
     "data": {
      "text/plain": [
       "{'objective': 'binary',\n",
       " 'min_data_in_leaf': 5,\n",
       " 'n_jobs': 8,\n",
       " 'boosting_type': 'rf',\n",
       " 'bagging_fraction': 0.7,\n",
       " 'feature_fraction': 0.7,\n",
       " 'bagging_freq': 1,\n",
       " 'n_estimators': 22,\n",
       " 'max_depth': 5}"
      ]
     },
     "execution_count": 65,
     "metadata": {},
     "output_type": "execute_result"
    }
   ],
   "source": [
    "params = {\n",
    "            'objective': 'binary',\n",
    "            'min_data_in_leaf':5,\n",
    "            'n_jobs':8,\n",
    "            'boosting_type':\"rf\",\n",
    "            'bagging_fraction':0.7,\n",
    "            'feature_fraction':0.7,\n",
    "            'bagging_freq' : 1,\n",
    "            'n_estimators' : 100,\n",
    "            'max_depth' : 5\n",
    "            }\n",
    "\n",
    "fitted_model, params, blind_score = scripts.run_lgb(X, y, params)\n",
    "params"
   ]
  },
  {
   "cell_type": "markdown",
   "metadata": {},
   "source": [
    "At the end of the CV strategy, a new model is trained with all the data used for the CV step and evaluated on the blind dataset (AUC = 0.679). The blind ROC AUC score suggested that the algorithm is separating proteins with fast and long half-lives better than random.  The number of trees to evaluate the model on the blind dataset was chosen from the CV strategy. At each CV round, the algorithm records the number of trees used.  By inspecting the training history, we selected 14 trees equal to the maximum number of trees used in any of the three CV steps. This optimised model, respect to the number of tree in the forest, was used to shrink further the number of relevant features. "
   ]
  },
  {
   "cell_type": "markdown",
   "metadata": {},
   "source": [
    "### Feature Selection\n",
    "#### Boruta\n",
    "We first applied the Boruta methods [34] to identify all the features carrying information usable for prediction (82). Briefly, the Boruta algorithm randomises all descriptors in the dataset and evaluates the randomise features, looking if they are less or more important of the real features in separating fast and slow turnover protein. If the real features are better than the shuffled copies, they are marked as important."
   ]
  },
  {
   "cell_type": "code",
   "execution_count": 66,
   "metadata": {
    "scrolled": true
   },
   "outputs": [
    {
     "name": "stdout",
     "output_type": "stream",
     "text": [
      "boruta will take some times to run\n"
     ]
    },
    {
     "data": {
      "application/vnd.jupyter.widget-view+json": {
       "model_id": "75fb0b3fa79d4ad8a83af2cb4bde27c2",
       "version_major": 2,
       "version_minor": 0
      },
      "text/plain": [
       "HBox(children=(IntProgress(value=0, description='boruta iter', style=ProgressStyle(description_width='initial'…"
      ]
     },
     "metadata": {},
     "output_type": "display_data"
    },
    {
     "name": "stdout",
     "output_type": "stream",
     "text": [
      "[ True  True  True ... False  True False]\n",
      "['EF_merged_PCF_BSF', 'EF_LSvSS', 'EF_CellCycle_min_max', 'EF_CellCycle_max', 'EF_CellCycle_min', 'EF_Abundance_BSF', 'EF_MW_fc', 'EF_prot_BSF_to_PCF_1_min_max', 'EF_prot_BSF_to_PCF_1_max', 'EF_prot_BSF_to_PCF_1_min', 'EF_ma_BSF_to_PCF_2_max', 'EF_fc_glucose_1', 'EF_fc_glucose_3', 'EF_RNA_CellCycle_min_max', 'EF_RNA_BSF_to_PCF_sen_min', 'EF_Abundance_s_PCF_mRNA', 'EF_RiboP_BSF_vs_PCF', 'EF_heatShock', 'EF_Nuclear_enriched', 'SF_Ortholog_count', 'SF_Transcript_Length', 'SF_SNPs2', 'SF_SNPs6', 'ELM_DOC_USP7_UBL2_3', 'ELM_MOD_SUMO_rev_2', 'ELM_TRG_Pf-PMV_PEXEL_1', 'PF_AA: C Frequency', 'PF_AA: I Frequency', 'PF_AA: K Frequency', 'PF_AA: P Frequency', 'PF_AA: Q Frequency', 'PF_AA: W Frequency', 'PF_Charge Distribution1100', 'PF_Charge Distribution2001', 'PF_Charge Distribution3001', 'PF_Disorder Propensity Composition:1', 'PF_Flexibility (B-values):Max', 'PF_Hydrophobicity Distribution1001', 'PF_Hydrophobicity Distribution1100', 'PF_Mutability aaScale - Window size:17 Average-Trimmed MAX', 'PF_NormVDWV_3:  Mirror K-mer : AAAAE', 'PF_NormVDWV_3:  Mirror K-mer : AFEEF', 'PF_NormVDWV_3:  Mirror K-mer : EEEEF', 'PF_NormVDWV_3:  Mirror K-mer : EFEEF', 'PF_Normalized VDWV Composition:2', 'PF_Normalized VDWV Distribution3100', 'PF_Secondary Str Composition:1', 'PF_SolventA_3:  Mirror K-mer : AAAAA', 'PF_SolventA_3:  Mirror K-mer : AAAAH', 'PF_SolventA_3:  Mirror K-mer : AAAHH', 'PF_SolventA_3:  Mirror K-mer : ADDDD', 'PF_SolventA_3:  Mirror K-mer : DADDH', 'PF_SolventA_3:  Mirror K-mer : DDDDD', 'PF_SolventA_3:  Mirror K-mer : DDDDH', 'PF_SolventA_3:  Mirror K-mer : HAAAH', 'PF_SubSequence(segment-0)  aaScale:4Atch_1 Maximum', 'PF_SubSequence(segment-0)  aaScale:4Atch_4 Minimum', 'PF_SubSequence(segment-0)  aaScale:4TOP_IDP Average', 'PF_gg_11 aaScale - Window size:17 Average-Trimmed MAX', 'PF_ofer14:  Mirror K-mer : CD', 'PF_ofer14:  Mirror K-mer : CF', 'PF_ofer14:  Mirror K-mer : CG', 'PF_ofer14:  Mirror K-mer : CK', 'PF_ofer14:  Mirror K-mer : CP', 'PF_ofer14:  Mirror K-mer : CS', 'PF_ofer14:  Mirror K-mer : EQ', 'PF_ofer14:  Mirror K-mer : GW', 'PF_ofer14:  Mirror K-mer : IP', 'PF_ofer14:  Mirror K-mer : SW', 'PF_ofer_w8: AA: C Frequency']\n"
     ]
    }
   ],
   "source": [
    "print('boruta will take some times to run')\n",
    "rf_params = {'class_weight':'balanced',\n",
    "             'max_depth':params['max_depth'],\n",
    "             'n_jobs':8, 'n_estimators':params['n_estimators'],\n",
    "             'min_samples_leaf':params['min_data_in_leaf']\n",
    "            }\n",
    "\n",
    "#X.fillna(X.mean()).replace(-np.inf,-999).replace(np.inf,999)\n",
    "score_df = scripts.boruta_select(\n",
    "    X, y, rf_params)\n",
    "selected_features = list(score_df[score_df['support']]['f'])\n",
    "print(selected_features)"
   ]
  },
  {
   "cell_type": "code",
   "execution_count": 67,
   "metadata": {},
   "outputs": [
    {
     "name": "stdout",
     "output_type": "stream",
     "text": [
      "second round\n",
      "DataSet size\n",
      "X_train: (520, 70) X_test: (280, 70) y_train: (520,) y_test (280,) \n",
      " 1    140\n",
      "0    140\n",
      "Name: target, dtype: int64\n"
     ]
    },
    {
     "data": {
      "application/vnd.jupyter.widget-view+json": {
       "model_id": "a89728b297d94dbb8ff6192e050b1605",
       "version_major": 2,
       "version_minor": 0
      },
      "text/plain": [
       "HBox(children=(IntProgress(value=0, max=5), HTML(value='')))"
      ]
     },
     "metadata": {},
     "output_type": "display_data"
    },
    {
     "name": "stdout",
     "output_type": "stream",
     "text": [
      "\n"
     ]
    },
    {
     "data": {
      "image/png": "[encoded data removed]",
      "text/plain": [
       "<Figure size 432x288 with 1 Axes>"
      ]
     },
     "metadata": {},
     "output_type": "display_data"
    },
    {
     "name": "stdout",
     "output_type": "stream",
     "text": [
      "              precision    recall  f1-score   support\n",
      "\n",
      "           0       0.81      0.75      0.78       151\n",
      "           1       0.74      0.80      0.77       129\n",
      "\n",
      "    accuracy                           0.78       280\n",
      "   macro avg       0.78      0.78      0.77       280\n",
      "weighted avg       0.78      0.78      0.78       280\n",
      "\n",
      "1 dummy_roc_auc_score: 0.5392877187611612\n",
      "1 blind_roc_auc_score: 0.7767082499101597\n",
      "\n",
      "Confusion Matrix\n",
      "[[114  37]\n",
      " [ 26 103]]\n"
     ]
    },
    {
     "data": {
      "image/png": "[encoded data removed]",
      "text/plain": [
       "<Figure size 432x288 with 1 Axes>"
      ]
     },
     "metadata": {},
     "output_type": "display_data"
    }
   ],
   "source": [
    "#second round\n",
    "print('second round')\n",
    "fitted_model, params , blind_score= scripts.run_lgb(X[selected_features],y, params)"
   ]
  },
  {
   "cell_type": "markdown",
   "metadata": {},
   "source": [
    "#### ELI5\n",
    "In a further step feature selection, we applied a different permutation importance strategy implemented in the ELI5 python package [35]. In this case, only one feature at a time is randomised, and the performance of the model evaluated. If the performance of the model decreases after randomisation (lower AUC score), the feature is annotated as important. The randomization process was performed three times with a different random seed and the average feature score difference stored. As the ELI5 strategy is more computationally expensive than the Boruta algorithm, the former was executed before the latter. "
   ]
  },
  {
   "cell_type": "code",
   "execution_count": 68,
   "metadata": {},
   "outputs": [],
   "source": [
    "#??scripts.eli_select"
   ]
  },
  {
   "cell_type": "code",
   "execution_count": 69,
   "metadata": {},
   "outputs": [
    {
     "name": "stdout",
     "output_type": "stream",
     "text": [
      "ELI5 will take some times to run\n"
     ]
    },
    {
     "data": {
      "application/vnd.jupyter.widget-view+json": {
       "model_id": "2538c1de171b44278c04b1a065662ac3",
       "version_major": 2,
       "version_minor": 0
      },
      "text/plain": [
       "HBox(children=(IntProgress(value=0, description='n iter', max=10, style=ProgressStyle(description_width='initi…"
      ]
     },
     "metadata": {},
     "output_type": "display_data"
    },
    {
     "data": {
      "application/vnd.jupyter.widget-view+json": {
       "model_id": "50530c78050346e4a4ace0cfe9bbd8d5",
       "version_major": 2,
       "version_minor": 0
      },
      "text/plain": [
       "HBox(children=(IntProgress(value=0, description='iter column', max=70, style=ProgressStyle(description_width='…"
      ]
     },
     "metadata": {},
     "output_type": "display_data"
    },
    {
     "name": "stdout",
     "output_type": "stream",
     "text": [
      "\n"
     ]
    },
    {
     "data": {
      "application/vnd.jupyter.widget-view+json": {
       "model_id": "930c8673fbf242a481232957bfe45a5f",
       "version_major": 2,
       "version_minor": 0
      },
      "text/plain": [
       "HBox(children=(IntProgress(value=0, description='iter column', max=70, style=ProgressStyle(description_width='…"
      ]
     },
     "metadata": {},
     "output_type": "display_data"
    },
    {
     "name": "stdout",
     "output_type": "stream",
     "text": [
      "\n"
     ]
    },
    {
     "data": {
      "application/vnd.jupyter.widget-view+json": {
       "model_id": "2e801092eb2d4ca9890cd4ffc1fcd900",
       "version_major": 2,
       "version_minor": 0
      },
      "text/plain": [
       "HBox(children=(IntProgress(value=0, description='iter column', max=70, style=ProgressStyle(description_width='…"
      ]
     },
     "metadata": {},
     "output_type": "display_data"
    },
    {
     "name": "stdout",
     "output_type": "stream",
     "text": [
      "\n"
     ]
    },
    {
     "data": {
      "application/vnd.jupyter.widget-view+json": {
       "model_id": "a3018686951547daae5a6b7c6adeb9e1",
       "version_major": 2,
       "version_minor": 0
      },
      "text/plain": [
       "HBox(children=(IntProgress(value=0, description='iter column', max=70, style=ProgressStyle(description_width='…"
      ]
     },
     "metadata": {},
     "output_type": "display_data"
    },
    {
     "name": "stdout",
     "output_type": "stream",
     "text": [
      "\n"
     ]
    },
    {
     "data": {
      "application/vnd.jupyter.widget-view+json": {
       "model_id": "12d1b9c79ba144b1bf212b8ae5d95731",
       "version_major": 2,
       "version_minor": 0
      },
      "text/plain": [
       "HBox(children=(IntProgress(value=0, description='iter column', max=70, style=ProgressStyle(description_width='…"
      ]
     },
     "metadata": {},
     "output_type": "display_data"
    },
    {
     "name": "stdout",
     "output_type": "stream",
     "text": [
      "\n"
     ]
    },
    {
     "data": {
      "application/vnd.jupyter.widget-view+json": {
       "model_id": "3e0c6ca9e0a24fdb9988c6be0fe5e302",
       "version_major": 2,
       "version_minor": 0
      },
      "text/plain": [
       "HBox(children=(IntProgress(value=0, description='iter column', max=70, style=ProgressStyle(description_width='…"
      ]
     },
     "metadata": {},
     "output_type": "display_data"
    },
    {
     "name": "stdout",
     "output_type": "stream",
     "text": [
      "\n"
     ]
    },
    {
     "data": {
      "application/vnd.jupyter.widget-view+json": {
       "model_id": "0f131c93ae78416d96fc64eec9e7f6b5",
       "version_major": 2,
       "version_minor": 0
      },
      "text/plain": [
       "HBox(children=(IntProgress(value=0, description='iter column', max=70, style=ProgressStyle(description_width='…"
      ]
     },
     "metadata": {},
     "output_type": "display_data"
    },
    {
     "name": "stdout",
     "output_type": "stream",
     "text": [
      "\n"
     ]
    },
    {
     "data": {
      "application/vnd.jupyter.widget-view+json": {
       "model_id": "09436bea6a3b44939bc093571f12816f",
       "version_major": 2,
       "version_minor": 0
      },
      "text/plain": [
       "HBox(children=(IntProgress(value=0, description='iter column', max=70, style=ProgressStyle(description_width='…"
      ]
     },
     "metadata": {},
     "output_type": "display_data"
    },
    {
     "name": "stdout",
     "output_type": "stream",
     "text": [
      "\n"
     ]
    },
    {
     "data": {
      "application/vnd.jupyter.widget-view+json": {
       "model_id": "b2ced589f64043bfafc7a7ffc97fc5eb",
       "version_major": 2,
       "version_minor": 0
      },
      "text/plain": [
       "HBox(children=(IntProgress(value=0, description='iter column', max=70, style=ProgressStyle(description_width='…"
      ]
     },
     "metadata": {},
     "output_type": "display_data"
    },
    {
     "name": "stdout",
     "output_type": "stream",
     "text": [
      "\n"
     ]
    },
    {
     "data": {
      "application/vnd.jupyter.widget-view+json": {
       "model_id": "aab8bf8670fc4639a2a033b22e8d4db8",
       "version_major": 2,
       "version_minor": 0
      },
      "text/plain": [
       "HBox(children=(IntProgress(value=0, description='iter column', max=70, style=ProgressStyle(description_width='…"
      ]
     },
     "metadata": {},
     "output_type": "display_data"
    },
    {
     "name": "stdout",
     "output_type": "stream",
     "text": [
      "\n",
      "\n"
     ]
    }
   ],
   "source": [
    "# ELI5 f selection\n",
    "print('ELI5 will take some times to run')\n",
    "score_df = scripts.eli_select(X[selected_features], y, params)"
   ]
  },
  {
   "cell_type": "code",
   "execution_count": 70,
   "metadata": {},
   "outputs": [
    {
     "data": {
      "text/html": [
       "<div>\n",
       "<style scoped>\n",
       "    .dataframe tbody tr th:only-of-type {\n",
       "        vertical-align: middle;\n",
       "    }\n",
       "\n",
       "    .dataframe tbody tr th {\n",
       "        vertical-align: top;\n",
       "    }\n",
       "\n",
       "    .dataframe thead th {\n",
       "        text-align: right;\n",
       "    }\n",
       "</style>\n",
       "<table border=\"1\" class=\"dataframe\">\n",
       "  <thead>\n",
       "    <tr style=\"text-align: right;\">\n",
       "      <th></th>\n",
       "      <th>fimp</th>\n",
       "      <th>f</th>\n",
       "    </tr>\n",
       "  </thead>\n",
       "  <tbody>\n",
       "    <tr>\n",
       "      <th>5</th>\n",
       "      <td>0.190125</td>\n",
       "      <td>EF_Abundance_BSF</td>\n",
       "    </tr>\n",
       "    <tr>\n",
       "      <th>19</th>\n",
       "      <td>0.026000</td>\n",
       "      <td>SF_Ortholog_count</td>\n",
       "    </tr>\n",
       "    <tr>\n",
       "      <th>11</th>\n",
       "      <td>0.010000</td>\n",
       "      <td>EF_fc_glucose_1</td>\n",
       "    </tr>\n",
       "    <tr>\n",
       "      <th>69</th>\n",
       "      <td>0.006625</td>\n",
       "      <td>PF_ofer_w8: AA: C Frequency</td>\n",
       "    </tr>\n",
       "    <tr>\n",
       "      <th>24</th>\n",
       "      <td>0.006625</td>\n",
       "      <td>ELM_MOD_SUMO_rev_2</td>\n",
       "    </tr>\n",
       "    <tr>\n",
       "      <th>61</th>\n",
       "      <td>0.006125</td>\n",
       "      <td>PF_ofer14:  Mirror K-mer : CG</td>\n",
       "    </tr>\n",
       "    <tr>\n",
       "      <th>7</th>\n",
       "      <td>0.006000</td>\n",
       "      <td>EF_prot_BSF_to_PCF_1_min_max</td>\n",
       "    </tr>\n",
       "    <tr>\n",
       "      <th>36</th>\n",
       "      <td>0.004875</td>\n",
       "      <td>PF_Flexibility (B-values):Max</td>\n",
       "    </tr>\n",
       "    <tr>\n",
       "      <th>59</th>\n",
       "      <td>0.004625</td>\n",
       "      <td>PF_ofer14:  Mirror K-mer : CD</td>\n",
       "    </tr>\n",
       "    <tr>\n",
       "      <th>16</th>\n",
       "      <td>0.004125</td>\n",
       "      <td>EF_RiboP_BSF_vs_PCF</td>\n",
       "    </tr>\n",
       "    <tr>\n",
       "      <th>35</th>\n",
       "      <td>0.003750</td>\n",
       "      <td>PF_Disorder Propensity Composition:1</td>\n",
       "    </tr>\n",
       "    <tr>\n",
       "      <th>43</th>\n",
       "      <td>0.003625</td>\n",
       "      <td>PF_NormVDWV_3:  Mirror K-mer : EFEEF</td>\n",
       "    </tr>\n",
       "    <tr>\n",
       "      <th>6</th>\n",
       "      <td>0.003375</td>\n",
       "      <td>EF_MW_fc</td>\n",
       "    </tr>\n",
       "    <tr>\n",
       "      <th>38</th>\n",
       "      <td>0.003375</td>\n",
       "      <td>PF_Hydrophobicity Distribution1100</td>\n",
       "    </tr>\n",
       "    <tr>\n",
       "      <th>45</th>\n",
       "      <td>0.003250</td>\n",
       "      <td>PF_Normalized VDWV Distribution3100</td>\n",
       "    </tr>\n",
       "  </tbody>\n",
       "</table>\n",
       "</div>"
      ],
      "text/plain": [
       "        fimp                                     f\n",
       "5   0.190125                      EF_Abundance_BSF\n",
       "19  0.026000                     SF_Ortholog_count\n",
       "11  0.010000                       EF_fc_glucose_1\n",
       "69  0.006625           PF_ofer_w8: AA: C Frequency\n",
       "24  0.006625                    ELM_MOD_SUMO_rev_2\n",
       "61  0.006125         PF_ofer14:  Mirror K-mer : CG\n",
       "7   0.006000          EF_prot_BSF_to_PCF_1_min_max\n",
       "36  0.004875         PF_Flexibility (B-values):Max\n",
       "59  0.004625         PF_ofer14:  Mirror K-mer : CD\n",
       "16  0.004125                   EF_RiboP_BSF_vs_PCF\n",
       "35  0.003750  PF_Disorder Propensity Composition:1\n",
       "43  0.003625  PF_NormVDWV_3:  Mirror K-mer : EFEEF\n",
       "6   0.003375                              EF_MW_fc\n",
       "38  0.003375    PF_Hydrophobicity Distribution1100\n",
       "45  0.003250   PF_Normalized VDWV Distribution3100"
      ]
     },
     "execution_count": 70,
     "metadata": {},
     "output_type": "execute_result"
    }
   ],
   "source": [
    "#ELI5 df\n",
    "score_df.sort_values('fimp',ascending=False).head(15)"
   ]
  },
  {
   "cell_type": "code",
   "execution_count": 78,
   "metadata": {},
   "outputs": [
    {
     "name": "stdout",
     "output_type": "stream",
     "text": [
      "final round\n",
      "DataSet size\n",
      "X_train: (520, 2) X_test: (280, 2) y_train: (520,) y_test (280,) \n",
      " 1    140\n",
      "0    140\n",
      "Name: target, dtype: int64\n"
     ]
    },
    {
     "data": {
      "application/vnd.jupyter.widget-view+json": {
       "model_id": "36dd2bad104c4856ad0bda379ae927ea",
       "version_major": 2,
       "version_minor": 0
      },
      "text/plain": [
       "HBox(children=(IntProgress(value=0, max=5), HTML(value='')))"
      ]
     },
     "metadata": {},
     "output_type": "display_data"
    },
    {
     "name": "stdout",
     "output_type": "stream",
     "text": [
      "\n"
     ]
    },
    {
     "data": {
      "image/png": "[encoded data removed]",
      "text/plain": [
       "<Figure size 432x288 with 1 Axes>"
      ]
     },
     "metadata": {},
     "output_type": "display_data"
    },
    {
     "name": "stdout",
     "output_type": "stream",
     "text": [
      "              precision    recall  f1-score   support\n",
      "\n",
      "           0       0.76      0.76      0.76       139\n",
      "           1       0.76      0.76      0.76       141\n",
      "\n",
      "    accuracy                           0.76       280\n",
      "   macro avg       0.76      0.76      0.76       280\n",
      "weighted avg       0.76      0.76      0.76       280\n",
      "\n",
      "1 dummy_roc_auc_score: 0.4678423766015007\n",
      "1 blind_roc_auc_score: 0.760727588142252\n",
      "\n",
      "Confusion Matrix\n",
      "[[106  33]\n",
      " [ 34 107]]\n"
     ]
    },
    {
     "data": {
      "image/png": "[encoded data removed]",
      "text/plain": [
       "<Figure size 432x288 with 1 Axes>"
      ]
     },
     "metadata": {},
     "output_type": "display_data"
    }
   ],
   "source": [
    "selected_features = list(score_df[score_df['fimp']>0.013]['f'])\n",
    "\n",
    "#final round\n",
    "print('final round')\n",
    "fitted_model, params, blind_score = scripts.run_lgb(X[selected_features],y, params)    "
   ]
  },
  {
   "cell_type": "code",
   "execution_count": 72,
   "metadata": {},
   "outputs": [
    {
     "data": {
      "text/plain": [
       "(2, ['EF_Abundance_BSF', 'SF_Ortholog_count'])"
      ]
     },
     "execution_count": 72,
     "metadata": {},
     "output_type": "execute_result"
    }
   ],
   "source": [
    "len(selected_features), selected_features"
   ]
  },
  {
   "cell_type": "markdown",
   "metadata": {},
   "source": [
    "### Feature Importance\n",
    "\n",
    "The importance of these selected features was visualised with the SHAP (SHapley Additive exPlanations) values. The SHAP values aggregate five different rank feature methods into one, by using an algorithm first developed for game theory. This algorithm aims at explaining the prediction of an instance (protein) by computing the contribution of each feature to the prediction. In particular, this framework assigns to each protein a SHAP value (positive for fast half-lives, negative for long half-lives), and the absolute sum of the SHAP values adds to the feature importance. Consequently, the visualization of the feature importance can be visualised along with the feature effect.(https://github.com/slundberg/shap)."
   ]
  },
  {
   "cell_type": "code",
   "execution_count": 73,
   "metadata": {},
   "outputs": [],
   "source": [
    "#Now we use the SHAP scoring system to visualise \n",
    "#the most important features for the model\n",
    "explainer = shap.TreeExplainer(fitted_model)\n",
    "shap_values = explainer.shap_values(X[selected_features])\n",
    "#shap.summary_plot(shap_values, \n",
    "                  #train[train_features],\n",
    "                  #max_display=100)"
   ]
  },
  {
   "cell_type": "code",
   "execution_count": 79,
   "metadata": {},
   "outputs": [
    {
     "data": {
      "image/png": "[encoded data removed]",
      "text/plain": [
       "<Figure size 576x432 with 2 Axes>"
      ]
     },
     "metadata": {},
     "output_type": "display_data"
    }
   ],
   "source": [
    "plt.style.use('ggplot')\n",
    "shap.summary_plot(shap_values, \n",
    "                  X[selected_features], \n",
    "                  feature_names=troncate_name(list(X[selected_features].columns)),\n",
    "                  max_display=10,show=False)\n",
    "\n",
    "f = plt.gcf()\n",
    "f.set_size_inches(8,6)\n",
    "plt.title('Feature Importance',fontsize=16)\n",
    "plt.xticks(fontsize=16)\n",
    "plt.yticks(fontsize=16)\n",
    "plt.xlabel('SHAP value',fontsize=16)\n",
    "plt.tight_layout()\n",
    "plt.savefig(os.path.join('figures','example_2','Fig_1.png'))\n",
    "plt.savefig(os.path.join('figures','example_2','Fig_1.svg'))\n",
    "plt.savefig(os.path.join('figures','example_2','Fig_1.eps'), format='eps')\n",
    "plt.show()\n",
    "#print(r)"
   ]
  },
  {
   "cell_type": "markdown",
   "metadata": {},
   "source": [
    "In this figure the position of the feature on the y-axis of is determined by the feature importance, and the dots (protein/training instances) on the x-axis are arranged accordingly to the SHAP values. The dots are also jittered in the y-axis direction to assess the distribution. The colour code of the dots reflects the value of the feature from low (blue) to high (red). This visualization highlights the relationship between the value of a feature and the impact on the prediction. For example, training instances with low values of the protein abundance in the BSF life stage ('EF_Abundance_BSF') have the highest SHAP values, meaning that low protein abundance values are pushing the model towards a fast half-life prediction."
   ]
  },
  {
   "cell_type": "markdown",
   "metadata": {},
   "source": [
    "### Feature Analysis\n",
    "The exact shape of this relationship is visualized in Figure 2 where we plotted on the x-axis the feature values and on the y-axis the SHAP values for each protein and feature in the training dataset. "
   ]
  },
  {
   "cell_type": "code",
   "execution_count": 77,
   "metadata": {
    "scrolled": false
   },
   "outputs": [
    {
     "data": {
      "image/png": "[encoded data removed]",
      "text/plain": [
       "<Figure size 864x576 with 4 Axes>"
      ]
     },
     "metadata": {},
     "output_type": "display_data"
    }
   ],
   "source": [
    "fig,axes = plt.subplots(figsize=(12,8), nrows=2, ncols=2)\n",
    "labels = ['A','B','C','D']\n",
    "\n",
    "mapping_dict = {\n",
    "    0:[0,0],\n",
    "    1:[0,1],   \n",
    "}\n",
    "\n",
    "for n, f in enumerate(selected_features):\n",
    "    a,b=mapping_dict[n][0],mapping_dict[n][1]\n",
    "    if f == 'EF_CellCycle_min':\n",
    "        shap.dependence_plot(n, shap_values, \n",
    "                    X[selected_features],\n",
    "                             interaction_index =None, \n",
    "                             x_jitter=0.2,\n",
    "                             show=False,ax=axes[a][b])\n",
    "    else:\n",
    "        shap.dependence_plot(n, shap_values, \n",
    "                    X[selected_features],\n",
    "                            interaction_index =None,\n",
    "                            show=False,\n",
    "                            ax=axes[a][b])\n",
    "    \n",
    "    axes[a][b].set_title(f, fontsize=12)\n",
    "    axes[a][b].set_ylabel('SHAP Values')\n",
    "    axes[a][b].set_xlabel('Feature Values')\n",
    "    axes[a][b].text(-0.1, 1.1, labels[n]+')', \n",
    "                               horizontalalignment='center',\n",
    "               verticalalignment='center',\n",
    "               transform=axes[a][b].transAxes,fontsize=12)\n",
    "    #if n == 1:\n",
    "    #    axes[a][b].set_xlim(-0.1,100)\n",
    "    #    axes[a][b].set_ylim(-0.2,0.2)\n",
    "    #if n == 2:\n",
    "        \n",
    "    #    axes[a][b].set_ylim(-0.4,0.6)\n",
    "\n",
    "    \n",
    "plt.tight_layout()\n",
    "plt.savefig(os.path.join('figures','example_2','Fig_2.png'))\n",
    "plt.savefig(os.path.join('figures','example_2','Fig_2.svg'))\n",
    "plt.savefig(os.path.join('figures','example_2','Fig_2.eps'), format='eps')\n",
    "plt.show()\n"
   ]
  },
  {
   "cell_type": "code",
   "execution_count": 80,
   "metadata": {},
   "outputs": [
    {
     "name": "stderr",
     "output_type": "stream",
     "text": [
      "[NbConvertApp] Converting notebook TriTrypDB_ML_1.2.ipynb to html_toc\n",
      "[NbConvertApp] Support files will be in TriTrypDB_ML_1.2_files\\\n",
      "[NbConvertApp] Making directory TriTrypDB_ML_1.2_files\n",
      "[NbConvertApp] Making directory TriTrypDB_ML_1.2_files\n",
      "[NbConvertApp] Making directory TriTrypDB_ML_1.2_files\n",
      "[NbConvertApp] Making directory TriTrypDB_ML_1.2_files\n",
      "[NbConvertApp] Making directory TriTrypDB_ML_1.2_files\n",
      "[NbConvertApp] Making directory TriTrypDB_ML_1.2_files\n",
      "[NbConvertApp] Making directory TriTrypDB_ML_1.2_files\n",
      "[NbConvertApp] Making directory TriTrypDB_ML_1.2_files\n",
      "[NbConvertApp] Making directory TriTrypDB_ML_1.2_files\n",
      "[NbConvertApp] Writing 346597 bytes to TriTrypDB_ML_1.2.html\n"
     ]
    }
   ],
   "source": [
    "!jupyter nbconvert --to html_toc TriTrypDB_ML_1.2.ipynb"
   ]
  },
  {
   "cell_type": "code",
   "execution_count": 40,
   "metadata": {},
   "outputs": [],
   "source": [
    "#corr['Z_score'].sort_values()"
   ]
  },
  {
   "cell_type": "code",
   "execution_count": null,
   "metadata": {},
   "outputs": [],
   "source": []
  }
 ],
 "metadata": {
  "kernelspec": {
   "display_name": "Python 3",
   "language": "python",
   "name": "python3"
  },
  "language_info": {
   "codemirror_mode": {
    "name": "ipython",
    "version": 3
   },
   "file_extension": ".py",
   "mimetype": "text/x-python",
   "name": "python",
   "nbconvert_exporter": "python",
   "pygments_lexer": "ipython3",
   "version": "3.6.8"
  },
  "toc": {
   "base_numbering": 1,
   "nav_menu": {
    "height": "11.8333px",
    "width": "160px"
   },
   "number_sections": true,
   "sideBar": true,
   "skip_h1_title": false,
   "title_cell": "Table of Contents",
   "title_sidebar": "Contents",
   "toc_cell": false,
   "toc_position": {
    "height": "566.167px",
    "left": "82px",
    "top": "110.433px",
    "width": "304.333px"
   },
   "toc_section_display": true,
   "toc_window_display": true
  }
 },
 "nbformat": 4,
 "nbformat_minor": 2
}
