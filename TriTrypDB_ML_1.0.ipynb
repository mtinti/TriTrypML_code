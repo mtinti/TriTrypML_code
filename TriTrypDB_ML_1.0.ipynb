{
 "cells": [
  {
   "cell_type": "code",
   "execution_count": 1,
   "metadata": {},
   "outputs": [
    {
     "data": {
      "text/html": [
       "<style>\n",
       "div.abstract_text {text-align: justify;text-justify: inter-word;}\n",
       "div.text {text-align: justify; text-justify: inter-word;}\n",
       "</style>"
      ],
      "text/plain": [
       "<IPython.core.display.HTML object>"
      ]
     },
     "execution_count": 1,
     "metadata": {},
     "output_type": "execute_result"
    }
   ],
   "source": [
    "#some style formatting\n",
    "from IPython.display import HTML\n",
    "style = '''<style>\n",
    "div.abstract_text {text-align: justify;text-justify: inter-word;}\n",
    "div.text {text-align: justify; text-justify: inter-word;}\n",
    "</style>'''\n",
    "HTML(style)"
   ]
  },
  {
   "cell_type": "markdown",
   "metadata": {},
   "source": [
    "\n",
    "<img typeof=\"foaf:Image\" src=\"static/ANTI-INFECTIVES-RGB_200pc.png\" alt=\"Wellcome Centre for Anti-Infectives Research\" title=\"\">\n",
    "\n",
    "# ML Analysis for <i>T. brucei</i>\n",
    "\n",
    "Michele Tinti and Michael A.J. Ferguson\n",
    "\n",
    "Wellcome Centre for Anti-Infectives Research\n",
    "School of Life Sciences, University of Dundee\n",
    "\n",
    "## Abstract\n",
    "<span>\n",
    "<div class=abstract_text>\n",
    "The number of Proteomics and Genomics experiments performed in laboratories is growing exponentially year after year. This massive amount of data poses new challenges to the scientific community. In particular, the amount of available data is not matched by the capacity of bioinformatics tools for retrieving and extracting useful insights from the publicly accessible datasets. On the other hand, machine learning can mitigate this issue by providing powerful analysis tools. However, data needs to be prepared and formatted for machine learning analysis. In this paper, we share with the Trypanosome community a series of Jupyter notebooks to demonstrate the utility of machine learning applied to the analysis of the OMIC experiments produced in our laboratory or deposited at the TryTripDB database.\n",
    "</div> \n",
    "    \n",
    "## Motivation\n",
    "<span>\n",
    "<div class=text>\n",
    "It remains challenging to analyse and extract information from OMIC experiments. With this work, we share a series of Jupyter notebooks to facilitate the use of machine learning and gain relevant information from OMICs dataset deposited at the TryTripDB. \n",
    "</div> "
   ]
  },
  {
   "cell_type": "code",
   "execution_count": 2,
   "metadata": {
    "hide_input": false
   },
   "outputs": [],
   "source": [
    "#set up code\n",
    "%load_ext autoreload\n",
    "%autoreload 2"
   ]
  },
  {
   "cell_type": "code",
   "execution_count": 3,
   "metadata": {},
   "outputs": [
    {
     "name": "stderr",
     "output_type": "stream",
     "text": [
      "Using TensorFlow backend.\n"
     ]
    }
   ],
   "source": [
    "from mylib import scripts\n",
    "%run mylib/scripts.py\n",
    "np.random.seed =1976"
   ]
  },
  {
   "cell_type": "markdown",
   "metadata": {},
   "source": [
    "## Methods\n",
    "\n",
    "<span>\n",
    "<div class=text>\n",
    "Several OMICSs datasets deposited at TriTrypDB cannot immediately be used to annotate a gene function, even if the dataset itself carries useful information. For example, our laboratory and others performed Proteomics experiments to quantify the amount of protein expressed in the BSF and PCF life stages of T. brucei [8-11]. These experiments can be used to create continuous response variables or biological descriptor (feature) reporting the relative fold change in expression between the BSF and PCF life stages. However, the decision boundaries between what is preferentially expressed in PCF or BSF life stages is arbitrary, hampering the creation of a gene set based on such property. On the other hand, Machine Learning (ML) algorithms are potentially able to identify associations between gene sets and biological features by automatically selecting such decision boundaries [12]. For this reason, we decided to extract biological features from the OMICs experiments deposited at TriTrypDB to create a ML dataset for T. brucei.    \n",
    "</div> "
   ]
  },
  {
   "cell_type": "markdown",
   "metadata": {},
   "source": [
    "## Start"
   ]
  },
  {
   "cell_type": "markdown",
   "metadata": {},
   "source": [
    "## Download the dataset\n",
    "We used all the gene identifiers of T. brucei TREU927 clone to query the TriTrypDB database version 44. The search strategy used for this step is available at theTriTrypDB database with the accession identifier d7c5277bb3cfbf2d (https://tritrypdb.org/tritrypdb/im.do?s=d7c5277bb3cfbf2d). From the TriTrypDB interface, we downloaded all the available information for this search strategy into a comma-separated values (CSV) file. Broadly speaking, this step assembles a collection of Proteomics, Transcriptomics (RNA-seq / gene chip) and genomics dataset along with several protein sequence descriptors, such as the presence of a signal peptide, the counts of transmembrane domain or the genomic location of the protein gene.\n",
    "### select the option indicated on the red arrows \n",
    "<img typeof=\"foaf:Image\" src=\"static/Capture_2.PNG\" alt=\"Wellcome Centre for Anti-Infectives Research\" title=\"\">\n",
    "\n"
   ]
  },
  {
   "cell_type": "code",
   "execution_count": 4,
   "metadata": {},
   "outputs": [
    {
     "name": "stdout",
     "output_type": "stream",
     "text": [
      "(11832, 597)\n"
     ]
    }
   ],
   "source": [
    "import pandas as pd\n",
    "#load the dataset\n",
    "#final_df = pd.read_csv('indata/GenesByTaxon_Summary_43.zip',sep='\\t')\n",
    "tryp_df = pd.read_csv(os.path.join('input','GenesByTaxon_Summary_45.zip'), sep='\\t')\n",
    "tryp_df.head()\n",
    "print(tryp_df.shape)"
   ]
  },
  {
   "cell_type": "markdown",
   "metadata": {},
   "source": [
    "### Time to create the ML dataset"
   ]
  },
  {
   "cell_type": "code",
   "execution_count": 5,
   "metadata": {},
   "outputs": [],
   "source": [
    "#this is our ML dataset, ready to accept new features\n",
    "ml_df = tryp_df[['Gene ID']].copy()"
   ]
  },
  {
   "cell_type": "code",
   "execution_count": 6,
   "metadata": {},
   "outputs": [
    {
     "data": {
      "text/plain": [
       "3"
      ]
     },
     "execution_count": 6,
     "metadata": {},
     "output_type": "execute_result"
    }
   ],
   "source": [
    "#There is a bug in the tritrypDB script that create the outputs\n",
    "#some RNA-seq experiments have the same name for unique and nonunique values\n",
    "#pandas assign to such duplicates column the '.1' suffix\n",
    "len([n for n in tryp_df.columns if '.1' in n])\n",
    "#also, some RNA-seq experiments are still missing the unique and nonunique tag"
   ]
  },
  {
   "cell_type": "markdown",
   "metadata": {},
   "source": [
    "\n",
    "\n",
    "\n",
    "\n",
    "\n",
    "## Processing of proteomics data\n",
    "### BSF PCF fold change\n",
    "\n",
    "TryTripDB contains 6 proteomic datasets that analyse  the differential protein expression between the Procyclic form (PCF) and BloodStream form (BSF) parasites stages. Two datasets (<a href=\"https://tritrypdb.org/tritrypdb/app/record/dataset/DS_cb23da819c\">Urbaniak 2012</a>  and <a href=\"https://tritrypdb.org/tritrypdb/app/record/dataset/DS_24b68cb68a\">Urbaniak 2013</a>) were produced in our research centre and two others were reported in <a href=\"https://tritrypdb.org/tritrypdb/app/record/dataset/DS_1ec24003f1\">Butter et al. 2013</a>. Two other experiments were produced by <a href=\"https://tritrypdb.org/tritrypdb/app/record/dataset/DS_1e1fb1711d\">Gunasekera K et al 2012 </a> differentiating between Long Slender (LS) and  Short Stumpy (SS) BSF life stage.\n",
    "We now aim to visualize the similarities between these datasets.\n"
   ]
  },
  {
   "cell_type": "code",
   "execution_count": 7,
   "metadata": {},
   "outputs": [
    {
     "data": {
      "image/png": "[encoded data removed]",
      "text/plain": [
       "<Figure size 432x432 with 2 Axes>"
      ]
     },
     "metadata": {
      "needs_background": "light"
     },
     "output_type": "display_data"
    }
   ],
   "source": [
    "#columns with the data\n",
    "proteomics_columns = ['Procyclic Form Vs Bloodstream Form (Tb PCFvBSF QProt SILAC)',\n",
    "                     'Pcf-Bsf ratio (Tb PCF BSF QPhosProt)',\n",
    "                    'Combined-PCF_light V BSF_heavy (Tb PCF BSF Prot SILAC-switch)',\n",
    "                    'Combined-PCF_heavy V BSF_light (Tb PCF BSF Prot SILAC-switch)',\n",
    "                         'LS (Tb927 LSvSS QProt)',\n",
    "                         'SS (Tb927 LSvSS QProt)',]\n",
    "\n",
    "rename = ['UrbA', 'UrbB', 'ButA', \n",
    "          'ButB','GunLS','GunSS']\n",
    "#rename = ['1', '2', '3', '4']\n",
    "temp_df = tryp_df[proteomics_columns]\n",
    "temp_df.columns = rename\n",
    "\n",
    "im, cbar, ax = scripts.heatmap(temp_df.corr().values,\n",
    "                           temp_df.columns,temp_df.columns,cmap=\"Wistia\")\n",
    "\n",
    "texts = scripts.annotate_heatmap(im, valfmt=\"{x:.2f}\")\n",
    "plt.tight_layout()\n",
    "plt.tick_params(\n",
    "    axis='x',          # changes apply to the x-axis\n",
    "    which='both',      # both major and minor ticks are affected\n",
    "    bottom=False,      # ticks along the bottom edge are off\n",
    "    top=False,         # ticks along the top edge are off\n",
    "    labelbottom=False)\n",
    "fig = matplotlib.pyplot.gcf()\n",
    "fig.set_size_inches(6, 6)\n",
    "plt.title('HeatMap')\n",
    "#ax.set_xticks([]) \n",
    "#ax.set_yticks([]) \n",
    "#ax.tick_params(axis=u'both', which=u'both',length=0)\n",
    "#plt.savefig(os.path.join('figures','example_1','Fig_1a.png'))\n",
    "plt.show()"
   ]
  },
  {
   "cell_type": "markdown",
   "metadata": {},
   "source": [
    "The figure plots an heatmap of the Pearson correletion coefficents between the proteomic experiments. The five datasets using the LS BSF life stage showed good experimental reproducibility (above 0.8). Unsurprising, the experiment using the SS BSF life stage showed a lower reproducibility with the other five experiments; for this reason, this experiment was removed and used to create a different biological descriptor. On the other hand, we averaged the experiments using the LS BSF life stage in one descriptor, after normalization using the z-scores, necessary step to avoid redundancy in the ML dataset. "
   ]
  },
  {
   "cell_type": "code",
   "execution_count": 8,
   "metadata": {},
   "outputs": [],
   "source": [
    "ss = StandardScaler()\n",
    "del temp_df['GunSS']\n",
    "temp_df=pd.DataFrame(ss.fit_transform(temp_df), \n",
    "                     columns=temp_df.columns,index=temp_df.index.values)\n",
    "temp_df['merged']=temp_df.median(axis=1, skipna=True)"
   ]
  },
  {
   "cell_type": "markdown",
   "metadata": {},
   "source": [
    "#### BSF PCF missing data"
   ]
  },
  {
   "cell_type": "code",
   "execution_count": 9,
   "metadata": {},
   "outputs": [
    {
     "data": {
      "image/png": "[encoded data removed]",
      "text/plain": [
       "<Figure size 432x432 with 3 Axes>"
      ]
     },
     "metadata": {
      "needs_background": "light"
     },
     "output_type": "display_data"
    }
   ],
   "source": [
    "#visualization of missing data\n",
    "ax=msno.bar(temp_df.dropna(axis=0, how='all'),figsize=(6, 6))\n",
    "plt.title('Missing Data Analysis',size=12)\n",
    "ax.set_ylabel('Fraction of data points',size=12)\n",
    "#plt.xtickslabels(fontsize=12)\n",
    "plt.tight_layout()\n",
    "#plt.savefig(os.path.join('figures','example_1','Fig_2.png'))\n",
    "plt.show()"
   ]
  },
  {
   "cell_type": "markdown",
   "metadata": {},
   "source": [
    "The merged dataset has less missing data points"
   ]
  },
  {
   "cell_type": "code",
   "execution_count": 10,
   "metadata": {},
   "outputs": [
    {
     "name": "stdout",
     "output_type": "stream",
     "text": [
      "(11832, 3)\n"
     ]
    },
    {
     "data": {
      "text/plain": [
       "50"
      ]
     },
     "execution_count": 10,
     "metadata": {},
     "output_type": "execute_result"
    }
   ],
   "source": [
    "#adding our merged feature\n",
    "ml_df['EF_merged_PCF_BSF']=temp_df['merged'].values\n",
    "ml_df['SS (Tb927 LSvSS QProt)']=tryp_df['SS (Tb927 LSvSS QProt)']\n",
    "print(ml_df.shape)\n",
    "\n",
    "#removing old stuff\n",
    "del temp_df\n",
    "gc.collect()"
   ]
  },
  {
   "cell_type": "markdown",
   "metadata": {},
   "source": [
    "### PCF Cell Cycle\n",
    "Further descriptors were engineered from the changes in abundance of the PCF proteome during the cell cycle progression [17]. From this time-course experiment, we extracted two categorical features and one continuous variable. The two categorical features reported the time point (hour) showing the maximum abundance value (MAX) and the time point showing the minimum abundance value (MIN) for each protein in the time-course experiment. The continue variable consisted of the log2 fold change between the MAX and MIN protein abundance values across the time-course experiment. The same feature extraction strategy was further applied to the time course experiments studying the changes in proteome and transcriptome abundance during the T. brucei differentiation from the BSF to PCF life stage [8, 18-22]. "
   ]
  },
  {
   "cell_type": "code",
   "execution_count": 11,
   "metadata": {},
   "outputs": [
    {
     "name": "stdout",
     "output_type": "stream",
     "text": [
      "['0.5 hr (Tb procyclic cell cycle proteome)', '3 hr (Tb procyclic cell cycle proteome)', '5 hr (Tb procyclic cell cycle proteome)', '6 hr (Tb procyclic cell cycle proteome)', '7 hr (Tb procyclic cell cycle proteome)', '8 hr (Tb procyclic cell cycle proteome)', '9 hr (Tb procyclic cell cycle proteome)', '10 hr (Tb procyclic cell cycle proteome)', '11 hr (Tb procyclic cell cycle proteome)']\n"
     ]
    }
   ],
   "source": [
    "list(tryp_df.columns)\n",
    "#final_df[[n for n in final_df.columns  if 'Tb LifeCyc Marray' in n]].head()\n",
    "cols = [n for n in tryp_df.columns  if 'Tb procyclic cell cycle proteome' in n]\n",
    "print (cols)\n",
    "temp_df = tryp_df[cols]\n",
    "temp_df = temp_df.replace(0.0, np.nan)\n",
    "ml_df['EF_CellCycle_min_max'] = np.log2(\n",
    "    temp_df[cols].max(axis=1,skipna=True)/temp_df[cols].min(axis=1,skipna=True))\n",
    "ml_df['EF_CellCycle_max'] = temp_df[cols].idxmax(axis=1)\n",
    "ml_df['EF_CellCycle_max'] = [float(str(n).split(' ')[0]) for n in ml_df['EF_CellCycle_max']]\n",
    "ml_df['EF_CellCycle_min'] = temp_df[cols].idxmin(axis=1)\n",
    "ml_df['EF_CellCycle_min'] = [float(str(n).split(' ')[0]) for n in ml_df['EF_CellCycle_min']]"
   ]
  },
  {
   "cell_type": "code",
   "execution_count": 12,
   "metadata": {},
   "outputs": [
    {
     "data": {
      "image/png": "[encoded data removed]",
      "text/plain": [
       "<Figure size 1296x432 with 3 Axes>"
      ]
     },
     "metadata": {},
     "output_type": "display_data"
    }
   ],
   "source": [
    "plt.style.use('ggplot')\n",
    "fig,axes=plt.subplots(figsize=(18,6),ncols=3)\n",
    "ml_df['EF_CellCycle_min_max'].plot(kind='hist', bins=20,ax=axes[0])\n",
    "axes[0].set_xlabel('Log2 Max/Min',fontsize=12)\n",
    "axes[0].set_ylabel('Counts', fontsize=16)\n",
    "axes[0].set_title('Protein Abundance Change')\n",
    "scripts.add_subplot_index(axes[0], text='A)')\n",
    "\n",
    "ml_df['EF_CellCycle_max'].value_counts().plot(kind='bar',ax=axes[1])\n",
    "axes[1].set_xlabel('Time Points (H)',fontsize=12)\n",
    "axes[1].set_ylabel('Counts', fontsize=16)\n",
    "axes[1].set_title('Max Abundance')\n",
    "scripts.add_subplot_index(axes[1], text='B)')\n",
    "\n",
    "ml_df['EF_CellCycle_min'].value_counts().plot(kind='bar',ax=axes[2])\n",
    "axes[2].set_xlabel('Time Points (Hr)',fontsize=12)\n",
    "axes[2].set_ylabel('Counts', fontsize=16)\n",
    "axes[2].set_title('Min Abundance')\n",
    "scripts.add_subplot_index(axes[2], text='C)')\n",
    "\n",
    "\n",
    "plt.suptitle('Proteomic Cell Cycle',fontsize=16,y=1.05)\n",
    "#plt.savefig(os.path.join('figures','example_1','Fig_3.png'))\n",
    "plt.show()"
   ]
  },
  {
   "cell_type": "markdown",
   "metadata": {},
   "source": [
    "### BSF / PCF Protein Abundance\n",
    "We also decided to create an absolute protein abundance feature in BSF and PCF by using a recent experiment published by our laboratory [13]. This dataset (not yet uploaded in TryTripDB), is available from the public repository Zenodo [14] and uses the SILAC technique to study the turnover rate of the T. brucei BSF and PCF proteomes. In this work, fully label BSF and PCF parasites growth in medium SILAC culture media (M) were placed in light SILAC culture media (L) to follow the synthesis and degradation rate of the proteome with a time-course experiment. The experiment consisted of seven and nine time points for the BSF and PCF respectively with three biological replicas each. The samples of the time course experiment were also mixed 1:1 with fully label parasites in heavy SILAC culture media (H) to provide an internal standard for normalization. The log10 protein intensity values of the H samples were used as a proxy for protein abundance after averaging H intensity values of each protein across the biological replica and the time points. \n"
   ]
  },
  {
   "cell_type": "code",
   "execution_count": 14,
   "metadata": {},
   "outputs": [
    {
     "name": "stdout",
     "output_type": "stream",
     "text": [
      "(11832, 8)\n"
     ]
    }
   ],
   "source": [
    "bsf = pd.read_table(os.path.join('input','turnover','BSF','proteinGroups.zip'))\n",
    "pcf = pd.read_table(os.path.join('input','turnover','PCF','proteinGroups.zip'))\n",
    "\n",
    "intensity_columns = [n for n in bsf.columns if n.startswith('Intensity H') ]\n",
    "bsf[intensity_columns]=bsf[intensity_columns].replace(0,np.nan)\n",
    "bsf['abundance'] = np.log10(bsf[intensity_columns].mean(axis=1,skipna=True))\n",
    "\n",
    "intensity_columns = [n for n in pcf.columns if n.startswith('Intensity H') ]\n",
    "pcf[intensity_columns]=pcf[intensity_columns].replace(0,np.nan)\n",
    "pcf['abundance'] = np.log10(pcf[intensity_columns].mean(axis=1, skipna=True))\n",
    "\n",
    "\n",
    "temp_dict = scripts.make_dict_from_cols(bsf)\n",
    "ml_df['EF_Abundance_BSF']=[temp_dict.get(n, np.nan) for n in tryp_df['Gene ID']]\n",
    "temp_dict = scripts.make_dict_from_cols(pcf)\n",
    "ml_df['EF_Abundance_PCF']=[temp_dict.get(n, np.nan) for n in tryp_df['Gene ID']]\n",
    "print(ml_df.shape)"
   ]
  },
  {
   "cell_type": "code",
   "execution_count": null,
   "metadata": {},
   "outputs": [],
   "source": [
    "fig,ax=plt.subplots(figsize=(6,6))\n",
    "from matplotlib.lines import Line2D\n",
    "ml_df['EF_Abundance_BSF'].plot(kind='hist',histtype='step', ax=ax, label='BSF',linewidth=1.2,bins=50)\n",
    "ml_df['EF_Abundance_PCF'].plot(kind='hist',histtype='step', ax=ax, label='PCF',linewidth=1.2,bins=50)\n",
    "plt.xlabel('log10 Protein Intensity', fontsize=16)\n",
    "plt.ylabel('Counts', fontsize=16)\n",
    "handles, labels = ax.get_legend_handles_labels()\n",
    "new_handles = [Line2D([], [], c=h.get_edgecolor()) for h in handles]\n",
    "plt.legend(handles=new_handles, labels=labels)\n",
    "plt.title('Protein Abundance',fontsize=16)\n",
    "#plt.savefig(os.path.join('figures','example_1','Fig_4.png'))\n",
    "plt.show()"
   ]
  },
  {
   "cell_type": "markdown",
   "metadata": {},
   "source": [
    "### PCF Protein Complexes\n",
    "\n",
    "A further experiment from our laboratory (not yet uploaded in TriTrypDB) aimed at the identification of T. brucei protein complexes using size-exclusion chromatography (SEC) and mass spectrometry [15]. Briefly, PCF cells were prepared for native protein complex analysis by sonication lysis. The resulting lysates were fractionated separating protein complexes based on their size and shape, and the fractions were analysed by mass spectrometry. From this dataset, we first focus on the experiment using the 30 nm pore column (SEC 300), that efficiently separates protein complexes in the range from 8 kDa to 1.2 MDa. Thanks to protein molecular weight (MW) standards, it is then possible to infer the apparent MW of protein in each of the SEC 300 elution fractions. Consequently, we assign to each protein an apparent MW corresponding to the fraction showing the maximum protein abundance. The log2 fold change between the apparent MW and the MW of the protein computed from the primary sequence was taken as a descriptor to describe the molecular state of protein, in high MW complexes (log2 fold change > 0), monomer (log2 fold change around 0) or degraded (log2 fold change < 0). Finally, we created a simple binary feature describing if a protein is part (1) or not (0) of a complex based on the analysis reported in Crozier TWM et al. [15]."
   ]
  },
  {
   "cell_type": "code",
   "execution_count": null,
   "metadata": {},
   "outputs": [],
   "source": [
    "#regression to compute the predicted MW \n",
    "#from the chromatography fraction\n",
    "def find_weight(f):\n",
    "    from pylab import polyfit\n",
    "    from pylab import poly1d\n",
    "    x = [8, 13, 21, 25, 31, 39, 44]\n",
    "    y = [np.log(n) for n in [1200,660,450,150,70,21,8]]\n",
    "    fit = polyfit(x, y, 1)\n",
    "    fit_fn = poly1d(fit)\n",
    "    return np.exp(fit_fn(f))\n",
    "\n",
    "#parse MaxQuant output\n",
    "infile=os.path.join('input','protein_complexes','proteinGroups_SEC300.zip')\n",
    "indf = pd.read_table(infile)\n",
    "temp = indf[[n for n in indf.columns if 'LFQ intensity' in n ]]\n",
    "#print(temp.shape)\n",
    "df_list = []\n",
    "#using dataset with good reproducibility (see paper)\n",
    "for good_id in ['E3017','E3019','E3021','E3023']:\n",
    "    temp = indf[[n for n in temp.columns if good_id in n ]]\n",
    "    temp.columns = [n.split('_')[-1] for n in temp.columns]\n",
    "    temp['ids']=temp.index.values\n",
    "    df_list.append(temp)\n",
    "df_list = pd.concat(df_list)\n",
    "df_list=df_list.groupby('ids').mean()\n",
    "df_list['max']=df_list.idxmax(axis=1)\n",
    "df_list['apparent_weigth'] = [find_weight(int(f)) for f in df_list['max']]\n",
    "df_list=pd.concat([df_list,indf[['Protein IDs']] ] ,axis=1)\n",
    "df_list.head()"
   ]
  },
  {
   "cell_type": "code",
   "execution_count": null,
   "metadata": {},
   "outputs": [],
   "source": [
    "#extract firsth feature\n",
    "map_dict = scripts.make_dict_from_cols(df_list,\n",
    "                                       key='Protein IDs', \n",
    "                                       value='apparent_weigth')\n",
    "tryp_df['apparent_weigth']=[map_dict.get(n,np.nan) for n in tryp_df['Gene ID']]\n",
    "ml_df['EF_MW_fc'] = tryp_df['apparent_weigth']/(tryp_df['Molecular Weight']/1000)\n"
   ]
  },
  {
   "cell_type": "code",
   "execution_count": null,
   "metadata": {},
   "outputs": [],
   "source": [
    "np.log2(ml_df['EF_MW_fc']).plot(kind='hist',figsize=(6,6), bins=50)\n",
    "plt.title('MW change', fontsize=16)\n",
    "plt.xlabel('Log2 Apparent\\Computed MW',fontsize=16)\n",
    "plt.ylabel('Counts', fontsize=16)\n",
    "#plt.savefig(os.path.join('figures','example_1','Fig_5.png'))\n",
    "plt.show()"
   ]
  },
  {
   "cell_type": "code",
   "execution_count": null,
   "metadata": {},
   "outputs": [],
   "source": [
    "ml_df['EF_MW_fc'] = ml_df['EF_MW_fc'].fillna(0)"
   ]
  },
  {
   "cell_type": "code",
   "execution_count": null,
   "metadata": {},
   "outputs": [],
   "source": [
    "#extract second feature\n",
    "#this extract the predicted protein complexes from the paper\n",
    "temp = open(os.path.join('input', 'protein_complexes', 'final_complexes_mcp.txt'))\n",
    "complex_set = []\n",
    "for line in temp:\n",
    "    prots = line.split('\\t')\n",
    "    prots = [n.strip() for n in prots]\n",
    "    complex_set+=prots\n",
    "complex_set=set(complex_set)\n",
    "ml_df['EF_in_complex'] = [1 if n in complex_set else np.nan \n",
    "                          for n in ml_df['Gene ID']]\n",
    "ml_df['EF_in_complex'].value_counts()\n",
    "ml_df['EF_in_complex']=ml_df['EF_in_complex'].fillna(-1)"
   ]
  },
  {
   "cell_type": "markdown",
   "metadata": {},
   "source": [
    "### Differentiation From BSF to PCF\n",
    "Dejung M, 2016<p>\n",
    "PMID:<a href=\"https://www.ncbi.nlm.nih.gov/pubmed/26910529  \">26910529 </a> and <a href=\"https://tritrypdb.org/tritrypdb/app/record/dataset/DS_1ec24003f1\">TryTripDB</a>\n",
    "\n",
    "\n",
    "\n",
    "During the life cycle of the African trypanosomes in the mammalian host, the trypanosomes undergo a developmental transition from a rapidly dividing long slender stage (LS) to a non-dividing short stumpy stage (SS). The LS stage is well adapted for growth in the mammalian host whereas the SS stage appears pre-adapted for life in the vector. In this dataset, parasites were induced to differentiate from the short stumpy (SS) form to the procyclic form (PF) using 6 mM citrate/cis-aconitate. Parasites were harvested at 0, 2, 4, 6, 12, 24, and 48 h after treatment, and established PF and long slender (LS) forms were also collected.\n",
    "\n",
    "<b> The TriTrypDB dataset appears to miss the SS </b> (short stumpy stage) present in the original articles. See https://www.ncbi.nlm.nih.gov/pmc/articles/PMC4765897/figure/ppat.1005439.g001/"
   ]
  },
  {
   "cell_type": "code",
   "execution_count": null,
   "metadata": {},
   "outputs": [],
   "source": [
    "#i'm going to code the LS stage as -1 hour and PF stage as +100 hour\n",
    "#as they shuld represent the earliest and the latest time point in the series'\n",
    "tryp_df.rename({'LS (tbru differ proteome)':\n",
    "                 '-1 LS (tbru differ proteome)',\n",
    "                 'PF (tbru differ proteome)':\n",
    "                 '100 PF (tbru differ proteome)'},\n",
    "                inplace=True,axis=1)\n",
    "cols = [n for n in tryp_df.columns  if 'tbru differ proteome' in n]\n",
    "cols"
   ]
  },
  {
   "cell_type": "code",
   "execution_count": null,
   "metadata": {},
   "outputs": [],
   "source": [
    "temp_df = tryp_df[cols]\n",
    "temp_df = temp_df.replace(0.0, np.nan)\n",
    "ml_df['EF_prot_BSF_to_PCF_1_min_max'] = np.log2(\n",
    "    temp_df[cols].max(axis=1,skipna=True)/temp_df[cols].min(axis=1,skipna=True))\n",
    "ml_df['EF_prot_BSF_to_PCF_1_max'] = temp_df[cols].idxmax(axis=1)\n",
    "ml_df['EF_prot_BSF_to_PCF_1_max'] = [float(str(n).split(' ')[0]) \n",
    "                                     for n in ml_df['EF_prot_BSF_to_PCF_1_max']]\n",
    "ml_df['EF_prot_BSF_to_PCF_1_min'] = temp_df[cols].idxmin(axis=1)\n",
    "ml_df['EF_prot_BSF_to_PCF_1_min'] = [float(str(n).split(' ')[0]) \n",
    "                                     for n in ml_df['EF_prot_BSF_to_PCF_1_min']]\n",
    "\n",
    "#ml_df['prot_BSF_to_PCF_1_min']=ml_df['prot_BSF_to_PCF_1_min'].astype('category')\n",
    "#ml_df['prot_BSF_to_PCF_1_max']=ml_df['prot_BSF_to_PCF_1_max'].astype('category')"
   ]
  },
  {
   "cell_type": "code",
   "execution_count": null,
   "metadata": {},
   "outputs": [],
   "source": [
    "fig,axes=plt.subplots(figsize=(18,6),ncols=3)\n",
    "ml_df['EF_prot_BSF_to_PCF_1_min_max'].plot(kind='hist', bins=20,ax=axes[0])\n",
    "axes[0].set_xlabel('Log2 Max/Min',fontsize=12)\n",
    "axes[0].set_ylabel('Counts', fontsize=16)\n",
    "axes[0].set_title('Protein Abundance Change')\n",
    "scripts.add_subplot_index(axes[0], text='A)')\n",
    "\n",
    "ml_df['EF_prot_BSF_to_PCF_1_max'].value_counts().plot(kind='bar',ax=axes[1])\n",
    "axes[1].set_xlabel('Time Points (H)',fontsize=12)\n",
    "axes[1].set_ylabel('Counts', fontsize=16)\n",
    "axes[1].set_title('Max Abundance')\n",
    "scripts.add_subplot_index(axes[1], text='B)')\n",
    "\n",
    "ml_df['EF_prot_BSF_to_PCF_1_min'].value_counts().plot(kind='bar',ax=axes[2])\n",
    "axes[2].set_xlabel('Time Points (H)',fontsize=12)\n",
    "axes[2].set_ylabel('Counts', fontsize=16)\n",
    "axes[2].set_title('Min Abundance')\n",
    "scripts.add_subplot_index(axes[2], text='C)')\n",
    "\n",
    "\n",
    "plt.suptitle('Proteomics BSF to PCF',fontsize=16,y=1.05)\n",
    "#plt.savefig(os.path.join('figures','example_1','Fig_6.png'))\n",
    "plt.show()"
   ]
  },
  {
   "cell_type": "code",
   "execution_count": null,
   "metadata": {},
   "outputs": [],
   "source": [
    "print(ml_df.shape)"
   ]
  },
  {
   "cell_type": "markdown",
   "metadata": {},
   "source": [
    "## Processing of trascriptomics data"
   ]
  },
  {
   "cell_type": "markdown",
   "metadata": {},
   "source": [
    "### microarray"
   ]
  },
  {
   "cell_type": "markdown",
   "metadata": {},
   "source": [
    "#### DNA microarray BSF to PCF 1\n",
    "<p>\n",
    "Jensen BC et al, 2009\n",
    "\n",
    "Differentiation from stumpy to tsetse-midgut procyclic forms\n",
    "PMID:<a href=\"https://www.ncbi.nlm.nih.gov/pubmed/19840382 \">19840382</a> and\n",
    "<a href=\"https://tritrypdb.org/tritrypdb/app/record/dataset/DS_2e9f1cbf33\">TryTripDB</a>\n",
    "\n",
    "Whole genome comparison of RNA levels for both protein coding genes and structural RNAs in five different life-cycle stages: cultured bloodstream (Blood Form), in vivo slender bloodstream (Slender), in vivo stumpy bloodstream (Stumpy), log-phase procyclic culture (PCF Log) and stationary-phase procyclic culture forms (PCF Stat)   "
   ]
  },
  {
   "cell_type": "code",
   "execution_count": null,
   "metadata": {},
   "outputs": [],
   "source": [
    "tryp_df.rename({'Blood Form (Tb LifeCyc Marray)':\n",
    "                '1 Blood Form (Tb LifeCyc Marray)',\n",
    "                \n",
    "                'Slender (Tb LifeCyc Marray)':\n",
    "                 '2 Slender (Tb LifeCyc Marray)',\n",
    "\n",
    "                'Stumpy (Tb LifeCyc Marray)':\n",
    "                 '3 Stumpy (Tb LifeCyc Marray)',\n",
    "\n",
    "                 'PCF Log (Tb LifeCyc Marray)':\n",
    "                 '4 Stumpy (Tb LifeCyc Marray)',\n",
    "                 \n",
    "                'PCF Stat (Tb LifeCyc Marray)':\n",
    "                 '5 PCF Stat (Tb LifeCyc Marray)',\n",
    "                },\n",
    "                inplace=True,axis=1)\n",
    "\n",
    "cols = [n for n in tryp_df.columns  if 'Tb LifeCyc Marray' in n]\n",
    "cols"
   ]
  },
  {
   "cell_type": "code",
   "execution_count": null,
   "metadata": {},
   "outputs": [],
   "source": [
    "ml_df['EF_ma_BSF_to_PCF_1_min_max'] = np.log2(\n",
    "    tryp_df[cols].max(axis=1,skipna=True)/tryp_df[cols].min(axis=1,skipna=True))\n",
    "ml_df['EF_ma_BSF_to_PCF_1_max'] = tryp_df[cols].idxmax(axis=1)\n",
    "ml_df['EF_ma_BSF_to_PCF_1_max'] = [float(str(n).split(' ')[0]) \n",
    "                                   for n in ml_df['EF_ma_BSF_to_PCF_1_max']]\n",
    "ml_df['EF_ma_BSF_to_PCF_1_min'] = tryp_df[cols].idxmin(axis=1)\n",
    "ml_df['EF_ma_BSF_to_PCF_1_min'] = [float(str(n).split(' ')[0]) \n",
    "                                   for n in ml_df['EF_ma_BSF_to_PCF_1_min']]\n",
    "\n",
    "#ml_df['ma_BSF_to_PCF_1_max']=ml_df['ma_BSF_to_PCF_1_max'].astype('category')\n",
    "#ml_df['ma_BSF_to_PCF_1_min']=ml_df['ma_BSF_to_PCF_1_min'].astype('category')"
   ]
  },
  {
   "cell_type": "code",
   "execution_count": null,
   "metadata": {},
   "outputs": [],
   "source": [
    "fig,axes=plt.subplots(figsize=(18,6),ncols=3)\n",
    "ml_df['EF_ma_BSF_to_PCF_1_min_max'].plot(kind='hist', bins=20,ax=axes[0])\n",
    "axes[0].set_xlabel('Log2 Max/Min',fontsize=12)\n",
    "axes[0].set_ylabel('Counts', fontsize=16)\n",
    "axes[0].set_title('Protein Abundance Change')\n",
    "scripts.add_subplot_index(axes[0], text='A)')\n",
    "\n",
    "ml_df['EF_ma_BSF_to_PCF_1_max'].value_counts().plot(kind='bar',ax=axes[1])\n",
    "axes[1].set_xlabel('Time Points (H)',fontsize=12)\n",
    "axes[1].set_ylabel('Counts', fontsize=16)\n",
    "axes[1].set_title('Max Abundance')\n",
    "scripts.add_subplot_index(axes[1], text='B)')\n",
    "\n",
    "ml_df['EF_ma_BSF_to_PCF_1_min'].value_counts().plot(kind='bar',ax=axes[2])\n",
    "axes[2].set_xlabel('Time Points (H)',fontsize=12)\n",
    "axes[2].set_ylabel('Counts', fontsize=16)\n",
    "axes[2].set_title('Min Abundance')\n",
    "scripts.add_subplot_index(axes[2], text='C)')\n",
    "\n",
    "\n",
    "plt.suptitle('Trascriptomics BSF to PCF 1',fontsize=16,y=1.05)\n",
    "#plt.savefig(os.path.join('figures','example_1','Fig_7.png'))\n",
    "plt.show()"
   ]
  },
  {
   "cell_type": "markdown",
   "metadata": {},
   "source": [
    "#### DNA microarray BSF to PCF 2\n",
    "Queiroz R et al 2009<p>\n",
    "Gene Expression profiling during in vitro differentiation from cultured bloodstream forms to procyclic forms\n",
    "PMID:<a href=\"https://www.ncbi.nlm.nih.gov/pubmed/19857263\">19857263</a> and\n",
    "<a href=\"https://tritrypdb.org/tritrypdb/app/record/dataset/DS_0c4be69d67\">TryTripDB</a>"
   ]
  },
  {
   "cell_type": "code",
   "execution_count": null,
   "metadata": {},
   "outputs": [],
   "source": [
    "tryp_df.rename({'bf-ld (Tb cBSFtoPCF Marray)':\n",
    "                 '-2 bf-ld (Tb cBSFtoPCF Marray)',\n",
    "                'bf-hd (Tb cBSFtoPCF Marray)':\n",
    "                 '-1 bf-hd (Tb cBSFtoPCF Marray)'\n",
    "                },\n",
    "                inplace=True,axis=1)\n",
    "\n",
    "cols = [n for n in tryp_df.columns  if 'Tb cBSFtoPCF Marray' in n]\n",
    "print (cols)"
   ]
  },
  {
   "cell_type": "code",
   "execution_count": null,
   "metadata": {},
   "outputs": [],
   "source": [
    "ml_df['EF_ma_BSF_to_PCF_2_min_max'] = np.log2(\n",
    "    np.exp(tryp_df[cols].max(axis=1,\n",
    "                             skipna=True))/np.exp(tryp_df[cols].min(axis=1,\n",
    "                                                                    skipna=True)))\n",
    "ml_df['EF_ma_BSF_to_PCF_2_max'] = tryp_df[cols].idxmax(axis=1)\n",
    "ml_df['EF_ma_BSF_to_PCF_2_max'] = [float(str(n).split(' ')[0].replace('hr','')) \n",
    "                                   for n in ml_df['EF_ma_BSF_to_PCF_2_max']]\n",
    "ml_df['EF_ma_BSF_to_PCF_2_min'] = tryp_df[cols].idxmin(axis=1)\n",
    "ml_df['EF_ma_BSF_to_PCF_2_min'] = [float(str(n).split(' ')[0].replace('hr','')) \n",
    "                                   for n in ml_df['EF_ma_BSF_to_PCF_2_min']]\n",
    "\n",
    "#ml_df['ma_BSF_to_PCF_2_max']=ml_df['ma_BSF_to_PCF_2_max'].astype('category')\n",
    "#ml_df['ma_BSF_to_PCF_2_min']=ml_df['ma_BSF_to_PCF_2_min'].astype('category')"
   ]
  },
  {
   "cell_type": "code",
   "execution_count": null,
   "metadata": {},
   "outputs": [],
   "source": [
    "fig,axes=plt.subplots(figsize=(18,6),ncols=3)\n",
    "ml_df['EF_ma_BSF_to_PCF_2_min_max'].plot(kind='hist', bins=20,ax=axes[0])\n",
    "axes[0].set_xlabel('Log2 Max/Min',fontsize=12)\n",
    "axes[0].set_ylabel('Counts', fontsize=16)\n",
    "axes[0].set_title('Protein Abundance Change')\n",
    "scripts.add_subplot_index(axes[0], text='A)')\n",
    "\n",
    "ml_df['EF_ma_BSF_to_PCF_2_max'].value_counts().plot(kind='bar',ax=axes[1])\n",
    "axes[1].set_xlabel('Time Points (H)',fontsize=12)\n",
    "axes[1].set_ylabel('Counts', fontsize=16)\n",
    "axes[1].set_title('Max Abundance')\n",
    "scripts.add_subplot_index(axes[1], text='B)')\n",
    "\n",
    "ml_df['EF_ma_BSF_to_PCF_2_min'].value_counts().plot(kind='bar',ax=axes[2])\n",
    "axes[2].set_xlabel('Time Points (H)',fontsize=12)\n",
    "axes[2].set_ylabel('Counts', fontsize=16)\n",
    "axes[2].set_title('Min Abundance')\n",
    "scripts.add_subplot_index(axes[2], text='C)')\n",
    "\n",
    "\n",
    "plt.suptitle('MicroArray BSF to PCF 2',fontsize=16,y=1.05)\n",
    "#plt.savefig(os.path.join('figures','example_1','Fig_8.png'))\n",
    "plt.show()"
   ]
  },
  {
   "cell_type": "code",
   "execution_count": null,
   "metadata": {},
   "outputs": [],
   "source": [
    "print(ml_df.shape)"
   ]
  },
  {
   "cell_type": "markdown",
   "metadata": {},
   "source": [
    "#### DNA microarray BSF to PCF 3\n",
    "Kabani et al.\n",
    "\n",
    "\n",
    "PMID:<a href=\"https://www.ncbi.nlm.nih.gov/pubmed/19747379 \">19747379</a> and\n",
    "<a href=\"https://tritrypdb.org/tritrypdb/app/record/dataset/DS_b7dc54ebad\">TryTripDB</a>\n",
    "\n",
    "mRNA expression profiles of T. brucei AnTat1.1 slender and stumpy bloodstream stages, as well as 4 time points during the transition of the stumpy to the procyclic life-cycle stage\n",
    "\n",
    "1. Slender bloodstream form: harvested 3 days post-infection of cyclophosphamide treated mice\n",
    "2. 0 h time point (Stumpy bloodstream form): harvested 6 days post-infection of cyclophosphamide treated mice\n",
    "3. 1 h time point: harvested 1 hour after initiating differentiation with cis-aconitate\n",
    "4. 6 h time point: harvested 6 hour after initiating differentiation with cis-aconitate\n",
    "5. 18 h time point: harvested 18 hour after initiating differentiation with cis-aconitate\n",
    "6. 48 h time point: harvested 48 hour after initiating differentiation with cis-aconitate"
   ]
  },
  {
   "cell_type": "code",
   "execution_count": null,
   "metadata": {},
   "outputs": [],
   "source": [
    "#set the Slender as the erliest time point\n",
    "tryp_df.rename({'Slender (Tb LifeCyc Diff Marray)':\n",
    "                 '-1 Slender (Tb LifeCyc Diff Marray)'},\n",
    "                inplace=True,axis=1)\n",
    "cols = [n for n in tryp_df.columns  if 'Tb LifeCyc Diff Marray' in n]\n",
    "cols"
   ]
  },
  {
   "cell_type": "code",
   "execution_count": null,
   "metadata": {},
   "outputs": [],
   "source": [
    "ml_df['EF_ma_BSF_to_PCF_3_min_max'] = np.log2(\n",
    "    tryp_df[cols].max(axis=1,skipna=True)/tryp_df[cols].min(axis=1,skipna=True))\n",
    "ml_df['EF_ma_BSF_to_PCF_3_max'] = tryp_df[cols].idxmax(axis=1)\n",
    "ml_df['EF_ma_BSF_to_PCF_3_max'] = [float(str(n).split(' ')[0]) \n",
    "                                   for n in ml_df['EF_ma_BSF_to_PCF_3_max']]\n",
    "ml_df['EF_ma_BSF_to_PCF_3_min'] = tryp_df[cols].idxmin(axis=1)\n",
    "ml_df['EF_ma_BSF_to_PCF_3_min'] = [float(str(n).split(' ')[0]) \n",
    "                                   for n in ml_df['EF_ma_BSF_to_PCF_3_min']]\n",
    "\n",
    "#ml_df['ma_BSF_to_PCF_1_max']=ml_df['ma_BSF_to_PCF_1_max'].astype('category')\n",
    "#ml_df['ma_BSF_to_PCF_1_min']=ml_df['ma_BSF_to_PCF_1_min'].astype('category')"
   ]
  },
  {
   "cell_type": "code",
   "execution_count": null,
   "metadata": {},
   "outputs": [],
   "source": [
    "fig,axes=plt.subplots(figsize=(18,6),ncols=3)\n",
    "ml_df['EF_ma_BSF_to_PCF_3_min_max'].plot(kind='hist', bins=20,ax=axes[0])\n",
    "axes[0].set_xlabel('Log2 Max/Min',fontsize=12)\n",
    "axes[0].set_ylabel('Counts', fontsize=16)\n",
    "axes[0].set_title('Protein Abundance Change')\n",
    "scripts.add_subplot_index(axes[0], text='A)')\n",
    "\n",
    "ml_df['EF_ma_BSF_to_PCF_3_max'].value_counts().plot(kind='bar',ax=axes[1])\n",
    "axes[1].set_xlabel('Time Points (H)',fontsize=12)\n",
    "axes[1].set_ylabel('Counts', fontsize=16)\n",
    "axes[1].set_title('Max Abundance')\n",
    "scripts.add_subplot_index(axes[1], text='B)')\n",
    "\n",
    "ml_df['EF_ma_BSF_to_PCF_3_min'].value_counts().plot(kind='bar',ax=axes[2])\n",
    "axes[2].set_xlabel('Time Points (H)',fontsize=12)\n",
    "axes[2].set_ylabel('Counts', fontsize=16)\n",
    "axes[2].set_title('Min Abundance')\n",
    "scripts.add_subplot_index(axes[2], text='C)')\n",
    "\n",
    "\n",
    "plt.suptitle('MicroArray BSF to PCF 3',fontsize=16,y=1.05)\n",
    "#plt.savefig(os.path.join('figures','example_1','Fig_9.png'))\n",
    "plt.show()"
   ]
  },
  {
   "cell_type": "code",
   "execution_count": null,
   "metadata": {},
   "outputs": [],
   "source": []
  },
  {
   "cell_type": "markdown",
   "metadata": {},
   "source": [
    "### RNA-Seq"
   ]
  },
  {
   "cell_type": "markdown",
   "metadata": {},
   "source": [
    "#### RNA-Seq mouse blood vs gonadal fat\n",
    "Trindade S, 2016<p>\n",
    "Transcriptomes of T brucei parasites isolated from mouse blood and gonadal fat\n",
    "PMID:<a href=\"https://www.ncbi.nlm.nih.gov/pubmed/27237364 \">27237364</a> and\n",
    "<a href=\"https://tritrypdb.org/tritrypdb/app/record/dataset/DS_917e265ce7\">TryTripDB</a>\n",
    "    \n",
    "We also assemble biological descriptors to capture the differential expressed genes between the BSF and ATF (adipose tissue forms) life stages [23]. For this experiment, we computed the log2 fold changes between the ATF and BSF samples.     "
   ]
  },
  {
   "cell_type": "code",
   "execution_count": null,
   "metadata": {},
   "outputs": [],
   "source": [
    "#average blood and fat replicates\n",
    "cols_fat = [n for n in tryp_df.columns  if 'Tbru Adipose RNASeq' in n and 'Fat' in n]\n",
    "cols_blood = [n for n in tryp_df.columns  if 'Tbru Adipose RNASeq' in n and 'Blood' in n]\n",
    "\n",
    "tryp_df['fat_mean'] = tryp_df[cols_fat].mean(skipna=True, axis=1)\n",
    "tryp_df['blood_mean'] = tryp_df[cols_blood].mean(skipna=True, axis=1)\n",
    "print(tryp_df[['fat_mean','blood_mean']].shape)\n",
    "#compute FC fat / blood \n",
    "ml_df['EF_RNASeq_adipose_blood']=np.log2(tryp_df['fat_mean'].replace(0,np.nan)/tryp_df['blood_mean'].replace(0,np.nan))"
   ]
  },
  {
   "cell_type": "code",
   "execution_count": null,
   "metadata": {},
   "outputs": [],
   "source": [
    "fig,ax=plt.subplots(figsize=(6,6))\n",
    "ml_df['EF_RNASeq_adipose_blood'].plot(kind='hist', bins=20,ax=ax)\n",
    "ax.set_xlabel('Log2 Max/Min',fontsize=12)\n",
    "ax.set_ylabel('Counts', fontsize=16)\n",
    "ax.set_title('RNA Abundance Change')\n",
    "#plt.savefig(os.path.join('figures','example_1','Fig_10.png'))\n",
    "plt.show()"
   ]
  },
  {
   "cell_type": "code",
   "execution_count": null,
   "metadata": {},
   "outputs": [],
   "source": [
    "print(ml_df.shape)"
   ]
  },
  {
   "cell_type": "markdown",
   "metadata": {},
   "source": [
    "#### RNA-Seq glucose response\n",
    "Qiu Y, 2018<p>\n",
    "RNA seq analysis with or without added glucose and proline/threonine\n",
    "PMID:<a href=\"https://www.ncbi.nlm.nih.gov/pubmed/30381351\">30381351</a> and\n",
    "<a href=\"https://tritrypdb.org/tritrypdb/app/record/dataset/DS_cf6d4532c7\">TryTripDB</a>\n",
    "   \n",
    "We also considered the response of the parasites to glucose depletion by computing three features: 1) the log2 fold changes between the RNA-seq read counts of the glucose fed SS BSF parasites versus glucose starved SS  BSF parasites,  2) glucose fed LS BSF parasites versus glucose fed SS  BSF parasites and 3) glucose fed LS BSF parasites versus glucose starved SS  BSF parasites [24]. "
   ]
  },
  {
   "cell_type": "code",
   "execution_count": null,
   "metadata": {},
   "outputs": [],
   "source": [
    "#we used only the fold change in SS\n",
    "temp_1 = tryp_df['sense - SS + gluc - unique only'].replace(0,np.nan)\n",
    "temp_2 = tryp_df['sense - SS - gluc - unique only'].replace(0,np.nan)\n",
    "ml_df['EF_fc_glucose_1'] = np.log2(temp_1/temp_2)\n",
    "\n",
    "#we used only the fold change in SS\n",
    "temp_1 = tryp_df['sense - LS + gluc - unique only'].replace(0,np.nan)\n",
    "temp_2 = tryp_df['sense - SS - gluc - unique only'].replace(0,np.nan)\n",
    "ml_df['EF_fc_glucose_2'] = np.log2(temp_1/temp_2)\n",
    "\n",
    "#we used only the fold change in SS\n",
    "temp_1 = tryp_df['sense - LS + gluc - unique only'].replace(0,np.nan)\n",
    "temp_2 = tryp_df['sense - SS + gluc - unique only'].replace(0,np.nan)\n",
    "ml_df['EF_fc_glucose_3'] = np.log2(temp_1/temp_2)\n"
   ]
  },
  {
   "cell_type": "code",
   "execution_count": null,
   "metadata": {},
   "outputs": [],
   "source": [
    "fig,ax=plt.subplots(figsize=(6,6))\n",
    "ml_df[['EF_fc_glucose_1',\n",
    "       'EF_fc_glucose_2',\n",
    "      'EF_fc_glucose_3',]].plot(kind='hist',histtype='step', bins=20,ax=ax)\n",
    "\n",
    "ax.set_xlabel('Log2 FC',fontsize=12)\n",
    "ax.set_ylabel('Counts', fontsize=16)\n",
    "ax.set_title('RNA Abundance Change')\n",
    "handles, labels = ax.get_legend_handles_labels()\n",
    "new_handles = [Line2D([], [], c=h.get_edgecolor()) for h in handles]\n",
    "plt.legend(handles=new_handles, labels=labels)\n",
    "\n",
    "#plt.savefig(os.path.join('figures','example_1','Fig_11.png'))\n",
    "plt.show()"
   ]
  },
  {
   "cell_type": "markdown",
   "metadata": {},
   "source": [
    "#### RNA-Seq cell cycle\n",
    "Archer SK, 2016<p>\n",
    "Gene expression profiling of the T. brucei cell cycle by RNA-sequencing\n",
    "PMID:<a href=\"https://www.ncbi.nlm.nih.gov/pubmed/21483801 \">21483801</a> and\n",
    "<a href=\"https://tritrypdb.org/tritrypdb/app/record/dataset/DS_0de2f64330\">TryTripDB</a>"
   ]
  },
  {
   "cell_type": "code",
   "execution_count": null,
   "metadata": {},
   "outputs": [],
   "source": [
    "cols = [n for n in tryp_df.columns if 'Tb CellCyc RSeq' in n]\n",
    "#print (cols)\n",
    "temp_df = tryp_df[cols]\n",
    "temp_df = temp_df.replace(0.0, np.nan)\n",
    "ml_df['EF_RNA_CellCycle_min_max'] = np.log2(\n",
    "    temp_df[cols].max(axis=1,skipna=True)/temp_df[cols].min(axis=1,skipna=True))\n",
    "\n",
    "temp_df.columns = [n.split(' - ')[2].split(' ')[0] for n in cols]\n",
    "cols = temp_df.columns\n",
    "ml_df['EF_RNA_CellCycle_max'] = temp_df[cols].idxmax(axis=1)\n",
    "ml_df['EF_RNA_CellCycle_max'] = [float(n) for n in ml_df['EF_RNA_CellCycle_max']]\n",
    "ml_df['EF_RNA_CellCycle_min'] = temp_df[cols].idxmin(axis=1)\n",
    "ml_df['EF_RNA_CellCycle_min'] = [float(n) for n in ml_df['EF_RNA_CellCycle_min']] \n",
    "\n",
    "#ml_df['RNA_CellCycle_max']=ml_df['RNA_CellCycle_max'].astype('category')\n",
    "#ml_df['RNA_CellCycle_min']=ml_df['RNA_CellCycle_min'].astype('category')"
   ]
  },
  {
   "cell_type": "code",
   "execution_count": null,
   "metadata": {},
   "outputs": [],
   "source": [
    "fig,axes=plt.subplots(figsize=(18,6),ncols=3)\n",
    "ml_df['EF_RNA_CellCycle_min_max'].plot(kind='hist', bins=20,ax=axes[0])\n",
    "axes[0].set_xlabel('Log2 Max/Min',fontsize=12)\n",
    "axes[0].set_ylabel('Counts', fontsize=16)\n",
    "axes[0].set_title('Protein Abundance Change')\n",
    "scripts.add_subplot_index(axes[0], text='A)')\n",
    "\n",
    "ml_df['EF_RNA_CellCycle_max'].value_counts().plot(kind='bar',ax=axes[1])\n",
    "axes[1].set_xlabel('Time Points (H)',fontsize=12)\n",
    "axes[1].set_ylabel('Counts', fontsize=16)\n",
    "axes[1].set_title('Max Abundance')\n",
    "scripts.add_subplot_index(axes[1], text='B)')\n",
    "\n",
    "ml_df['EF_RNA_CellCycle_min'].value_counts().plot(kind='bar',ax=axes[2])\n",
    "axes[2].set_xlabel('Time Points (H)',fontsize=12)\n",
    "axes[2].set_ylabel('Counts', fontsize=16)\n",
    "axes[2].set_title('Min Abundance')\n",
    "scripts.add_subplot_index(axes[2], text='C)')\n",
    "\n",
    "plt.suptitle('RNA-seq Cell Cycle',fontsize=16,y=1.05)\n",
    "#plt.savefig(os.path.join('figures','example_1','Fig_12.png'))\n",
    "plt.show()"
   ]
  },
  {
   "cell_type": "code",
   "execution_count": null,
   "metadata": {},
   "outputs": [],
   "source": [
    "print(ml_df.shape)"
   ]
  },
  {
   "cell_type": "markdown",
   "metadata": {},
   "source": [
    "#### RNA-seq BSF to PCF\n",
    "\n",
    "Naguleswaran et al. 2018\n",
    "\n",
    "PMID:<a href=\"https://www.ncbi.nlm.nih.gov/pubmed/29606092\">29606092</a> and \n",
    "<a href=\"https://tritrypdb.org/tritrypdb/app/record/dataset/DS_b5cbc0fe92\">TryTripDB</a>\n",
    "\n",
    "This study provides the first transcriptomic data from cultures of four consecutive life-cycle stages of Trypanosoma brucei."
   ]
  },
  {
   "cell_type": "code",
   "execution_count": null,
   "metadata": {},
   "outputs": [],
   "source": [
    "tryp_df.rename({'antisense - Long Slender - unique only':\n",
    "                 '1 antisense - Long Slender - unique only',\n",
    "               \n",
    "                'antisense - Short Stumpy - unique only':\n",
    "                 '2 antisense - Short Stumpy - unique only',\n",
    "                \n",
    "                'antisense - PCF Early - unique only':\n",
    "                 '3 antisense - PCF Early - unique only',\n",
    "\n",
    "                 'antisense - PCF Late - unique only':\n",
    "                 '4 antisense - PCF Late - unique only',\n",
    "\n",
    "               },\n",
    "                inplace=True,axis=1)\n",
    "\n",
    "cols = ['1 antisense - Long Slender - unique only', \n",
    "        '2 antisense - Short Stumpy - unique only',\n",
    "        '3 antisense - PCF Early - unique only',\n",
    "        '4 antisense - PCF Late - unique only']\n",
    "\n",
    "\n",
    "print (cols)\n",
    "temp_df = tryp_df[cols]\n",
    "temp_df = temp_df.replace(0.0, np.nan)\n",
    "ml_df['EF_RNA_BSF_to_PCF_anti_min_max'] = np.log2(\n",
    "    temp_df[cols].max(axis=1,skipna=True)/temp_df[cols].min(axis=1,skipna=True))\n",
    "\n",
    "temp_df.columns = [n.split(' ')[0] for n in cols]\n",
    "cols = temp_df.columns\n",
    "ml_df['EF_RNA_BSF_to_PCF_anti_max'] = temp_df[cols].idxmax(axis=1)\n",
    "ml_df['EF_RNA_BSF_to_PCF_anti_max'] = [float(n) for n \n",
    "                                       in ml_df['EF_RNA_BSF_to_PCF_anti_max']]\n",
    "ml_df['EF_RNA_BSF_to_PCF_anti_min'] = temp_df[cols].idxmin(axis=1)\n",
    "ml_df['EF_RNA_BSF_to_PCF_anti_min'] = [float(n) for n \n",
    "                                       in ml_df['EF_RNA_BSF_to_PCF_anti_min']] \n",
    "\n",
    "#ml_df['RNA_CellCycle_max']=ml_df['RNA_CellCycle_max'].astype('category')\n",
    "#ml_df['RNA_CellCycle_min']=ml_df['RNA_CellCycle_min'].astype('category')"
   ]
  },
  {
   "cell_type": "code",
   "execution_count": null,
   "metadata": {},
   "outputs": [],
   "source": [
    "fig,axes=plt.subplots(figsize=(18,6),ncols=3)\n",
    "ml_df['EF_RNA_BSF_to_PCF_anti_min_max'].plot(kind='hist', bins=20,ax=axes[0])\n",
    "axes[0].set_xlabel('Log2 Max/Min',fontsize=12)\n",
    "axes[0].set_ylabel('Counts', fontsize=16)\n",
    "axes[0].set_title('Protein Abundance Change')\n",
    "scripts.add_subplot_index(axes[0], text='A)')\n",
    "\n",
    "ml_df['EF_RNA_BSF_to_PCF_anti_max'].value_counts().plot(kind='bar',ax=axes[1])\n",
    "axes[1].set_xlabel('Time Points (H)',fontsize=12)\n",
    "axes[1].set_ylabel('Counts', fontsize=16)\n",
    "axes[1].set_title('Max Abundance')\n",
    "scripts.add_subplot_index(axes[1], text='B)')\n",
    "\n",
    "ml_df['EF_RNA_BSF_to_PCF_anti_min'].value_counts().plot(kind='bar',ax=axes[2])\n",
    "axes[2].set_xlabel('Time Points (H)',fontsize=12)\n",
    "axes[2].set_ylabel('Counts', fontsize=16)\n",
    "axes[2].set_title('Min Abundance')\n",
    "scripts.add_subplot_index(axes[2], text='C)')\n",
    "\n",
    "plt.suptitle('RNA-seq_BSF_to_PCF_anti',fontsize=16,y=1.05)\n",
    "#plt.savefig(os.path.join('figures','example_1','Fig_13.png'))\n",
    "plt.show()"
   ]
  },
  {
   "cell_type": "code",
   "execution_count": null,
   "metadata": {},
   "outputs": [],
   "source": [
    "tryp_df.rename({'sense - Long Slender - unique only':\n",
    "                 '1 sense - Long Slender - unique only',\n",
    "               \n",
    "                'sense - Short Stumpy - unique only':\n",
    "                 '2 sense - Short Stumpy - unique only',\n",
    "                \n",
    "                'sense - PCF Early - unique only':\n",
    "                 '3 sense - PCF Early - unique only',\n",
    "\n",
    "                 'sense - PCF Late - unique only':\n",
    "                 '4 sense - PCF Late - unique only',\n",
    "\n",
    "               },\n",
    "                inplace=True,axis=1)\n",
    "\n",
    "cols = ['1 sense - Long Slender - unique only', \n",
    "        '2 sense - Short Stumpy - unique only',\n",
    "        '3 sense - PCF Early - unique only',\n",
    "        '4 sense - PCF Late - unique only']\n",
    "\n",
    "\n",
    "\n",
    "#print (cols)\n",
    "temp_df = tryp_df[cols]\n",
    "temp_df = temp_df.replace(0.0, np.nan)\n",
    "ml_df['EF_RNA_BSF_to_PCF_sen_min_max'] = np.log2(\n",
    "    temp_df[cols].max(axis=1,skipna=True)/temp_df[cols].min(axis=1,skipna=True))\n",
    "\n",
    "temp_df.columns = [n.split(' ')[0] for n in cols]\n",
    "cols = temp_df.columns\n",
    "ml_df['EF_RNA_BSF_to_PCF_sen_max'] = temp_df[cols].idxmax(axis=1)\n",
    "ml_df['EF_RNA_BSF_to_PCF_sen_max'] = [float(n) for n \n",
    "                                      in ml_df['EF_RNA_BSF_to_PCF_sen_max']]\n",
    "ml_df['EF_RNA_BSF_to_PCF_sen_min'] = temp_df[cols].idxmin(axis=1)\n",
    "ml_df['EF_RNA_BSF_to_PCF_sen_min'] = [float(n) for n \n",
    "                                      in ml_df['EF_RNA_BSF_to_PCF_sen_min']] \n"
   ]
  },
  {
   "cell_type": "code",
   "execution_count": null,
   "metadata": {},
   "outputs": [],
   "source": [
    "fig,axes=plt.subplots(figsize=(18,6),ncols=3)\n",
    "ml_df['EF_RNA_BSF_to_PCF_sen_min_max'].plot(kind='hist', bins=20,ax=axes[0])\n",
    "axes[0].set_xlabel('Log2 Max/Min',fontsize=12)\n",
    "axes[0].set_ylabel('Counts', fontsize=16)\n",
    "axes[0].set_title('Protein Abundance Change')\n",
    "scripts.add_subplot_index(axes[0], text='A)')\n",
    "\n",
    "ml_df['EF_RNA_BSF_to_PCF_sen_max'].value_counts().plot(kind='bar',ax=axes[1])\n",
    "axes[1].set_xlabel('Time Points (H)',fontsize=12)\n",
    "axes[1].set_ylabel('Counts', fontsize=16)\n",
    "axes[1].set_title('Max Abundance')\n",
    "scripts.add_subplot_index(axes[1], text='B)')\n",
    "\n",
    "ml_df['EF_RNA_BSF_to_PCF_sen_min'].value_counts().plot(kind='bar',ax=axes[2])\n",
    "axes[2].set_xlabel('Time Points (H)',fontsize=12)\n",
    "axes[2].set_ylabel('Counts', fontsize=16)\n",
    "axes[2].set_title('Min Abundance')\n",
    "scripts.add_subplot_index(axes[2], text='C)')\n",
    "\n",
    "plt.suptitle('RNA-seq_BSF_to_PCF_sen',fontsize=16,y=1.05)\n",
    "#plt.savefig(os.path.join('figures','example_1','Fig_14.png'))\n",
    "plt.show()"
   ]
  },
  {
   "cell_type": "markdown",
   "metadata": {},
   "source": [
    "#### RNA-Seq Abundance\n",
    "Vasquez JJ, 2014<p>\n",
    "Procyclic and bloodstream form mRNA transcriptome and ribosome profiling\n",
    "PMID:<a href=\"https://www.ncbi.nlm.nih.gov/pubmed/24442674 \">24442674</a> and\n",
    "<a href=\"https://tritrypdb.org/tritrypdb/app/record/dataset/DS_7252b6506e\">TryTripDB</a>"
   ]
  },
  {
   "cell_type": "code",
   "execution_count": null,
   "metadata": {},
   "outputs": [],
   "source": [
    "#abundace\n",
    "#[ n for n in X.columns if 'Abundance' in n]\n",
    "cols = ['sense - PF mRNA', \n",
    "            'sense - PF RiboProfile', \n",
    "            'sense - BF mRNA',\n",
    "            'sense - BF RiboProfile',\n",
    "            ]\n",
    "new_names = [\n",
    "'EF_Abundance_s_PCF_mRNA',\n",
    "'EF_Abundance_s_PCF_Ribo',\n",
    "'EF_Abundance_s_BSF_mRNA',\n",
    "'EF_Abundance_s_BSF_Ribo',     \n",
    "]\n",
    "temp= tryp_df[cols]\n",
    "temp= np.log10(temp[cols].replace(0,np.nan))\n",
    "ml_df[cols]=temp\n",
    "\n",
    "rename = dict(zip(cols,new_names))\n",
    "ml_df.rename(rename,axis=1, inplace=True)\n",
    "ml_df.shape"
   ]
  },
  {
   "cell_type": "code",
   "execution_count": null,
   "metadata": {},
   "outputs": [],
   "source": [
    "#differential abundace\n",
    "cols = ['sense - PF mRNA', \n",
    "            'sense - PF RiboProfile', \n",
    "            'sense - BF mRNA',\n",
    "            'sense - BF RiboProfile',\n",
    "            ]\n",
    "temp= tryp_df[cols]\n",
    "temp= temp[cols].replace(0,np.nan)\n",
    "temp['mRNA_BSF_vs_PCF'] = np.log2(temp['sense - BF mRNA']/\n",
    "                                  temp['sense - PF mRNA'])\n",
    "temp['RiboP_BSF_vs_PCF'] = np.log2(temp['sense - BF RiboProfile']/\n",
    "                                   temp['sense - PF RiboProfile'])\n",
    "ml_df[['EF_mRNA_BSF_vs_PCF',\n",
    "       'EF_RiboP_BSF_vs_PCF']]=temp[['mRNA_BSF_vs_PCF',\n",
    "                                     'RiboP_BSF_vs_PCF']]\n",
    "del temp\n",
    "gc.collect()\n",
    "ml_df.shape"
   ]
  },
  {
   "cell_type": "code",
   "execution_count": null,
   "metadata": {},
   "outputs": [],
   "source": [
    "'EF_Abundance_s_PCF_mRNA',\n",
    "'EF_Abundance_s_PCF_Ribo',\n",
    "'EF_Abundance_s_BSF_mRNA',\n",
    "'EF_Abundance_s_BSF_Ribo',\n",
    "\n",
    "fig,ax=plt.subplots(figsize=(6,6))\n",
    "from matplotlib.lines import Line2D\n",
    "ml_df['EF_Abundance_s_PCF_mRNA'].plot(kind='hist',histtype='step', \n",
    "                               ax=ax, label='PCF mRNA',linewidth=1.2,bins=50)\n",
    "ml_df['EF_Abundance_s_PCF_Ribo'].plot(kind='hist',histtype='step',\n",
    "                                      ax=ax, label='PCF riboProf',\n",
    "                                      linewidth=1.2,bins=50)\n",
    "ml_df['EF_Abundance_s_BSF_mRNA'].plot(kind='hist',histtype='step', ax=ax,\n",
    "                               label='BF mRNA',linewidth=1.2,bins=50)\n",
    "ml_df['EF_Abundance_s_BSF_Ribo'].plot(kind='hist',histtype='step', \n",
    "                                      ax=ax, label='BF RiboProfile',\n",
    "                                      linewidth=1.2,bins=50)\n",
    "\n",
    "plt.xlabel('log10 Read Count', fontsize=16)\n",
    "plt.ylabel('Counts', fontsize=16)\n",
    "handles, labels = ax.get_legend_handles_labels()\n",
    "new_handles = [Line2D([], [], c=h.get_edgecolor()) for h in handles]\n",
    "plt.legend(handles=new_handles, labels=labels)\n",
    "plt.title('RNA Abundance',fontsize=16)\n",
    "#plt.savefig(os.path.join('figures','example_1','Fig_15.png'))\n",
    "plt.show()"
   ]
  },
  {
   "cell_type": "code",
   "execution_count": null,
   "metadata": {},
   "outputs": [],
   "source": [
    "import numpy as np\n",
    "np.log2(10e7)"
   ]
  },
  {
   "cell_type": "code",
   "execution_count": null,
   "metadata": {},
   "outputs": [],
   "source": [
    "fig,ax=plt.subplots(figsize=(6,6))\n",
    "from matplotlib.lines import Line2D\n",
    "ml_df['EF_mRNA_BSF_vs_PCF'].plot(kind='hist',histtype='step', \n",
    "                                 ax=ax, label='mRNA BSF vs PCF',\n",
    "                                 linewidth=1.2,bins=50)\n",
    "ml_df['EF_RiboP_BSF_vs_PCF'].plot(kind='hist',histtype='step',\n",
    "                                  ax=ax, label='Ribo BSF vs PCF',\n",
    "                                  linewidth=1.2,bins=50)\n",
    "plt.xlabel('log2 Fold Change', fontsize=16)\n",
    "plt.ylabel('Counts', fontsize=16)\n",
    "handles, labels = ax.get_legend_handles_labels()\n",
    "new_handles = [Line2D([], [], c=h.get_edgecolor()) for h in handles]\n",
    "plt.legend(handles=new_handles, labels=labels)\n",
    "plt.title('RNA Differential Expression',fontsize=16)\n",
    "#plt.savefig(os.path.join('figures','example_1','Fig_16.png'))\n",
    "plt.show()\n"
   ]
  },
  {
   "cell_type": "markdown",
   "metadata": {},
   "source": [
    "#### RNA-Seq phenotyping\n",
    "Alsford S, 2011<p>\n",
    "High-throughput phenotyping using parallel sequencing of RNA interference targets in the African trypanosome\n",
    "PMID:<a href=\"https://www.ncbi.nlm.nih.gov/pubmed/21363968\">21363968</a> and\n",
    "<a href=\"https://tritrypdb.org/tritrypdb/app/record/dataset/dataset/DS_3f5188c7a8\">TryTripDB</a>\n",
    "    \n",
    "We further created a gene lethality descriptor by using the RNA interference (RNAi) high-throughput phenotyping experiment of Alsford S. et al. [25]. From this study, we extracted the log2 fold change of the parasite RNA-seq read counts before and after three days of RNAi induction.     "
   ]
  },
  {
   "cell_type": "code",
   "execution_count": null,
   "metadata": {},
   "outputs": [],
   "source": [
    "col = 'BFd3/Tet- (CDS only)'\n",
    "ml_df['EF_'+col.split('/')[0]]=np.log2(tryp_df[col].replace(0,np.nan))\n",
    "#The experiment with tags BFd6/Tet-,  PF/Tet-, difn/Tet- \n",
    "#['BFd3/Tet- (CDS only)','BFd6/Tet- (CDS only)','PF/Tet- (CDS only)','difn/Tet- (CDS only)']\n",
    "#contain a mixture of numbers and numbers followed by an asterisks. \n",
    "#Don't know why but can't included for now."
   ]
  },
  {
   "cell_type": "code",
   "execution_count": null,
   "metadata": {},
   "outputs": [],
   "source": [
    "fig,ax=plt.subplots(figsize=(6,6))\n",
    "from matplotlib.lines import Line2D\n",
    "ml_df['EF_'+col.split('/')[0]].plot(kind='hist',histtype='step', \n",
    "                                        ax=ax, label=col,linewidth=1.2,bins=50)\n",
    "\n",
    "plt.xlabel('log2 Fold Change', fontsize=16)\n",
    "plt.ylabel('Counts', fontsize=16)\n",
    "handles, labels = ax.get_legend_handles_labels()\n",
    "new_handles = [Line2D([], [], c=h.get_edgecolor()) for h in handles]\n",
    "plt.legend(handles=new_handles, labels=labels)\n",
    "plt.title('RNA Differential Expression',fontsize=16)\n",
    "#plt.savefig(os.path.join('figures','example_1','Fig_17.png'))\n",
    "plt.show()"
   ]
  },
  {
   "cell_type": "markdown",
   "metadata": {},
   "source": [
    "## More Computed Features out of creativity"
   ]
  },
  {
   "cell_type": "markdown",
   "metadata": {},
   "source": [
    "### Signal Peptide\n",
    "The presence of a signal peptide feature was engineered by averaging the scores of three signal peptide algorithms reported in the TryTripDB CSV file (NN Sum, NN D, HMM Prob), after min max normalization of the scores to distribute the values between 0 and 1. "
   ]
  },
  {
   "cell_type": "code",
   "execution_count": null,
   "metadata": {},
   "outputs": [],
   "source": [
    "#processing of the signal peptide data\n",
    "from sklearn.preprocessing import minmax_scale\n",
    "def parse_signal_ip(X):\n",
    "    if str(X).strip() != str(np.nan):\n",
    "        temp = [n.strip() for n in X.split(', ')]\n",
    "        score_a = float(temp[0].split(':')[1].strip())\n",
    "        score_b = float(temp[1].split(':')[1].strip())   \n",
    "        score_c = float(temp[2].split(':')[1].strip())\n",
    "        return score_a,score_b,score_c\n",
    "    else:\n",
    "        return 0, 0, 0\n",
    "temp = pd.DataFrame()\n",
    "temp[\"sig_a\"], temp[\"sig_b\"], temp[\"sig_c\"] = zip(*tryp_df['SignalP Scores'].apply(\n",
    "    lambda val: parse_signal_ip(val)))\n",
    "temp = pd.DataFrame(minmax_scale(temp.values, feature_range =(0,1) ),\n",
    "                    columns =[\"sig_a\",\"sig_b\",\"sig_b\"], index=temp.index)\n",
    "\n",
    "ml_df['sig_pep']=temp.sum(axis=1)"
   ]
  },
  {
   "cell_type": "code",
   "execution_count": null,
   "metadata": {},
   "outputs": [],
   "source": [
    "tryp_df['SignalP Scores'].dropna().head()"
   ]
  },
  {
   "cell_type": "markdown",
   "metadata": {},
   "source": [
    "### Distance from thelomer and position in the polycistronic transcript\n",
    "The GFF file available in the TriTrypDB database for T. brucei TREU927 was downloaded and analysed to create a descriptor reporting the distance of a gene transcript from its polycystron starting site [31]. Polycystron boundaries were chosen based on changes in transcript orientation. "
   ]
  },
  {
   "cell_type": "code",
   "execution_count": null,
   "metadata": {},
   "outputs": [],
   "source": [
    "#read the gff file and process    \n",
    "infile=os.path.join('input','TriTrypDB-45_TbruceiTREU927.gff')\n",
    "source_size = get_source_size(infile=infile)\n",
    "count=count_comment_line(infile=infile)\n",
    "gff = pd.read_table(infile,skiprows=count,header=None)\n",
    "columns = ['seqname','source','feature','start','end',\n",
    "           'score','strand','frame','attribute']\n",
    "gff.columns = columns\n",
    "gff=gff[gff.feature=='gene']\n",
    "gff['gene_id']=[get_attributes(n)['ID'] for n in gff.attribute]\n",
    "gff.drop(['attribute','score','frame','source','feature'],inplace=True,axis=1)\n",
    "\n",
    "\n",
    "gff.sort_values(['seqname','start'],inplace=True)\n",
    "gff['cds_middle']=(gff['start']+gff['end'])/2\n",
    "gff['cds_middle']=gff['cds_middle'].astype(int)\n",
    "gff['cds_lenght']=gff['end']-gff['start']\n",
    "gff['norm_pos']=[float(a)/source_size[b] for a,b in zip(gff.cds_middle,gff.seqname)]\n",
    "\n",
    "#shift the dataframe to capture when the genes change plolycistron\n",
    "gff['strand_shift'] = gff.strand.shift(1)\n",
    "gff['change']=gff['strand_shift']==gff['strand']\n",
    "\n",
    "polycistronic_id = []\n",
    "count=0\n",
    "for a,b in zip(gff.seqname, gff.change):\n",
    "    if b:\n",
    "        polycistronic_id.append(count)\n",
    "    else:\n",
    "        polycistronic_id.append(count+1)\n",
    "        count+=1\n",
    "gff['polycistron_id'] = [a+'_'+str(b) for a,b in zip(gff.seqname, polycistronic_id)]\n",
    "temp_g = gff.groupby(['polycistron_id'])\n",
    "temp_g = temp_g['start'].max()-temp_g['start'].min()\n",
    "polycistron_sizes = temp_g.to_dict()\n",
    "gff['polycistron_size']=[polycistron_sizes[n] for n in gff['polycistron_id']]\n",
    "temp_g = gff.groupby(['polycistron_id'])\n",
    "gff['polycistron_cds_start']=temp_g['cds_lenght'].cumsum()\n",
    "gff['polycistron_norm_pos']=gff['polycistron_cds_start']/gff['polycistron_size']\n",
    "#gff['polycistron_size']=\n",
    "gff.drop_duplicates(subset=['gene_id'],inplace=True)\n",
    "gff.set_index('gene_id',inplace=True)\n",
    "gff[1000:2000].head(10)"
   ]
  },
  {
   "cell_type": "code",
   "execution_count": null,
   "metadata": {},
   "outputs": [],
   "source": [
    "#add the new features\n",
    "print(ml_df.shape)\n",
    "ml_df=ml_df.join(gff[[#'norm_pos', 'polycistron_cds_start',\n",
    "                      'polycistron_norm_pos']], how='left', on='Gene ID')\n",
    "print(ml_df.shape)"
   ]
  },
  {
   "cell_type": "code",
   "execution_count": null,
   "metadata": {},
   "outputs": [],
   "source": [
    "#tryp_df['# TM Domains']"
   ]
  },
  {
   "cell_type": "code",
   "execution_count": null,
   "metadata": {},
   "outputs": [],
   "source": [
    "#Anoter normalization for the trans-membrane domain\n",
    "ml_df['tm_1']=tryp_df['# TM Domains']/tryp_df['Transcript Length']\n",
    "ml_df['Transcript Length'] = np.log(tryp_df['Transcript Length'])\n",
    "\n",
    "#Normalization of the SNPs data\n",
    "for c in [\n",
    "    'Non-Coding SNPs All Strains',\n",
    "    'NonSyn/Syn SNP Ratio All Strains', \n",
    "    'NonSynonymous SNPs All Strains', \n",
    "    'SNPs with Stop Codons All Strains', \n",
    "    'Synonymous SNPs All Strains', \n",
    "    'Total SNPs All Strains']:\n",
    "    ml_df[c]=tryp_df[c]/tryp_df['Transcript Length']"
   ]
  },
  {
   "cell_type": "markdown",
   "metadata": {},
   "source": [
    "### More feature from TritrypDB \n",
    "\n",
    "The next columns / sequence features do not need preprocessing, we just transfer these features to our ML dataset"
   ]
  },
  {
   "cell_type": "markdown",
   "metadata": {},
   "source": [
    "The changes in RNA abundance after overexpressing the wild type RNA helicase DHH1, or after expressing a mutant form of this protein, have been investigating with a cDNA microarrays strategy [26]. The dataset is reported in TriTrypDB as the log2 fold changes signal intensity between the wild type versus the experimentally induced conditions. For this reason, the dataset was transferred over the ML dataset without further processing. A similar cDNA microarray strategy was used to study the T. brucei response to Heat shock [27] and the log2 fold change between the wild type and treated condition was transferred over to the ML dataset. So it was the log2 fold change values of the protein abundance (evaluated with label-free mass spectrometry) between the PCF nuclei and the whole-cell lysates [28]. All the features added so far derive from experimental evidences, for this reason the names are preceded by the ‘EF’ (Experimental Feature) prefix for easier identification."
   ]
  },
  {
   "cell_type": "code",
   "execution_count": null,
   "metadata": {},
   "outputs": [],
   "source": [
    "cols =[\n",
    "    #experiment features\n",
    "    'DEAD:DQAD mutant - DHH1 mutant induced vs control (Tb427 DHH1 induced)',\n",
    "    'heatShock_vs_control (heat shock treated)',\n",
    "    'wild type - wild type induced vs control (Tb427 DHH1 induced)',\n",
    "    'Nuclear Enriched Sample (Tb927 Nuc Prot)',\n",
    "\n",
    "    #sequence features\n",
    "    'Ortholog count',\n",
    "    'Paralog count',]\n",
    "\n",
    "\n",
    "rename = {\n",
    "    'DEAD:DQAD mutant - DHH1 mutant induced vs control (Tb427 DHH1 induced)':\n",
    "    'EF_DHH1_mutant',\n",
    "    \n",
    "    'heatShock_vs_control (heat shock treated)':\n",
    "    'EF_heatShock',\n",
    "    \n",
    "    'wild type - wild type induced vs control (Tb427 DHH1 induced)':\n",
    "    'EF_DHH1_induced',\n",
    "    \n",
    "    'LS (Tb927 LSvSS QProt)':'EF_LS_QProt',\n",
    "    'SS (Tb927 LSvSS QProt)':'EF_SS_QProt',\n",
    "    \n",
    "    'Nuclear Enriched Sample (Tb927 Nuc Prot)':\n",
    "    'EF_Nuclear_enriched',}\n",
    "\n",
    "\n",
    "ml_df[cols]=tryp_df[cols]\n",
    "ml_df.rename(rename, axis=1, inplace=True)\n",
    "\n",
    "ml_df.shape"
   ]
  },
  {
   "cell_type": "code",
   "execution_count": null,
   "metadata": {},
   "outputs": [],
   "source": [
    "ml_df.head()"
   ]
  },
  {
   "cell_type": "code",
   "execution_count": null,
   "metadata": {},
   "outputs": [],
   "source": [
    "#[n for n in ml_df.columns if 'heatShock' in n]"
   ]
  },
  {
   "cell_type": "markdown",
   "metadata": {},
   "source": [
    "### Coding transcripts"
   ]
  },
  {
   "cell_type": "code",
   "execution_count": null,
   "metadata": {},
   "outputs": [],
   "source": [
    "#adding binary value, protein coding or not\n",
    "def get_prop(desc):\n",
    "    desc=desc.split('|')\n",
    "    desc = [n.strip().split('=') for n in desc][1:]\n",
    "    desc = dict(zip([n[0] for n in desc],[n[1] for n in desc]))\n",
    "    return(desc['gene'])\n",
    "      \n",
    "infile=os.path.join('input','TriTrypDB-45_TbruceiTREU927_AnnotatedProteins.fasta')\n",
    "handle = open(infile, \"rU\")\n",
    "prot_cod = []\n",
    "for record in SeqIO.parse(handle, \"fasta\"):\n",
    "    #print(record.id)\n",
    "    prot_cod.append(get_prop(record.description))\n",
    "prot_cod=set(prot_cod)  \n",
    "ml_df['prot_coding']=[1 if n in prot_cod else 0 for n in ml_df['Gene ID']]\n",
    "ml_df['prot_coding'].value_counts()"
   ]
  },
  {
   "cell_type": "markdown",
   "metadata": {},
   "source": [
    "## Sequence Based Features"
   ]
  },
  {
   "cell_type": "markdown",
   "metadata": {},
   "source": [
    "### ProFET \n",
    "(https://github.com/ddofer/ProFET)\n",
    "We further complemented our ML dataset by using the ProFET package to extracts hundreds of features covering the elementary biophysical and sequence-derived attributes of the T. brucei proteome [30]. "
   ]
  },
  {
   "cell_type": "code",
   "execution_count": 53,
   "metadata": {},
   "outputs": [
    {
     "name": "stdout",
     "output_type": "stream",
     "text": [
      "11203\n"
     ]
    }
   ],
   "source": [
    "fasta_file = os.path.join('input',\n",
    "                          'TriTrypDB-45_TbruceiTREU927_AnnotatedProteins.fasta')\n",
    "\n",
    "instances = len([n for n in SeqIO.parse(fasta_file, 'fasta')])\n",
    "print(instances)"
   ]
  },
  {
   "cell_type": "code",
   "execution_count": 54,
   "metadata": {},
   "outputs": [
    {
     "data": {
      "application/vnd.jupyter.widget-view+json": {
       "model_id": "0dd23a5436da40e89ebe948808c0fc0b",
       "version_major": 2,
       "version_minor": 0
      },
      "text/plain": [
       "HBox(children=(IntProgress(value=0, max=11203), HTML(value='')))"
      ]
     },
     "metadata": {},
     "output_type": "display_data"
    },
    {
     "name": "stdout",
     "output_type": "stream",
     "text": [
      "\n"
     ]
    }
   ],
   "source": [
    "#create a list of sequence,id to compute in parallel \n",
    "compute_list = []\n",
    "for index,record in tqdm_notebook(\n",
    "    enumerate(SeqIO.parse(fasta_file, 'fasta')), total=instances ):\n",
    "        sequence = str(record.seq)\n",
    "        temp_id = record.id\n",
    "        compute_list.append((sequence,temp_id))        "
   ]
  },
  {
   "cell_type": "code",
   "execution_count": 66,
   "metadata": {},
   "outputs": [
    {
     "name": "stdout",
     "output_type": "stream",
     "text": [
      "using 12 cores\n"
     ]
    }
   ],
   "source": [
    "#the code run only if the profet output file is \n",
    "#not present in the input folder\n",
    "\n",
    "#time to use some machine power\n",
    "#this is a workaround to do \n",
    "#multiprocessing onusing notebooks on windows\n",
    "from mylib import get_features\n",
    "import time\n",
    "import multiprocessing as mp\n",
    "cores = mp.cpu_count()\n",
    "print('using', cores, 'cores')\n",
    "if __name__==\"__main__\":\n",
    "    if not os.path.exists(os.path.join('input','profet.csv.gz')):\n",
    "        start_time = time.time()\n",
    "        p = mp.Pool(cores)\n",
    "        function_results = p.map(get_features.compute, compute_list)\n",
    "        p.close()\n",
    "        print(\"--- %s seconds ---\" % (time.time() - start_time))\n",
    "\n",
    "        function_results = pd.concat(function_results, axis=1)\n",
    "        function_results = function_results.T\n",
    "        function_results.dropna(axis=0,how ='all',inplace=True)\n",
    "        function_results.head()  \n",
    "        function_results.to_csv(os.path.join('input','profet.csv.gz'), compression='gzip')\n",
    "        print(function_results.head()) "
   ]
  },
  {
   "cell_type": "code",
   "execution_count": null,
   "metadata": {},
   "outputs": [],
   "source": [
    "def prepare_profet(infile=os.path.join('input','profet.csv.gz')):\n",
    "    df = pd.read_csv(infile)\n",
    "    df['Gene ID'] = [clean_id(n) for n in df['protein']]\n",
    "    df.drop_duplicates(subset=['Gene ID'],inplace=True)\n",
    "    df.set_index('Gene ID',inplace=True,drop=True)\n",
    "    del df['protein']\n",
    "    #we now remove sequence features with high correlation\n",
    "    df_corr = df.corr().abs()\n",
    "    upper = df_corr.where(np.triu(np.ones(df_corr.shape), k=1).astype(np.bool))\n",
    "    to_drop = [column for column in upper.columns if any(upper[column] > 0.98)]\n",
    "    df.drop(to_drop,axis=1,inplace=True)\n",
    "    return df\n",
    "\n",
    "\n",
    "temp =  prepare_profet()\n",
    "#already present in the output of TriTrypDB\n",
    "del temp['Molecular Weight']\n",
    "#final_df.drop(temp.columns,axis=1,inplace=True)\n",
    "temp.columns = ['AF_'+n for n in temp.columns]\n",
    "print(ml_df.shape)\n",
    "ml_df=ml_df.join(temp, how='left', on='Gene ID')\n",
    "print(ml_df.shape)"
   ]
  },
  {
   "cell_type": "markdown",
   "metadata": {},
   "source": [
    "### ELM linear motif\n",
    "\n",
    "Finally, from the ELM database [32], we downloaded the eukaryotic linear motifs, and we create a descriptor for each linear motif, reporting the number of motif instances in the primary sequence of the T. brucei proteome. With this final step, we ended up with a ML dataset of 1407 descriptors. "
   ]
  },
  {
   "cell_type": "code",
   "execution_count": null,
   "metadata": {},
   "outputs": [],
   "source": [
    "import re\n",
    "\n",
    "def find_motif(prot,motif):\n",
    "    return len(motif.findall(prot))\n",
    "\n",
    "infile=os.path.join('input', 'elm_classes.tsv')\n",
    "count=count_comment_line(infile=infile, tag='#')\n",
    "elm = pd.read_table(infile,skiprows=count)\n",
    "elm.head()\n",
    "elm_dict = {}\n",
    "for r,s in zip(elm.ELMIdentifier, elm.Regex):\n",
    "    elm_dict[r]=re.compile(s)\n",
    "\n",
    "motif_dict={}\n",
    "infile=os.path.join('input',\n",
    "                    'TriTrypDB-45_TbruceiTREU927_AnnotatedProteins.fasta')\n",
    "handle = open(infile, \"rU\")    \n",
    "for record in SeqIO.parse(handle, \"fasta\"):\n",
    "    temp_id = clean_id (record.id)\n",
    "    seq = str(record.seq)\n",
    "    res = [find_motif(seq, motif) for motif in elm_dict.values()]\n",
    "    #print (res)\n",
    "    motif_dict[temp_id]=res\n",
    "\n",
    "motif_dict = pd.DataFrame.from_dict(motif_dict,orient='index')           \n",
    "motif_dict.head()\n",
    "motif_dict.columns = elm_dict.keys()\n",
    "\n",
    "motif_dict['ELM_CLV'] = motif_dict[\n",
    "    [n for n in motif_dict.columns if n.startswith('CLV')]].sum(axis=1)\n",
    "motif_dict['ELM_DEG'] = motif_dict[\n",
    "    [n for n in motif_dict.columns if n.startswith('DEG')]].sum(axis=1)\n",
    "motif_dict['ELM_DOC'] = motif_dict[\n",
    "    [n for n in motif_dict.columns if n.startswith('DOC')]].sum(axis=1)\n",
    "motif_dict['ELM_LIG'] = motif_dict[\n",
    "    [n for n in motif_dict.columns if n.startswith('LIG')]].sum(axis=1)\n",
    "motif_dict['ELM_MOD'] = motif_dict[\n",
    "    [n for n in motif_dict.columns if n.startswith('MOD')]].sum(axis=1)\n",
    "motif_dict['ELM_TRG'] = motif_dict[\n",
    "    [n for n in motif_dict.columns if n.startswith('TRG')]].sum(axis=1)\n",
    "motif_dict.head()"
   ]
  },
  {
   "cell_type": "code",
   "execution_count": null,
   "metadata": {},
   "outputs": [],
   "source": [
    "#add the features\n",
    "print(ml_df.shape)\n",
    "motif_dict.columns = [n if n.startswith('ELM_') else 'ELM_'+n for n in motif_dict.columns]\n",
    "\n",
    "ml_df=ml_df.join(motif_dict, how='left', on='Gene ID')\n",
    "print(ml_df.shape)"
   ]
  },
  {
   "cell_type": "markdown",
   "metadata": {},
   "source": [
    "### Finalize dataset"
   ]
  },
  {
   "cell_type": "code",
   "execution_count": null,
   "metadata": {},
   "outputs": [],
   "source": [
    "ml_df.head()\n",
    "#cast the values onto smaller size\n",
    "ml_df = scripts.reduce_mem_usage(ml_df)"
   ]
  },
  {
   "cell_type": "code",
   "execution_count": null,
   "metadata": {},
   "outputs": [],
   "source": [
    "ml_df=ml_df.drop_duplicates('Gene ID')\n",
    "\n",
    "#save for later\n",
    "ml_df.to_csv(os.path.join('output', 'final_df.csv.gz'), compression='gzip')"
   ]
  },
  {
   "cell_type": "code",
   "execution_count": null,
   "metadata": {},
   "outputs": [],
   "source": [
    "#uncomment if you start from here\n",
    "#ml_df=pd.read_csv(os.path.join('output','final_df.gz'))\n",
    "#ml_df.head()"
   ]
  }
 ],
 "metadata": {
  "kernelspec": {
   "display_name": "Python 3",
   "language": "python",
   "name": "python3"
  },
  "language_info": {
   "codemirror_mode": {
    "name": "ipython",
    "version": 3
   },
   "file_extension": ".py",
   "mimetype": "text/x-python",
   "name": "python",
   "nbconvert_exporter": "python",
   "pygments_lexer": "ipython3",
   "version": "3.6.8"
  },
  "toc": {
   "base_numbering": 1,
   "nav_menu": {
    "height": "11.8333px",
    "width": "160px"
   },
   "number_sections": true,
   "sideBar": true,
   "skip_h1_title": false,
   "title_cell": "Table of Contents",
   "title_sidebar": "Contents",
   "toc_cell": false,
   "toc_position": {
    "height": "566.167px",
    "left": "161px",
    "top": "220.433px",
    "width": "304.333px"
   },
   "toc_section_display": true,
   "toc_window_display": true
  }
 },
 "nbformat": 4,
 "nbformat_minor": 2
}
